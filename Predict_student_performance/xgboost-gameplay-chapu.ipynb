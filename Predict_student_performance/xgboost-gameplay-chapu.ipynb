{
 "cells": [
  {
   "cell_type": "markdown",
   "metadata": {
    "papermill": {
     "duration": 0.012822,
     "end_time": "2023-04-05T15:59:00.111600",
     "exception": false,
     "start_time": "2023-04-05T15:59:00.098778",
     "status": "completed"
    },
    "tags": []
   },
   "source": [
    "This Notebook is based on the job of PR0FESS0ROP \n",
    "https://www.kaggle.com/code/pr0fess0rop/simple-xgb-model"
   ]
  },
  {
   "cell_type": "markdown",
   "metadata": {
    "papermill": {
     "duration": 0.011155,
     "end_time": "2023-04-05T15:59:00.134745",
     "exception": false,
     "start_time": "2023-04-05T15:59:00.123590",
     "status": "completed"
    },
    "tags": []
   },
   "source": [
    "# Libraries"
   ]
  },
  {
   "cell_type": "code",
   "execution_count": 1,
   "metadata": {
    "papermill": {
     "duration": 0.021127,
     "end_time": "2023-04-05T15:59:00.167278",
     "exception": false,
     "start_time": "2023-04-05T15:59:00.146151",
     "status": "completed"
    },
    "tags": []
   },
   "outputs": [],
   "source": [
    "# !pip install polars"
   ]
  },
  {
   "cell_type": "code",
   "execution_count": 2,
   "metadata": {
    "papermill": {
     "duration": 0.019499,
     "end_time": "2023-04-05T15:59:00.199573",
     "exception": false,
     "start_time": "2023-04-05T15:59:00.180074",
     "status": "completed"
    },
    "tags": []
   },
   "outputs": [],
   "source": [
    "# !pip install pyarrow"
   ]
  },
  {
   "cell_type": "code",
   "execution_count": 3,
   "metadata": {
    "papermill": {
     "duration": 0.019566,
     "end_time": "2023-04-05T15:59:00.230696",
     "exception": false,
     "start_time": "2023-04-05T15:59:00.211130",
     "status": "completed"
    },
    "tags": []
   },
   "outputs": [],
   "source": [
    "# !pip install xgboost"
   ]
  },
  {
   "cell_type": "code",
   "execution_count": 4,
   "metadata": {
    "papermill": {
     "duration": 0.019578,
     "end_time": "2023-04-05T15:59:00.261469",
     "exception": false,
     "start_time": "2023-04-05T15:59:00.241891",
     "status": "completed"
    },
    "tags": []
   },
   "outputs": [],
   "source": [
    "# !pip install lightgbm"
   ]
  },
  {
   "cell_type": "code",
   "execution_count": 5,
   "metadata": {
    "papermill": {
     "duration": 0.020101,
     "end_time": "2023-04-05T15:59:00.293017",
     "exception": false,
     "start_time": "2023-04-05T15:59:00.272916",
     "status": "completed"
    },
    "tags": []
   },
   "outputs": [],
   "source": [
    "# !pip install matplotlib"
   ]
  },
  {
   "cell_type": "code",
   "execution_count": 6,
   "metadata": {
    "papermill": {
     "duration": 0.01966,
     "end_time": "2023-04-05T15:59:00.323975",
     "exception": false,
     "start_time": "2023-04-05T15:59:00.304315",
     "status": "completed"
    },
    "tags": []
   },
   "outputs": [],
   "source": [
    "# !pip install colorama"
   ]
  },
  {
   "cell_type": "markdown",
   "metadata": {
    "papermill": {
     "duration": 0.011065,
     "end_time": "2023-04-05T15:59:00.346565",
     "exception": false,
     "start_time": "2023-04-05T15:59:00.335500",
     "status": "completed"
    },
    "tags": []
   },
   "source": [
    "# Reading Training file"
   ]
  },
  {
   "cell_type": "code",
   "execution_count": 7,
   "metadata": {
    "_cell_guid": "b1076dfc-b9ad-4769-8c92-a6c4dae69d19",
    "_uuid": "8f2839f25d086af736a60e9eeb907d3b93b6e0e5",
    "papermill": {
     "duration": 2.65214,
     "end_time": "2023-04-05T15:59:03.010114",
     "exception": false,
     "start_time": "2023-04-05T15:59:00.357974",
     "status": "completed"
    },
    "tags": []
   },
   "outputs": [],
   "source": [
    "# This Python 3 environment comes with many helpful analytics libraries installed\n",
    "# It is defined by the kaggle/python Docker image: https://github.com/kaggle/docker-python\n",
    "# For example, here's several helpful packages to load\n",
    "\n",
    "import gc\n",
    "import os\n",
    "\n",
    "import pandas as pd\n",
    "import numpy as np\n",
    "import warnings\n",
    "import pickle\n",
    "import polars as pl\n",
    "\n",
    "from collections import defaultdict\n",
    "from itertools import combinations\n",
    "import pyarrow as pa\n",
    "\n",
    "from xgboost import XGBClassifier\n",
    "\n",
    "# from lightgbm import LGBMClassifier\n",
    "# from lightgbm import early_stopping\n",
    "# from lightgbm import log_evaluation\n",
    "\n",
    "from sklearn.model_selection import KFold\n",
    "from sklearn.metrics import roc_auc_score, f1_score\n",
    "\n",
    "\n",
    "import matplotlib.pyplot as plt\n",
    "from colorama import Fore, Back, Style\n",
    "\n",
    "# Input data files are available in the read-only \"../input/\" directory\n",
    "# For example, running this (by clicking run or pressing Shift+Enter) will list all files under the input directory\n",
    "\n",
    "import os\n",
    "for dirname, _, filenames in os.walk('/kaggle/input'):\n",
    "    for filename in filenames:\n",
    "        print(os.path.join(dirname, filename))\n",
    "\n",
    "# settings\n",
    "warnings.filterwarnings(\"ignore\")"
   ]
  },
  {
   "cell_type": "code",
   "execution_count": 8,
   "metadata": {
    "papermill": {
     "duration": 0.023745,
     "end_time": "2023-04-05T15:59:03.045955",
     "exception": false,
     "start_time": "2023-04-05T15:59:03.022210",
     "status": "completed"
    },
    "tags": []
   },
   "outputs": [],
   "source": [
    "dtypes = {\"session_id\": pl.Int64,\n",
    "          \"elapsed_time\": pl.Int64,\n",
    "          \"event_name\": pl.Categorical,\n",
    "          \"name\": pl.Categorical,\n",
    "          \"level\": pl.Int8,\n",
    "          \"page\": pl.Float32,\n",
    "          \"room_coor_x\": pl.Float32,\n",
    "          \"room_coor_y\": pl.Float32,\n",
    "          \"screen_coor_x\": pl.Float32,\n",
    "          \"screen_coor_y\": pl.Float32,\n",
    "          \"hover_duration\": pl.Float32,\n",
    "          \"text\": pl.Categorical,\n",
    "          \"fqid\": pl.Categorical,\n",
    "          \"room_fqid\": pl.Categorical,\n",
    "          \"text_fqid\": pl.Categorical,\n",
    "          \"fullscreen\": pl.Int8,\n",
    "          \"hq\": pl.Int8,\n",
    "          \"music\": pl.Int8,\n",
    "          \"level_group\": pl.Categorical\n",
    "          }"
   ]
  },
  {
   "cell_type": "code",
   "execution_count": 9,
   "metadata": {
    "papermill": {
     "duration": 0.038082,
     "end_time": "2023-04-05T15:59:03.096226",
     "exception": false,
     "start_time": "2023-04-05T15:59:03.058144",
     "status": "completed"
    },
    "tags": []
   },
   "outputs": [],
   "source": [
    "columns = [\n",
    "\n",
    "    pl.col(\"page\").cast(pl.Float32),\n",
    "    (\n",
    "        (pl.col(\"elapsed_time\") - pl.col(\"elapsed_time\").shift(1)) \n",
    "         .fill_null(0)\n",
    "         .clip(0, 1e9)\n",
    "         .over([\"session_id\", \"level_group\"])\n",
    "         .alias(\"elapsed_time_diff\")\n",
    "    ),\n",
    "    (\n",
    "        (pl.col(\"screen_coor_x\") - pl.col(\"screen_coor_x\").shift(1)) \n",
    "         .abs()\n",
    "         .over([\"session_id\", \"level_group\"])\n",
    "        .alias(\"location_x_diff\") \n",
    "    ),\n",
    "    (\n",
    "        (pl.col(\"screen_coor_y\") - pl.col(\"screen_coor_y\").shift(1)) \n",
    "         .abs()\n",
    "         .over([\"session_id\", \"level_group\"])\n",
    "        .alias(\"location_y_diff\") \n",
    "    )\n",
    "]"
   ]
  },
  {
   "cell_type": "code",
   "execution_count": 10,
   "metadata": {
    "papermill": {
     "duration": 0.02306,
     "end_time": "2023-04-05T15:59:03.131233",
     "exception": false,
     "start_time": "2023-04-05T15:59:03.108173",
     "status": "completed"
    },
    "tags": []
   },
   "outputs": [
    {
     "data": {
      "text/plain": [
       "<polars.string_cache.StringCache at 0x24cff5295b0>"
      ]
     },
     "execution_count": 10,
     "metadata": {},
     "output_type": "execute_result"
    }
   ],
   "source": [
    "pl.StringCache()"
   ]
  },
  {
   "cell_type": "markdown",
   "metadata": {
    "papermill": {
     "duration": 0.011837,
     "end_time": "2023-04-05T15:59:03.155505",
     "exception": false,
     "start_time": "2023-04-05T15:59:03.143668",
     "status": "completed"
    },
    "tags": []
   },
   "source": [
    "### Reading from Kaggle Environment"
   ]
  },
  {
   "cell_type": "code",
   "execution_count": 11,
   "metadata": {
    "papermill": {
     "duration": 46.922512,
     "end_time": "2023-04-05T15:59:50.090066",
     "exception": false,
     "start_time": "2023-04-05T15:59:03.167554",
     "status": "completed"
    },
    "tags": []
   },
   "outputs": [
    {
     "name": "stdout",
     "output_type": "stream",
     "text": [
      "files not found in Kaggle environment:  None\n",
      "Wall time: 12 ms\n"
     ]
    }
   ],
   "source": [
    "%%time\n",
    "files_status = True\n",
    "\n",
    "try:    \n",
    "    #train = pd.read_csv('/kaggle/input/predict-student-performance-from-game-play/train.csv', dtype=dtypes)\n",
    "    train = (pl.read_csv('/kaggle/input/predict-student-performance-from-game-play/train.csv',dtypes=dtypes)\n",
    "                .drop([\"fullscreen\", \"hq\", \"music\"])\n",
    "                .with_columns(columns)\n",
    "              )\n",
    "    targets = pd.read_csv('/kaggle/input/predict-student-performance-from-game-play/train_labels.csv')\n",
    "    #test = pd.read_csv(\"'/kaggle/input/predict-student-performance-from-game-play/test.csv'\")\n",
    "except OSError as e:\n",
    "    print(\"files not found in Kaggle environment: \",e.errno)\n",
    "    files_status = False"
   ]
  },
  {
   "cell_type": "markdown",
   "metadata": {
    "papermill": {
     "duration": 0.011559,
     "end_time": "2023-04-05T15:59:50.113530",
     "exception": false,
     "start_time": "2023-04-05T15:59:50.101971",
     "status": "completed"
    },
    "tags": []
   },
   "source": [
    "### Reading from local environment (files folder)"
   ]
  },
  {
   "cell_type": "code",
   "execution_count": 12,
   "metadata": {
    "papermill": {
     "duration": 0.022575,
     "end_time": "2023-04-05T15:59:50.147851",
     "exception": false,
     "start_time": "2023-04-05T15:59:50.125276",
     "status": "completed"
    },
    "tags": []
   },
   "outputs": [
    {
     "name": "stdout",
     "output_type": "stream",
     "text": [
      "Wall time: 7.62 s\n"
     ]
    }
   ],
   "source": [
    "%%time\n",
    "#If environment is not kaggle notebook, read them from a folder \n",
    "\n",
    "try:\n",
    "    if files_status == False:\n",
    "        train = (pl.read_csv(\"predict-student-performance-from-game-play/train.csv\", dtypes=dtypes)\n",
    "                    .drop([\"fullscreen\", \"hq\", \"music\"])\n",
    "                    .with_columns(columns)\n",
    "                )\n",
    "        targets = pd.read_csv('predict-student-performance-from-game-play/train_labels.csv')\n",
    "except OSError as e:\n",
    "    print(\"Files not found\")"
   ]
  },
  {
   "cell_type": "code",
   "execution_count": 13,
   "metadata": {
    "papermill": {
     "duration": 0.022048,
     "end_time": "2023-04-05T15:59:50.181931",
     "exception": false,
     "start_time": "2023-04-05T15:59:50.159883",
     "status": "completed"
    },
    "tags": []
   },
   "outputs": [
    {
     "name": "stdout",
     "output_type": "stream",
     "text": [
      "Memory usage of dataframe is 2366.85 MB\n"
     ]
    }
   ],
   "source": [
    "print(f\"Memory usage of dataframe is {round(train.estimated_size('mb'), 2)} MB\")"
   ]
  },
  {
   "cell_type": "markdown",
   "metadata": {
    "papermill": {
     "duration": 0.012169,
     "end_time": "2023-04-05T15:59:50.206104",
     "exception": false,
     "start_time": "2023-04-05T15:59:50.193935",
     "status": "completed"
    },
    "tags": []
   },
   "source": [
    "# Reducing training file"
   ]
  },
  {
   "cell_type": "code",
   "execution_count": 14,
   "metadata": {
    "papermill": {
     "duration": 0.029847,
     "end_time": "2023-04-05T15:59:50.247904",
     "exception": false,
     "start_time": "2023-04-05T15:59:50.218057",
     "status": "completed"
    },
    "tags": []
   },
   "outputs": [],
   "source": [
    "def reduce_memory_usage_pl(df, name):\n",
    "    \"\"\" Reduce memory usage by polars dataframe {df} with name {name} by changing its data types.\n",
    "        Original pandas version of this function: https://www.kaggle.com/code/arjanso/reducing-dataframe-memory-size-by-65 \"\"\"\n",
    "    print(f\"Memory usage of dataframe {name} is {round(df.estimated_size('mb'), 2)} MB\")\n",
    "    Numeric_Int_types = [pl.Int8,pl.Int16,pl.Int32,pl.Int64]\n",
    "    Numeric_Float_types = [pl.Float32,pl.Float64]    \n",
    "    for col in df.columns:\n",
    "        col_type = df[col].dtype\n",
    "        c_min = df[col].min()\n",
    "        c_max = df[col].max()\n",
    "        if col_type in Numeric_Int_types:\n",
    "            if c_min > np.iinfo(np.int8).min and c_max < np.iinfo(np.int8).max:\n",
    "                df = df.with_columns(df[col].cast(pl.Int8))\n",
    "            elif c_min > np.iinfo(np.int16).min and c_max < np.iinfo(np.int16).max:\n",
    "                df = df.with_columns(df[col].cast(pl.Int16))\n",
    "            elif c_min > np.iinfo(np.int32).min and c_max < np.iinfo(np.int32).max:\n",
    "                df = df.with_columns(df[col].cast(pl.Int32))\n",
    "            elif c_min > np.iinfo(np.int64).min and c_max < np.iinfo(np.int64).max:\n",
    "                df = df.with_columns(df[col].cast(pl.Int64))\n",
    "        elif col_type in Numeric_Float_types:\n",
    "            if c_min > np.finfo(np.float32).min and c_max < np.finfo(np.float32).max:\n",
    "                df = df.with_columns(df[col].cast(pl.Float32))\n",
    "            else:\n",
    "                pass\n",
    "        elif col_type == pl.Utf8:\n",
    "            df = df.with_columns(df[col].cast(pl.Categorical))\n",
    "        else:\n",
    "            pass\n",
    "    \n",
    "    print(f\"Memory usage of dataframe {name} became {round(df.estimated_size('mb'), 2)} MB\")\n",
    "    return df"
   ]
  },
  {
   "cell_type": "code",
   "execution_count": 15,
   "metadata": {
    "papermill": {
     "duration": 1.173257,
     "end_time": "2023-04-05T15:59:51.433715",
     "exception": false,
     "start_time": "2023-04-05T15:59:50.260458",
     "status": "completed"
    },
    "tags": []
   },
   "outputs": [
    {
     "name": "stdout",
     "output_type": "stream",
     "text": [
      "Memory usage of dataframe train_subset is 2366.85 MB\n",
      "Memory usage of dataframe train_subset became 2015.75 MB\n"
     ]
    }
   ],
   "source": [
    "# Reducing polar\n",
    "train = reduce_memory_usage_pl(train, \"train_subset\")"
   ]
  },
  {
   "cell_type": "code",
   "execution_count": 16,
   "metadata": {
    "papermill": {
     "duration": 0.020782,
     "end_time": "2023-04-05T15:59:51.467039",
     "exception": false,
     "start_time": "2023-04-05T15:59:51.446257",
     "status": "completed"
    },
    "tags": []
   },
   "outputs": [
    {
     "name": "stdout",
     "output_type": "stream",
     "text": [
      "['session_id', 'index', 'elapsed_time', 'event_name', 'name', 'level', 'page', 'room_coor_x', 'room_coor_y', 'screen_coor_x', 'screen_coor_y', 'hover_duration', 'text', 'fqid', 'room_fqid', 'text_fqid', 'level_group', 'elapsed_time_diff', 'location_x_diff', 'location_y_diff']\n"
     ]
    }
   ],
   "source": [
    "print(train.columns)"
   ]
  },
  {
   "cell_type": "code",
   "execution_count": 17,
   "metadata": {
    "papermill": {
     "duration": 0.033178,
     "end_time": "2023-04-05T15:59:51.512272",
     "exception": false,
     "start_time": "2023-04-05T15:59:51.479094",
     "status": "completed"
    },
    "tags": []
   },
   "outputs": [
    {
     "data": {
      "text/html": [
       "<div><style>\n",
       ".dataframe > thead > tr > th,\n",
       ".dataframe > tbody > tr > td {\n",
       "  text-align: right;\n",
       "}\n",
       "</style>\n",
       "<small>shape: (4, 20)</small><table border=\"1\" class=\"dataframe\"><thead><tr><th>session_id</th><th>index</th><th>elapsed_time</th><th>event_name</th><th>name</th><th>level</th><th>page</th><th>room_coor_x</th><th>room_coor_y</th><th>screen_coor_x</th><th>screen_coor_y</th><th>hover_duration</th><th>text</th><th>fqid</th><th>room_fqid</th><th>text_fqid</th><th>level_group</th><th>elapsed_time_diff</th><th>location_x_diff</th><th>location_y_diff</th></tr><tr><td>i64</td><td>i16</td><td>i32</td><td>cat</td><td>cat</td><td>i8</td><td>f32</td><td>f32</td><td>f32</td><td>f32</td><td>f32</td><td>f32</td><td>cat</td><td>cat</td><td>cat</td><td>cat</td><td>cat</td><td>i32</td><td>f32</td><td>f32</td></tr></thead><tbody><tr><td>22100221145014656</td><td>1601</td><td>5485166</td><td>&quot;navigate_click…</td><td>&quot;undefined&quot;</td><td>22</td><td>null</td><td>332.696075</td><td>141.493179</td><td>545.0</td><td>221.0</td><td>null</td><td>null</td><td>&quot;chap4_finale_c…</td><td>&quot;tunic.capitol_…</td><td>null</td><td>&quot;13-22&quot;</td><td>1935</td><td>62.0</td><td>52.0</td></tr><tr><td>22100221145014656</td><td>1602</td><td>5485917</td><td>&quot;navigate_click…</td><td>&quot;undefined&quot;</td><td>22</td><td>null</td><td>369.912872</td><td>140.569199</td><td>611.0</td><td>217.0</td><td>null</td><td>null</td><td>null</td><td>&quot;tunic.capitol_…</td><td>null</td><td>&quot;13-22&quot;</td><td>751</td><td>66.0</td><td>4.0</td></tr><tr><td>22100221145014656</td><td>1603</td><td>5486753</td><td>&quot;navigate_click…</td><td>&quot;undefined&quot;</td><td>22</td><td>null</td><td>252.299652</td><td>123.805893</td><td>526.0</td><td>232.0</td><td>null</td><td>null</td><td>&quot;chap4_finale_c…</td><td>&quot;tunic.capitol_…</td><td>null</td><td>&quot;13-22&quot;</td><td>836</td><td>85.0</td><td>15.0</td></tr><tr><td>22100221145014656</td><td>1604</td><td>5487952</td><td>&quot;checkpoint&quot;</td><td>&quot;basic&quot;</td><td>22</td><td>null</td><td>null</td><td>null</td><td>null</td><td>null</td><td>null</td><td>null</td><td>&quot;chap4_finale_c…</td><td>&quot;tunic.capitol_…</td><td>null</td><td>&quot;13-22&quot;</td><td>1199</td><td>null</td><td>null</td></tr></tbody></table></div>"
      ],
      "text/plain": [
       "shape: (4, 20)\n",
       "┌───────────────┬───────┬──────────────┬───────────────┬───┬─────────────┬───────────────┬──────────────┬──────────────┐\n",
       "│ session_id    ┆ index ┆ elapsed_time ┆ event_name    ┆ … ┆ level_group ┆ elapsed_time_ ┆ location_x_d ┆ location_y_d │\n",
       "│ ---           ┆ ---   ┆ ---          ┆ ---           ┆   ┆ ---         ┆ diff          ┆ iff          ┆ iff          │\n",
       "│ i64           ┆ i16   ┆ i32          ┆ cat           ┆   ┆ cat         ┆ ---           ┆ ---          ┆ ---          │\n",
       "│               ┆       ┆              ┆               ┆   ┆             ┆ i32           ┆ f32          ┆ f32          │\n",
       "╞═══════════════╪═══════╪══════════════╪═══════════════╪═══╪═════════════╪═══════════════╪══════════════╪══════════════╡\n",
       "│ 2210022114501 ┆ 1601  ┆ 5485166      ┆ navigate_clic ┆ … ┆ 13-22       ┆ 1935          ┆ 62.0         ┆ 52.0         │\n",
       "│ 4656          ┆       ┆              ┆ k             ┆   ┆             ┆               ┆              ┆              │\n",
       "│ 2210022114501 ┆ 1602  ┆ 5485917      ┆ navigate_clic ┆ … ┆ 13-22       ┆ 751           ┆ 66.0         ┆ 4.0          │\n",
       "│ 4656          ┆       ┆              ┆ k             ┆   ┆             ┆               ┆              ┆              │\n",
       "│ 2210022114501 ┆ 1603  ┆ 5486753      ┆ navigate_clic ┆ … ┆ 13-22       ┆ 836           ┆ 85.0         ┆ 15.0         │\n",
       "│ 4656          ┆       ┆              ┆ k             ┆   ┆             ┆               ┆              ┆              │\n",
       "│ 2210022114501 ┆ 1604  ┆ 5487952      ┆ checkpoint    ┆ … ┆ 13-22       ┆ 1199          ┆ null         ┆ null         │\n",
       "│ 4656          ┆       ┆              ┆               ┆   ┆             ┆               ┆              ┆              │\n",
       "└───────────────┴───────┴──────────────┴───────────────┴───┴─────────────┴───────────────┴──────────────┴──────────────┘"
      ]
     },
     "execution_count": 17,
     "metadata": {},
     "output_type": "execute_result"
    }
   ],
   "source": [
    "train.tail(4)"
   ]
  },
  {
   "cell_type": "markdown",
   "metadata": {
    "papermill": {
     "duration": 0.012428,
     "end_time": "2023-04-05T15:59:51.537561",
     "exception": false,
     "start_time": "2023-04-05T15:59:51.525133",
     "status": "completed"
    },
    "tags": []
   },
   "source": [
    "# Feature Engineering for training file"
   ]
  },
  {
   "cell_type": "code",
   "execution_count": 18,
   "metadata": {
    "papermill": {
     "duration": 0.035201,
     "end_time": "2023-04-05T15:59:51.585220",
     "exception": false,
     "start_time": "2023-04-05T15:59:51.550019",
     "status": "completed"
    },
    "tags": []
   },
   "outputs": [],
   "source": [
    "CATS = ['event_name', 'name', 'fqid', 'room_fqid', 'text_fqid']\n",
    "NUMS = ['page', 'room_coor_x', 'room_coor_y', 'screen_coor_x', 'screen_coor_y',\n",
    "        'hover_duration', 'elapsed_time_diff']\n",
    "\n",
    "name_feature = ['basic', 'undefined', 'close', 'open', 'prev', 'next']\n",
    "event_name_feature = ['cutscene_click', 'person_click', 'navigate_click',\n",
    "       'observation_click', 'notification_click', 'object_click',\n",
    "       'object_hover', 'map_hover', 'map_click', 'checkpoint',\n",
    "       'notebook_click']\n",
    "\n",
    "# from https://www.kaggle.com/code/leehomhuang/catboost-baseline-with-lots-features-inference :\n",
    "fqid_lists = ['worker', 'archivist', 'gramps', 'wells', 'toentry', 'confrontation', 'crane_ranger', 'groupconvo', 'flag_girl', 'tomap', 'tostacks', 'tobasement', 'archivist_glasses', 'boss', 'journals', 'seescratches', 'groupconvo_flag', 'cs', 'teddy', 'expert', 'businesscards', 'ch3start', 'tunic.historicalsociety', 'tofrontdesk', 'savedteddy', 'plaque', 'glasses', 'tunic.drycleaner', 'reader_flag', 'tunic.library', 'tracks', 'tunic.capitol_2', 'trigger_scarf', 'reader', 'directory', 'tunic.capitol_1', 'journals.pic_0.next', 'unlockdoor', 'tunic', 'what_happened', 'tunic.kohlcenter', 'tunic.humanecology', 'colorbook', 'logbook', 'businesscards.card_0.next', 'journals.hub.topics', 'logbook.page.bingo', 'journals.pic_1.next', 'journals_flag', 'reader.paper0.next', 'tracks.hub.deer', 'reader_flag.paper0.next', 'trigger_coffee', 'wellsbadge', 'journals.pic_2.next', 'tomicrofiche', 'journals_flag.pic_0.bingo', 'plaque.face.date', 'notebook', 'tocloset_dirty', 'businesscards.card_bingo.bingo', 'businesscards.card_1.next', 'tunic.wildlife', 'tunic.hub.slip', 'tocage', 'journals.pic_2.bingo', 'tocollectionflag', 'tocollection', 'chap4_finale_c', 'chap2_finale_c', 'lockeddoor', 'journals_flag.hub.topics', 'tunic.capitol_0', 'reader_flag.paper2.bingo', 'photo', 'tunic.flaghouse', 'reader.paper1.next', 'directory.closeup.archivist', 'intro', 'businesscards.card_bingo.next', 'reader.paper2.bingo', 'retirement_letter', 'remove_cup', 'journals_flag.pic_0.next', 'magnify', 'coffee', 'key', 'togrampa', 'reader_flag.paper1.next', 'janitor', 'tohallway', 'chap1_finale', 'report', 'outtolunch', 'journals_flag.hub.topics_old', 'journals_flag.pic_1.next', 'reader.paper2.next', 'chap1_finale_c', 'reader_flag.paper2.next', 'door_block_talk', 'journals_flag.pic_1.bingo', 'journals_flag.pic_2.next', 'journals_flag.pic_2.bingo', 'block_magnify', 'reader.paper0.prev', 'block', 'reader_flag.paper0.prev', 'block_0', 'door_block_clean', 'reader.paper2.prev', 'reader.paper1.prev', 'doorblock', 'tocloset', 'reader_flag.paper2.prev', 'reader_flag.paper1.prev', 'block_tomap2', 'journals_flag.pic_0_old.next', 'journals_flag.pic_1_old.next', 'block_tocollection', 'block_nelson', 'journals_flag.pic_2_old.next', 'block_tomap1', 'block_badge', 'need_glasses', 'block_badge_2', 'fox', 'block_1']\n",
    "text_lists = ['tunic.historicalsociety.cage.confrontation', 'tunic.wildlife.center.crane_ranger.crane', 'tunic.historicalsociety.frontdesk.archivist.newspaper', 'tunic.historicalsociety.entry.groupconvo', 'tunic.wildlife.center.wells.nodeer', 'tunic.historicalsociety.frontdesk.archivist.have_glass', 'tunic.drycleaner.frontdesk.worker.hub', 'tunic.historicalsociety.closet_dirty.gramps.news', 'tunic.humanecology.frontdesk.worker.intro', 'tunic.historicalsociety.frontdesk.archivist_glasses.confrontation', 'tunic.historicalsociety.basement.seescratches', 'tunic.historicalsociety.collection.cs', 'tunic.flaghouse.entry.flag_girl.hello', 'tunic.historicalsociety.collection.gramps.found', 'tunic.historicalsociety.basement.ch3start', 'tunic.historicalsociety.entry.groupconvo_flag', 'tunic.library.frontdesk.worker.hello', 'tunic.library.frontdesk.worker.wells', 'tunic.historicalsociety.collection_flag.gramps.flag', 'tunic.historicalsociety.basement.savedteddy', 'tunic.library.frontdesk.worker.nelson', 'tunic.wildlife.center.expert.removed_cup', 'tunic.library.frontdesk.worker.flag', 'tunic.historicalsociety.frontdesk.archivist.hello', 'tunic.historicalsociety.closet.gramps.intro_0_cs_0', 'tunic.historicalsociety.entry.boss.flag', 'tunic.flaghouse.entry.flag_girl.symbol', 'tunic.historicalsociety.closet_dirty.trigger_scarf', 'tunic.drycleaner.frontdesk.worker.done', 'tunic.historicalsociety.closet_dirty.what_happened', 'tunic.wildlife.center.wells.animals', 'tunic.historicalsociety.closet.teddy.intro_0_cs_0', 'tunic.historicalsociety.cage.glasses.afterteddy', 'tunic.historicalsociety.cage.teddy.trapped', 'tunic.historicalsociety.cage.unlockdoor', 'tunic.historicalsociety.stacks.journals.pic_2.bingo', 'tunic.historicalsociety.entry.wells.flag', 'tunic.humanecology.frontdesk.worker.badger', 'tunic.historicalsociety.stacks.journals_flag.pic_0.bingo', 'tunic.historicalsociety.closet.intro', 'tunic.historicalsociety.closet.retirement_letter.hub', 'tunic.historicalsociety.entry.directory.closeup.archivist', 'tunic.historicalsociety.collection.tunic.slip', 'tunic.kohlcenter.halloffame.plaque.face.date', 'tunic.historicalsociety.closet_dirty.trigger_coffee', 'tunic.drycleaner.frontdesk.logbook.page.bingo', 'tunic.library.microfiche.reader.paper2.bingo', 'tunic.kohlcenter.halloffame.togrampa', 'tunic.capitol_2.hall.boss.haveyougotit', 'tunic.wildlife.center.wells.nodeer_recap', 'tunic.historicalsociety.cage.glasses.beforeteddy', 'tunic.historicalsociety.closet_dirty.gramps.helpclean', 'tunic.wildlife.center.expert.recap', 'tunic.historicalsociety.frontdesk.archivist.have_glass_recap', 'tunic.historicalsociety.stacks.journals_flag.pic_1.bingo', 'tunic.historicalsociety.cage.lockeddoor', 'tunic.historicalsociety.stacks.journals_flag.pic_2.bingo', 'tunic.historicalsociety.collection.gramps.lost', 'tunic.historicalsociety.closet.notebook', 'tunic.historicalsociety.frontdesk.magnify', 'tunic.humanecology.frontdesk.businesscards.card_bingo.bingo', 'tunic.wildlife.center.remove_cup', 'tunic.library.frontdesk.wellsbadge.hub', 'tunic.wildlife.center.tracks.hub.deer', 'tunic.historicalsociety.frontdesk.key', 'tunic.library.microfiche.reader_flag.paper2.bingo', 'tunic.flaghouse.entry.colorbook', 'tunic.wildlife.center.coffee', 'tunic.capitol_1.hall.boss.haveyougotit', 'tunic.historicalsociety.basement.janitor', 'tunic.historicalsociety.collection_flag.gramps.recap', 'tunic.wildlife.center.wells.animals2', 'tunic.flaghouse.entry.flag_girl.symbol_recap', 'tunic.historicalsociety.closet_dirty.photo', 'tunic.historicalsociety.stacks.outtolunch', 'tunic.library.frontdesk.worker.wells_recap', 'tunic.historicalsociety.frontdesk.archivist_glasses.confrontation_recap', 'tunic.capitol_0.hall.boss.talktogramps', 'tunic.historicalsociety.closet.photo', 'tunic.historicalsociety.collection.tunic', 'tunic.historicalsociety.closet.teddy.intro_0_cs_5', 'tunic.historicalsociety.closet_dirty.gramps.archivist', 'tunic.historicalsociety.closet_dirty.door_block_talk', 'tunic.historicalsociety.entry.boss.flag_recap', 'tunic.historicalsociety.frontdesk.archivist.need_glass_0', 'tunic.historicalsociety.entry.wells.talktogramps', 'tunic.historicalsociety.frontdesk.block_magnify', 'tunic.historicalsociety.frontdesk.archivist.foundtheodora', 'tunic.historicalsociety.closet_dirty.gramps.nothing', 'tunic.historicalsociety.closet_dirty.door_block_clean', 'tunic.capitol_1.hall.boss.writeitup', 'tunic.library.frontdesk.worker.nelson_recap', 'tunic.library.frontdesk.worker.hello_short', 'tunic.historicalsociety.stacks.block', 'tunic.historicalsociety.frontdesk.archivist.need_glass_1', 'tunic.historicalsociety.entry.boss.talktogramps', 'tunic.historicalsociety.frontdesk.archivist.newspaper_recap', 'tunic.historicalsociety.entry.wells.flag_recap', 'tunic.drycleaner.frontdesk.worker.done2', 'tunic.library.frontdesk.worker.flag_recap', 'tunic.humanecology.frontdesk.block_0', 'tunic.library.frontdesk.worker.preflag', 'tunic.historicalsociety.basement.gramps.seeyalater', 'tunic.flaghouse.entry.flag_girl.hello_recap', 'tunic.historicalsociety.closet.doorblock', 'tunic.drycleaner.frontdesk.worker.takealook', 'tunic.historicalsociety.basement.gramps.whatdo', 'tunic.library.frontdesk.worker.droppedbadge', 'tunic.historicalsociety.entry.block_tomap2', 'tunic.library.frontdesk.block_nelson', 'tunic.library.microfiche.block_0', 'tunic.historicalsociety.entry.block_tocollection', 'tunic.historicalsociety.entry.block_tomap1', 'tunic.historicalsociety.collection.gramps.look_0', 'tunic.library.frontdesk.block_badge', 'tunic.historicalsociety.cage.need_glasses', 'tunic.library.frontdesk.block_badge_2', 'tunic.kohlcenter.halloffame.block_0', 'tunic.capitol_0.hall.chap1_finale_c', 'tunic.capitol_1.hall.chap2_finale_c', 'tunic.capitol_2.hall.chap4_finale_c', 'tunic.wildlife.center.fox.concern', 'tunic.drycleaner.frontdesk.block_0', 'tunic.historicalsociety.entry.gramps.hub', 'tunic.humanecology.frontdesk.block_1', 'tunic.drycleaner.frontdesk.block_1']\n",
    "room_lists = ['tunic.historicalsociety.entry', 'tunic.wildlife.center', 'tunic.historicalsociety.cage', 'tunic.library.frontdesk', 'tunic.historicalsociety.frontdesk', 'tunic.historicalsociety.stacks', 'tunic.historicalsociety.closet_dirty', 'tunic.humanecology.frontdesk', 'tunic.historicalsociety.basement', 'tunic.kohlcenter.halloffame', 'tunic.library.microfiche', 'tunic.drycleaner.frontdesk', 'tunic.historicalsociety.collection', 'tunic.historicalsociety.closet', 'tunic.flaghouse.entry', 'tunic.historicalsociety.collection_flag', 'tunic.capitol_1.hall', 'tunic.capitol_0.hall', 'tunic.capitol_2.hall']"
   ]
  },
  {
   "cell_type": "code",
   "execution_count": 19,
   "metadata": {
    "papermill": {
     "duration": 0.067546,
     "end_time": "2023-04-05T15:59:51.666063",
     "exception": false,
     "start_time": "2023-04-05T15:59:51.598517",
     "status": "completed"
    },
    "tags": []
   },
   "outputs": [],
   "source": [
    "def feature_engineer_pl(x, grp, use_extra, feature_suffix):\n",
    "        \n",
    "    aggs = [\n",
    "        pl.col(\"index\").count().alias(f\"session_number_{feature_suffix}\"),\n",
    "      \n",
    "        *[pl.col(c).drop_nulls().n_unique().alias(f\"{c}_unique_{feature_suffix}\") for c in CATS],\n",
    "        [pl.col(c).quantile(0.1, \"nearest\").alias(f\"{c}_quantile1_{feature_suffix}\") for c in NUMS],\n",
    "        *[pl.col(c).quantile(0.2, \"nearest\").alias(f\"{c}_quantile2_{feature_suffix}\") for c in NUMS],\n",
    "        *[pl.col(c).quantile(0.4, \"nearest\").alias(f\"{c}_quantile4_{feature_suffix}\") for c in NUMS],\n",
    "        *[pl.col(c).quantile(0.6, \"nearest\").alias(f\"{c}_quantile6_{feature_suffix}\") for c in NUMS],\n",
    "        *[pl.col(c).quantile(0.8, \"nearest\").alias(f\"{c}_quantile8_{feature_suffix}\") for c in NUMS],\n",
    "        *[pl.col(c).quantile(0.9, \"nearest\").alias(f\"{c}_quantile9_{feature_suffix}\") for c in NUMS],\n",
    "        \n",
    "        *[pl.col(c).mean().alias(f\"{c}_mean_{feature_suffix}\") for c in NUMS],\n",
    "        *[pl.col(c).std().alias(f\"{c}_std_{feature_suffix}\") for c in NUMS],\n",
    "        *[pl.col(c).min().alias(f\"{c}_min_{feature_suffix}\") for c in NUMS],\n",
    "        *[pl.col(c).max().alias(f\"{c}_max_{feature_suffix}\") for c in NUMS],\n",
    "        \n",
    "        *[pl.col(\"event_name\").filter(pl.col(\"event_name\") == c).count().alias(f\"{c}_event_name_counts{feature_suffix}\")for c in event_name_feature],\n",
    "        *[pl.col(\"elapsed_time_diff\").filter(pl.col(\"event_name\")==c).quantile(0.1, \"nearest\").alias(f\"{c}_ET_quantile1_{feature_suffix}\") for c in event_name_feature],\n",
    "        *[pl.col(\"elapsed_time_diff\").filter(pl.col(\"event_name\")==c).quantile(0.2, \"nearest\").alias(f\"{c}_ET_quantile2_{feature_suffix}\") for c in event_name_feature],\n",
    "        *[pl.col(\"elapsed_time_diff\").filter(pl.col(\"event_name\")==c).quantile(0.4, \"nearest\").alias(f\"{c}_ET_quantile4_{feature_suffix}\") for c in event_name_feature],\n",
    "        *[pl.col(\"elapsed_time_diff\").filter(pl.col(\"event_name\")==c).quantile(0.6, \"nearest\").alias(f\"{c}_ET_quantile6_{feature_suffix}\") for c in event_name_feature],\n",
    "        *[pl.col(\"elapsed_time_diff\").filter(pl.col(\"event_name\")==c).quantile(0.8, \"nearest\").alias(f\"{c}_ET_quantile8_{feature_suffix}\") for c in event_name_feature],\n",
    "        *[pl.col(\"elapsed_time_diff\").filter(pl.col(\"event_name\")==c).quantile(0.9, \"nearest\").alias(f\"{c}_ET_quantile9_{feature_suffix}\") for c in event_name_feature],      \n",
    "        *[pl.col(\"elapsed_time_diff\").filter(pl.col(\"event_name\")==c).mean().alias(f\"{c}_ET_mean_{feature_suffix}\") for c in event_name_feature],\n",
    "        *[pl.col(\"elapsed_time_diff\").filter(pl.col(\"event_name\")==c).std().alias(f\"{c}_ET_std_{feature_suffix}\") for c in event_name_feature],\n",
    "        *[pl.col(\"elapsed_time_diff\").filter(pl.col(\"event_name\")==c).max().alias(f\"{c}_ET_max_{feature_suffix}\") for c in event_name_feature],\n",
    "        *[pl.col(\"elapsed_time_diff\").filter(pl.col(\"event_name\")==c).min().alias(f\"{c}_ET_min_{feature_suffix}\") for c in event_name_feature],\n",
    "     \n",
    "        *[pl.col(\"name\").filter(pl.col(\"name\") == c).count().alias(f\"{c}_name_counts{feature_suffix}\")for c in name_feature],   \n",
    "        *[pl.col(\"elapsed_time_diff\").filter(pl.col(\"name\")==c).mean().alias(f\"{c}_ET_mean_{feature_suffix}\") for c in name_feature],\n",
    "        *[pl.col(\"elapsed_time_diff\").filter(pl.col(\"name\")==c).max().alias(f\"{c}_ET_max_{feature_suffix}\") for c in name_feature],\n",
    "        *[pl.col(\"elapsed_time_diff\").filter(pl.col(\"name\")==c).min().alias(f\"{c}_ET_min_{feature_suffix}\") for c in name_feature],\n",
    "        *[pl.col(\"elapsed_time_diff\").filter(pl.col(\"name\")==c).std().alias(f\"{c}_ET_std_{feature_suffix}\") for c in name_feature],  \n",
    "        \n",
    "        *[pl.col(\"room_fqid\").filter(pl.col(\"room_fqid\") == c).count().alias(f\"{c}_room_fqid_counts{feature_suffix}\")for c in room_lists],\n",
    "        *[pl.col(\"elapsed_time_diff\").filter(pl.col(\"room_fqid\") == c).std().alias(f\"{c}_ET_std_{feature_suffix}\") for c in room_lists],\n",
    "        *[pl.col(\"elapsed_time_diff\").filter(pl.col(\"room_fqid\") == c).mean().alias(f\"{c}_ET_mean_{feature_suffix}\") for c in room_lists],\n",
    "        *[pl.col(\"elapsed_time_diff\").filter(pl.col(\"room_fqid\") == c).max().alias(f\"{c}_ET_max_{feature_suffix}\") for c in room_lists],\n",
    "        *[pl.col(\"elapsed_time_diff\").filter(pl.col(\"room_fqid\") == c).min().alias(f\"{c}_ET_min_{feature_suffix}\") for c in room_lists],\n",
    "        *[pl.col(\"elapsed_time_diff\").filter(pl.col(\"room_fqid\") == c).sum().alias(f\"{c}_ET_sum_{feature_suffix}\") for c in room_lists],\n",
    "                \n",
    "        *[pl.col(\"fqid\").filter(pl.col(\"fqid\") == c).count().alias(f\"{c}_fqid_counts{feature_suffix}\")for c in fqid_lists],\n",
    "        *[pl.col(\"elapsed_time_diff\").filter(pl.col(\"fqid\") == c).std().alias(f\"{c}_ET_std_{feature_suffix}\") for c in fqid_lists],\n",
    "        *[pl.col(\"elapsed_time_diff\").filter(pl.col(\"fqid\") == c).mean().alias(f\"{c}_ET_mean_{feature_suffix}\") for c in fqid_lists],\n",
    "        *[pl.col(\"elapsed_time_diff\").filter(pl.col(\"fqid\") == c).max().alias(f\"{c}_ET_max_{feature_suffix}\") for c in fqid_lists],\n",
    "        *[pl.col(\"elapsed_time_diff\").filter(pl.col(\"fqid\") == c).min().alias(f\"{c}_ET_min_{feature_suffix}\") for c in fqid_lists],\n",
    "        *[pl.col(\"elapsed_time_diff\").filter(pl.col(\"fqid\") == c).sum().alias(f\"{c}_ET_sum_{feature_suffix}\") for c in fqid_lists],\n",
    "       \n",
    "        *[pl.col(\"text_fqid\").filter(pl.col(\"text_fqid\") == c).count().alias(f\"{c}_text_fqid_counts{feature_suffix}\") for c in text_lists],\n",
    "        *[pl.col(\"elapsed_time_diff\").filter(pl.col(\"text_fqid\") == c).std().alias(f\"{c}_ET_std_{feature_suffix}\") for c in text_lists],\n",
    "        *[pl.col(\"elapsed_time_diff\").filter(pl.col(\"text_fqid\") == c).mean().alias(f\"{c}_ET_mean_{feature_suffix}\") for c in text_lists],\n",
    "        *[pl.col(\"elapsed_time_diff\").filter(pl.col(\"text_fqid\") == c).max().alias(f\"{c}_ET_max_{feature_suffix}\") for c in text_lists],\n",
    "        *[pl.col(\"elapsed_time_diff\").filter(pl.col(\"text_fqid\") == c).min().alias(f\"{c}_ET_min_{feature_suffix}\") for c in text_lists],\n",
    "        *[pl.col(\"elapsed_time_diff\").filter(pl.col(\"text_fqid\") == c).sum().alias(f\"{c}_ET_sum_{feature_suffix}\") for c in text_lists],\n",
    "         \n",
    "        *[pl.col(\"location_x_diff\").filter(pl.col(\"event_name\")==c).mean().alias(f\"{c}_ET_mean_x{feature_suffix}\") for c in event_name_feature],\n",
    "        *[pl.col(\"location_x_diff\").filter(pl.col(\"event_name\")==c).std().alias(f\"{c}_ET_std_x{feature_suffix}\") for c in event_name_feature],\n",
    "        *[pl.col(\"location_x_diff\").filter(pl.col(\"event_name\")==c).max().alias(f\"{c}_ET_max_x{feature_suffix}\") for c in event_name_feature],\n",
    "        *[pl.col(\"location_x_diff\").filter(pl.col(\"event_name\")==c).min().alias(f\"{c}_ET_min_x{feature_suffix}\") for c in event_name_feature],\n",
    "        ]\n",
    "    \n",
    "    df = x.groupby([\"session_id\"], maintain_order=True).agg(aggs).sort(\"session_id\")\n",
    "  \n",
    "    if use_extra:\n",
    "        if grp=='5-12':\n",
    "            aggs = [\n",
    "                pl.col(\"elapsed_time\").filter((pl.col(\"text\")==\"Here's the log book.\")|(pl.col(\"fqid\")=='logbook.page.bingo')).apply(lambda s: s.max()-s.min()).alias(\"logbook_bingo_duration\"),\n",
    "                pl.col(\"index\").filter((pl.col(\"text\")==\"Here's the log book.\")|(pl.col(\"fqid\")=='logbook.page.bingo')).apply(lambda s: s.max()-s.min()).alias(\"logbook_bingo_indexCount\"),\n",
    "                pl.col(\"elapsed_time\").filter(((pl.col(\"event_name\")=='navigate_click')&(pl.col(\"fqid\")=='reader'))|(pl.col(\"fqid\")==\"reader.paper2.bingo\")).apply(lambda s: s.max()-s.min()).alias(\"reader_bingo_duration\"),\n",
    "                pl.col(\"index\").filter(((pl.col(\"event_name\")=='navigate_click')&(pl.col(\"fqid\")=='reader'))|(pl.col(\"fqid\")==\"reader.paper2.bingo\")).apply(lambda s: s.max()-s.min()).alias(\"reader_bingo_indexCount\"),\n",
    "                pl.col(\"elapsed_time\").filter(((pl.col(\"event_name\")=='navigate_click')&(pl.col(\"fqid\")=='journals'))|(pl.col(\"fqid\")==\"journals.pic_2.bingo\")).apply(lambda s: s.max()-s.min()).alias(\"journals_bingo_duration\"),\n",
    "                pl.col(\"index\").filter(((pl.col(\"event_name\")=='navigate_click')&(pl.col(\"fqid\")=='journals'))|(pl.col(\"fqid\")==\"journals.pic_2.bingo\")).apply(lambda s: s.max()-s.min()).alias(\"journals_bingo_indexCount\"),\n",
    "            ]\n",
    "            tmp = x.groupby([\"session_id\"], maintain_order=True).agg(aggs).sort(\"session_id\")\n",
    "            df = df.join(tmp, on=\"session_id\", how='left')\n",
    "\n",
    "        if grp=='13-22':\n",
    "            aggs = [\n",
    "                pl.col(\"elapsed_time\").filter(((pl.col(\"event_name\")=='navigate_click')&(pl.col(\"fqid\")=='reader_flag'))|(pl.col(\"fqid\")==\"tunic.library.microfiche.reader_flag.paper2.bingo\")).apply(lambda s: s.max()-s.min() if s.len()>0 else 0).alias(\"reader_flag_duration\"),\n",
    "                pl.col(\"index\").filter(((pl.col(\"event_name\")=='navigate_click')&(pl.col(\"fqid\")=='reader_flag'))|(pl.col(\"fqid\")==\"tunic.library.microfiche.reader_flag.paper2.bingo\")).apply(lambda s: s.max()-s.min() if s.len()>0 else 0).alias(\"reader_flag_indexCount\"),\n",
    "                pl.col(\"elapsed_time\").filter(((pl.col(\"event_name\")=='navigate_click')&(pl.col(\"fqid\")=='journals_flag'))|(pl.col(\"fqid\")==\"journals_flag.pic_0.bingo\")).apply(lambda s: s.max()-s.min() if s.len()>0 else 0).alias(\"journalsFlag_bingo_duration\"),\n",
    "                pl.col(\"index\").filter(((pl.col(\"event_name\")=='navigate_click')&(pl.col(\"fqid\")=='journals_flag'))|(pl.col(\"fqid\")==\"journals_flag.pic_0.bingo\")).apply(lambda s: s.max()-s.min() if s.len()>0 else 0).alias(\"journalsFlag_bingo_indexCount\"),\n",
    "            ]\n",
    "            tmp = x.groupby([\"session_id\"], maintain_order=True).agg(aggs).sort(\"session_id\")\n",
    "            df = df.join(tmp, on=\"session_id\", how='left')\n",
    "        \n",
    "    return df.to_pandas()"
   ]
  },
  {
   "cell_type": "code",
   "execution_count": 20,
   "metadata": {
    "papermill": {
     "duration": 0.286953,
     "end_time": "2023-04-05T15:59:51.966179",
     "exception": false,
     "start_time": "2023-04-05T15:59:51.679226",
     "status": "completed"
    },
    "tags": []
   },
   "outputs": [
    {
     "data": {
      "text/plain": [
       "(3981005, 20)"
      ]
     },
     "execution_count": 20,
     "metadata": {},
     "output_type": "execute_result"
    }
   ],
   "source": [
    "df1 = train.filter(pl.col(\"level_group\")=='0-4')\n",
    "df1.shape"
   ]
  },
  {
   "cell_type": "code",
   "execution_count": 21,
   "metadata": {
    "papermill": {
     "duration": 0.425928,
     "end_time": "2023-04-05T15:59:52.405415",
     "exception": false,
     "start_time": "2023-04-05T15:59:51.979487",
     "status": "completed"
    },
    "tags": []
   },
   "outputs": [
    {
     "data": {
      "text/plain": [
       "(8844238, 20)"
      ]
     },
     "execution_count": 21,
     "metadata": {},
     "output_type": "execute_result"
    }
   ],
   "source": [
    "df2 = train.filter(pl.col(\"level_group\")=='5-12')\n",
    "df2.shape"
   ]
  },
  {
   "cell_type": "code",
   "execution_count": 22,
   "metadata": {
    "papermill": {
     "duration": 0.598778,
     "end_time": "2023-04-05T15:59:53.016998",
     "exception": false,
     "start_time": "2023-04-05T15:59:52.418220",
     "status": "completed"
    },
    "tags": []
   },
   "outputs": [
    {
     "data": {
      "text/plain": [
       "(13471703, 20)"
      ]
     },
     "execution_count": 22,
     "metadata": {},
     "output_type": "execute_result"
    }
   ],
   "source": [
    "df3 = train.filter(pl.col(\"level_group\")=='13-22')\n",
    "df3.shape"
   ]
  },
  {
   "cell_type": "code",
   "execution_count": 23,
   "metadata": {
    "papermill": {
     "duration": 0.151158,
     "end_time": "2023-04-05T15:59:53.181365",
     "exception": false,
     "start_time": "2023-04-05T15:59:53.030207",
     "status": "completed"
    },
    "tags": []
   },
   "outputs": [
    {
     "data": {
      "text/plain": [
       "92"
      ]
     },
     "execution_count": 23,
     "metadata": {},
     "output_type": "execute_result"
    }
   ],
   "source": [
    "#Delete train to liberate memory\n",
    "del train\n",
    "gc.collect()"
   ]
  },
  {
   "cell_type": "code",
   "execution_count": 24,
   "metadata": {
    "papermill": {
     "duration": 11.884751,
     "end_time": "2023-04-05T16:00:05.079217",
     "exception": false,
     "start_time": "2023-04-05T15:59:53.194466",
     "status": "completed"
    },
    "tags": []
   },
   "outputs": [
    {
     "ename": "PanicException",
     "evalue": "called `Result::unwrap()` on an `Err` value: InvalidOperation(ErrString(\"`list_builder` operation not supported for dtype `object`\"))",
     "output_type": "error",
     "traceback": [
      "\u001b[1;31m---------------------------------------------------------------------------\u001b[0m",
      "\u001b[1;31mPanicException\u001b[0m                            Traceback (most recent call last)",
      "\u001b[1;32m<timed exec>\u001b[0m in \u001b[0;36m<module>\u001b[1;34m\u001b[0m\n",
      "\u001b[1;32m<ipython-input-19-4d7a8ae5650b>\u001b[0m in \u001b[0;36mfeature_engineer_pl\u001b[1;34m(x, grp, use_extra, feature_suffix)\u001b[0m\n\u001b[0;32m     62\u001b[0m         ]\n\u001b[0;32m     63\u001b[0m \u001b[1;33m\u001b[0m\u001b[0m\n\u001b[1;32m---> 64\u001b[1;33m     \u001b[0mdf\u001b[0m \u001b[1;33m=\u001b[0m \u001b[0mx\u001b[0m\u001b[1;33m.\u001b[0m\u001b[0mgroupby\u001b[0m\u001b[1;33m(\u001b[0m\u001b[1;33m[\u001b[0m\u001b[1;34m\"session_id\"\u001b[0m\u001b[1;33m]\u001b[0m\u001b[1;33m,\u001b[0m \u001b[0mmaintain_order\u001b[0m\u001b[1;33m=\u001b[0m\u001b[1;32mTrue\u001b[0m\u001b[1;33m)\u001b[0m\u001b[1;33m.\u001b[0m\u001b[0magg\u001b[0m\u001b[1;33m(\u001b[0m\u001b[0maggs\u001b[0m\u001b[1;33m)\u001b[0m\u001b[1;33m.\u001b[0m\u001b[0msort\u001b[0m\u001b[1;33m(\u001b[0m\u001b[1;34m\"session_id\"\u001b[0m\u001b[1;33m)\u001b[0m\u001b[1;33m\u001b[0m\u001b[1;33m\u001b[0m\u001b[0m\n\u001b[0m\u001b[0;32m     65\u001b[0m \u001b[1;33m\u001b[0m\u001b[0m\n\u001b[0;32m     66\u001b[0m     \u001b[1;32mif\u001b[0m \u001b[0muse_extra\u001b[0m\u001b[1;33m:\u001b[0m\u001b[1;33m\u001b[0m\u001b[1;33m\u001b[0m\u001b[0m\n",
      "\u001b[1;32mD:\\Python\\Anaconda\\lib\\site-packages\\polars\\dataframe\\groupby.py\u001b[0m in \u001b[0;36magg\u001b[1;34m(self, aggs, *more_aggs, **named_aggs)\u001b[0m\n\u001b[0;32m    223\u001b[0m         \"\"\"\n\u001b[0;32m    224\u001b[0m         df = (\n\u001b[1;32m--> 225\u001b[1;33m             \u001b[0mself\u001b[0m\u001b[1;33m.\u001b[0m\u001b[0mdf\u001b[0m\u001b[1;33m.\u001b[0m\u001b[0mlazy\u001b[0m\u001b[1;33m(\u001b[0m\u001b[1;33m)\u001b[0m\u001b[1;33m\u001b[0m\u001b[1;33m\u001b[0m\u001b[0m\n\u001b[0m\u001b[0;32m    226\u001b[0m             \u001b[1;33m.\u001b[0m\u001b[0mgroupby\u001b[0m\u001b[1;33m(\u001b[0m\u001b[0mself\u001b[0m\u001b[1;33m.\u001b[0m\u001b[0mby\u001b[0m\u001b[1;33m,\u001b[0m \u001b[1;33m*\u001b[0m\u001b[0mself\u001b[0m\u001b[1;33m.\u001b[0m\u001b[0mmore_by\u001b[0m\u001b[1;33m,\u001b[0m \u001b[0mmaintain_order\u001b[0m\u001b[1;33m=\u001b[0m\u001b[0mself\u001b[0m\u001b[1;33m.\u001b[0m\u001b[0mmaintain_order\u001b[0m\u001b[1;33m)\u001b[0m\u001b[1;33m\u001b[0m\u001b[1;33m\u001b[0m\u001b[0m\n\u001b[0;32m    227\u001b[0m             \u001b[1;33m.\u001b[0m\u001b[0magg\u001b[0m\u001b[1;33m(\u001b[0m\u001b[0maggs\u001b[0m\u001b[1;33m,\u001b[0m \u001b[1;33m*\u001b[0m\u001b[0mmore_aggs\u001b[0m\u001b[1;33m,\u001b[0m \u001b[1;33m**\u001b[0m\u001b[0mnamed_aggs\u001b[0m\u001b[1;33m)\u001b[0m\u001b[1;33m\u001b[0m\u001b[1;33m\u001b[0m\u001b[0m\n",
      "\u001b[1;32mD:\\Python\\Anaconda\\lib\\site-packages\\polars\\lazyframe\\frame.py\u001b[0m in \u001b[0;36mcollect\u001b[1;34m(self, type_coercion, predicate_pushdown, projection_pushdown, simplify_expression, no_optimization, slice_pushdown, common_subplan_elimination, streaming)\u001b[0m\n\u001b[0;32m   1602\u001b[0m             \u001b[0mstreaming\u001b[0m\u001b[1;33m,\u001b[0m\u001b[1;33m\u001b[0m\u001b[1;33m\u001b[0m\u001b[0m\n\u001b[0;32m   1603\u001b[0m         )\n\u001b[1;32m-> 1604\u001b[1;33m         \u001b[1;32mreturn\u001b[0m \u001b[0mwrap_df\u001b[0m\u001b[1;33m(\u001b[0m\u001b[0mldf\u001b[0m\u001b[1;33m.\u001b[0m\u001b[0mcollect\u001b[0m\u001b[1;33m(\u001b[0m\u001b[1;33m)\u001b[0m\u001b[1;33m)\u001b[0m\u001b[1;33m\u001b[0m\u001b[1;33m\u001b[0m\u001b[0m\n\u001b[0m\u001b[0;32m   1605\u001b[0m \u001b[1;33m\u001b[0m\u001b[0m\n\u001b[0;32m   1606\u001b[0m     def sink_parquet(\n",
      "\u001b[1;31mPanicException\u001b[0m: called `Result::unwrap()` on an `Err` value: InvalidOperation(ErrString(\"`list_builder` operation not supported for dtype `object`\"))"
     ]
    }
   ],
   "source": [
    "%%time\n",
    "df1 = feature_engineer_pl(df1, grp='0-4', use_extra=True, feature_suffix='')\n",
    "print('df1 done, shape: ',df1.shape)"
   ]
  },
  {
   "cell_type": "code",
   "execution_count": 25,
   "metadata": {
    "papermill": {
     "duration": 0.023803,
     "end_time": "2023-04-05T16:00:05.116775",
     "exception": false,
     "start_time": "2023-04-05T16:00:05.092972",
     "status": "completed"
    },
    "tags": []
   },
   "outputs": [
    {
     "data": {
      "text/plain": [
       "['session_id',\n",
       " 'index',\n",
       " 'elapsed_time',\n",
       " 'event_name',\n",
       " 'name',\n",
       " 'level',\n",
       " 'page',\n",
       " 'room_coor_x',\n",
       " 'room_coor_y',\n",
       " 'screen_coor_x',\n",
       " 'screen_coor_y',\n",
       " 'hover_duration',\n",
       " 'text',\n",
       " 'fqid',\n",
       " 'room_fqid',\n",
       " 'text_fqid',\n",
       " 'level_group',\n",
       " 'elapsed_time_diff',\n",
       " 'location_x_diff',\n",
       " 'location_y_diff']"
      ]
     },
     "execution_count": 25,
     "metadata": {},
     "output_type": "execute_result"
    }
   ],
   "source": [
    "df1.columns"
   ]
  },
  {
   "cell_type": "code",
   "execution_count": 26,
   "metadata": {
    "papermill": {
     "duration": 0.052908,
     "end_time": "2023-04-05T16:00:05.183252",
     "exception": false,
     "start_time": "2023-04-05T16:00:05.130344",
     "status": "completed"
    },
    "tags": []
   },
   "outputs": [
    {
     "data": {
      "text/html": [
       "<div><style>\n",
       ".dataframe > thead > tr > th,\n",
       ".dataframe > tbody > tr > td {\n",
       "  text-align: right;\n",
       "}\n",
       "</style>\n",
       "<small>shape: (3, 20)</small><table border=\"1\" class=\"dataframe\"><thead><tr><th>session_id</th><th>index</th><th>elapsed_time</th><th>event_name</th><th>name</th><th>level</th><th>page</th><th>room_coor_x</th><th>room_coor_y</th><th>screen_coor_x</th><th>screen_coor_y</th><th>hover_duration</th><th>text</th><th>fqid</th><th>room_fqid</th><th>text_fqid</th><th>level_group</th><th>elapsed_time_diff</th><th>location_x_diff</th><th>location_y_diff</th></tr><tr><td>i64</td><td>i16</td><td>i32</td><td>cat</td><td>cat</td><td>i8</td><td>f32</td><td>f32</td><td>f32</td><td>f32</td><td>f32</td><td>f32</td><td>cat</td><td>cat</td><td>cat</td><td>cat</td><td>cat</td><td>i32</td><td>f32</td><td>f32</td></tr></thead><tbody><tr><td>22100221145014656</td><td>208</td><td>354020</td><td>&quot;map_click&quot;</td><td>&quot;undefined&quot;</td><td>4</td><td>null</td><td>-549.217712</td><td>-2.0</td><td>449.0</td><td>332.0</td><td>null</td><td>null</td><td>&quot;tunic.capitol_…</td><td>&quot;tunic.kohlcent…</td><td>null</td><td>&quot;0-4&quot;</td><td>684</td><td>null</td><td>null</td></tr><tr><td>22100221145014656</td><td>209</td><td>356238</td><td>&quot;navigate_click…</td><td>&quot;undefined&quot;</td><td>4</td><td>null</td><td>313.584259</td><td>107.913147</td><td>463.0</td><td>226.0</td><td>null</td><td>null</td><td>&quot;chap1_finale&quot;</td><td>&quot;tunic.capitol_…</td><td>null</td><td>&quot;0-4&quot;</td><td>2218</td><td>14.0</td><td>106.0</td></tr><tr><td>22100221145014656</td><td>210</td><td>435055</td><td>&quot;checkpoint&quot;</td><td>&quot;basic&quot;</td><td>4</td><td>null</td><td>null</td><td>null</td><td>null</td><td>null</td><td>null</td><td>null</td><td>&quot;chap1_finale_c…</td><td>&quot;tunic.capitol_…</td><td>null</td><td>&quot;0-4&quot;</td><td>78817</td><td>null</td><td>null</td></tr></tbody></table></div>"
      ],
      "text/plain": [
       "shape: (3, 20)\n",
       "┌───────────────┬───────┬──────────────┬───────────────┬───┬─────────────┬───────────────┬──────────────┬──────────────┐\n",
       "│ session_id    ┆ index ┆ elapsed_time ┆ event_name    ┆ … ┆ level_group ┆ elapsed_time_ ┆ location_x_d ┆ location_y_d │\n",
       "│ ---           ┆ ---   ┆ ---          ┆ ---           ┆   ┆ ---         ┆ diff          ┆ iff          ┆ iff          │\n",
       "│ i64           ┆ i16   ┆ i32          ┆ cat           ┆   ┆ cat         ┆ ---           ┆ ---          ┆ ---          │\n",
       "│               ┆       ┆              ┆               ┆   ┆             ┆ i32           ┆ f32          ┆ f32          │\n",
       "╞═══════════════╪═══════╪══════════════╪═══════════════╪═══╪═════════════╪═══════════════╪══════════════╪══════════════╡\n",
       "│ 2210022114501 ┆ 208   ┆ 354020       ┆ map_click     ┆ … ┆ 0-4         ┆ 684           ┆ null         ┆ null         │\n",
       "│ 4656          ┆       ┆              ┆               ┆   ┆             ┆               ┆              ┆              │\n",
       "│ 2210022114501 ┆ 209   ┆ 356238       ┆ navigate_clic ┆ … ┆ 0-4         ┆ 2218          ┆ 14.0         ┆ 106.0        │\n",
       "│ 4656          ┆       ┆              ┆ k             ┆   ┆             ┆               ┆              ┆              │\n",
       "│ 2210022114501 ┆ 210   ┆ 435055       ┆ checkpoint    ┆ … ┆ 0-4         ┆ 78817         ┆ null         ┆ null         │\n",
       "│ 4656          ┆       ┆              ┆               ┆   ┆             ┆               ┆              ┆              │\n",
       "└───────────────┴───────┴──────────────┴───────────────┴───┴─────────────┴───────────────┴──────────────┴──────────────┘"
      ]
     },
     "execution_count": 26,
     "metadata": {},
     "output_type": "execute_result"
    }
   ],
   "source": [
    "df1.tail(3)"
   ]
  },
  {
   "cell_type": "code",
   "execution_count": 27,
   "metadata": {
    "papermill": {
     "duration": 0.026966,
     "end_time": "2023-04-05T16:00:05.224104",
     "exception": false,
     "start_time": "2023-04-05T16:00:05.197138",
     "status": "completed"
    },
    "tags": []
   },
   "outputs": [
    {
     "data": {
      "text/html": [
       "<div><style>\n",
       ".dataframe > thead > tr > th,\n",
       ".dataframe > tbody > tr > td {\n",
       "  text-align: right;\n",
       "}\n",
       "</style>\n",
       "<small>shape: (8,)</small><table border=\"1\" class=\"dataframe\"><thead><tr><th>session_id</th></tr><tr><td>i64</td></tr></thead><tbody><tr><td>22100221145014656</td></tr><tr><td>22100221145014656</td></tr><tr><td>22100221145014656</td></tr><tr><td>22100221145014656</td></tr><tr><td>22100221145014656</td></tr><tr><td>22100221145014656</td></tr><tr><td>22100221145014656</td></tr><tr><td>22100221145014656</td></tr></tbody></table></div>"
      ],
      "text/plain": [
       "shape: (8,)\n",
       "Series: 'session_id' [i64]\n",
       "[\n",
       "\t22100221145014656\n",
       "\t22100221145014656\n",
       "\t22100221145014656\n",
       "\t22100221145014656\n",
       "\t22100221145014656\n",
       "\t22100221145014656\n",
       "\t22100221145014656\n",
       "\t22100221145014656\n",
       "]"
      ]
     },
     "execution_count": 27,
     "metadata": {},
     "output_type": "execute_result"
    }
   ],
   "source": [
    "df1[\"session_id\"].tail(8)"
   ]
  },
  {
   "cell_type": "code",
   "execution_count": 28,
   "metadata": {
    "papermill": {
     "duration": 28.294343,
     "end_time": "2023-04-05T16:00:33.532433",
     "exception": false,
     "start_time": "2023-04-05T16:00:05.238090",
     "status": "completed"
    },
    "tags": []
   },
   "outputs": [
    {
     "ename": "PanicException",
     "evalue": "called `Result::unwrap()` on an `Err` value: InvalidOperation(ErrString(\"`list_builder` operation not supported for dtype `object`\"))",
     "output_type": "error",
     "traceback": [
      "\u001b[1;31m---------------------------------------------------------------------------\u001b[0m",
      "\u001b[1;31mPanicException\u001b[0m                            Traceback (most recent call last)",
      "\u001b[1;32m<timed exec>\u001b[0m in \u001b[0;36m<module>\u001b[1;34m\u001b[0m\n",
      "\u001b[1;32m<ipython-input-19-4d7a8ae5650b>\u001b[0m in \u001b[0;36mfeature_engineer_pl\u001b[1;34m(x, grp, use_extra, feature_suffix)\u001b[0m\n\u001b[0;32m     62\u001b[0m         ]\n\u001b[0;32m     63\u001b[0m \u001b[1;33m\u001b[0m\u001b[0m\n\u001b[1;32m---> 64\u001b[1;33m     \u001b[0mdf\u001b[0m \u001b[1;33m=\u001b[0m \u001b[0mx\u001b[0m\u001b[1;33m.\u001b[0m\u001b[0mgroupby\u001b[0m\u001b[1;33m(\u001b[0m\u001b[1;33m[\u001b[0m\u001b[1;34m\"session_id\"\u001b[0m\u001b[1;33m]\u001b[0m\u001b[1;33m,\u001b[0m \u001b[0mmaintain_order\u001b[0m\u001b[1;33m=\u001b[0m\u001b[1;32mTrue\u001b[0m\u001b[1;33m)\u001b[0m\u001b[1;33m.\u001b[0m\u001b[0magg\u001b[0m\u001b[1;33m(\u001b[0m\u001b[0maggs\u001b[0m\u001b[1;33m)\u001b[0m\u001b[1;33m.\u001b[0m\u001b[0msort\u001b[0m\u001b[1;33m(\u001b[0m\u001b[1;34m\"session_id\"\u001b[0m\u001b[1;33m)\u001b[0m\u001b[1;33m\u001b[0m\u001b[1;33m\u001b[0m\u001b[0m\n\u001b[0m\u001b[0;32m     65\u001b[0m \u001b[1;33m\u001b[0m\u001b[0m\n\u001b[0;32m     66\u001b[0m     \u001b[1;32mif\u001b[0m \u001b[0muse_extra\u001b[0m\u001b[1;33m:\u001b[0m\u001b[1;33m\u001b[0m\u001b[1;33m\u001b[0m\u001b[0m\n",
      "\u001b[1;32mD:\\Python\\Anaconda\\lib\\site-packages\\polars\\dataframe\\groupby.py\u001b[0m in \u001b[0;36magg\u001b[1;34m(self, aggs, *more_aggs, **named_aggs)\u001b[0m\n\u001b[0;32m    223\u001b[0m         \"\"\"\n\u001b[0;32m    224\u001b[0m         df = (\n\u001b[1;32m--> 225\u001b[1;33m             \u001b[0mself\u001b[0m\u001b[1;33m.\u001b[0m\u001b[0mdf\u001b[0m\u001b[1;33m.\u001b[0m\u001b[0mlazy\u001b[0m\u001b[1;33m(\u001b[0m\u001b[1;33m)\u001b[0m\u001b[1;33m\u001b[0m\u001b[1;33m\u001b[0m\u001b[0m\n\u001b[0m\u001b[0;32m    226\u001b[0m             \u001b[1;33m.\u001b[0m\u001b[0mgroupby\u001b[0m\u001b[1;33m(\u001b[0m\u001b[0mself\u001b[0m\u001b[1;33m.\u001b[0m\u001b[0mby\u001b[0m\u001b[1;33m,\u001b[0m \u001b[1;33m*\u001b[0m\u001b[0mself\u001b[0m\u001b[1;33m.\u001b[0m\u001b[0mmore_by\u001b[0m\u001b[1;33m,\u001b[0m \u001b[0mmaintain_order\u001b[0m\u001b[1;33m=\u001b[0m\u001b[0mself\u001b[0m\u001b[1;33m.\u001b[0m\u001b[0mmaintain_order\u001b[0m\u001b[1;33m)\u001b[0m\u001b[1;33m\u001b[0m\u001b[1;33m\u001b[0m\u001b[0m\n\u001b[0;32m    227\u001b[0m             \u001b[1;33m.\u001b[0m\u001b[0magg\u001b[0m\u001b[1;33m(\u001b[0m\u001b[0maggs\u001b[0m\u001b[1;33m,\u001b[0m \u001b[1;33m*\u001b[0m\u001b[0mmore_aggs\u001b[0m\u001b[1;33m,\u001b[0m \u001b[1;33m**\u001b[0m\u001b[0mnamed_aggs\u001b[0m\u001b[1;33m)\u001b[0m\u001b[1;33m\u001b[0m\u001b[1;33m\u001b[0m\u001b[0m\n",
      "\u001b[1;32mD:\\Python\\Anaconda\\lib\\site-packages\\polars\\lazyframe\\frame.py\u001b[0m in \u001b[0;36mcollect\u001b[1;34m(self, type_coercion, predicate_pushdown, projection_pushdown, simplify_expression, no_optimization, slice_pushdown, common_subplan_elimination, streaming)\u001b[0m\n\u001b[0;32m   1602\u001b[0m             \u001b[0mstreaming\u001b[0m\u001b[1;33m,\u001b[0m\u001b[1;33m\u001b[0m\u001b[1;33m\u001b[0m\u001b[0m\n\u001b[0;32m   1603\u001b[0m         )\n\u001b[1;32m-> 1604\u001b[1;33m         \u001b[1;32mreturn\u001b[0m \u001b[0mwrap_df\u001b[0m\u001b[1;33m(\u001b[0m\u001b[0mldf\u001b[0m\u001b[1;33m.\u001b[0m\u001b[0mcollect\u001b[0m\u001b[1;33m(\u001b[0m\u001b[1;33m)\u001b[0m\u001b[1;33m)\u001b[0m\u001b[1;33m\u001b[0m\u001b[1;33m\u001b[0m\u001b[0m\n\u001b[0m\u001b[0;32m   1605\u001b[0m \u001b[1;33m\u001b[0m\u001b[0m\n\u001b[0;32m   1606\u001b[0m     def sink_parquet(\n",
      "\u001b[1;31mPanicException\u001b[0m: called `Result::unwrap()` on an `Err` value: InvalidOperation(ErrString(\"`list_builder` operation not supported for dtype `object`\"))"
     ]
    }
   ],
   "source": [
    "%%time\n",
    "df2 = feature_engineer_pl(df2, grp='5-12', use_extra=True, feature_suffix='')\n",
    "print('df2 done, shape: ',df2.shape)"
   ]
  },
  {
   "cell_type": "code",
   "execution_count": 29,
   "metadata": {
    "papermill": {
     "duration": 0.041908,
     "end_time": "2023-04-05T16:00:33.588835",
     "exception": false,
     "start_time": "2023-04-05T16:00:33.546927",
     "status": "completed"
    },
    "tags": []
   },
   "outputs": [
    {
     "data": {
      "text/html": [
       "<div><style>\n",
       ".dataframe > thead > tr > th,\n",
       ".dataframe > tbody > tr > td {\n",
       "  text-align: right;\n",
       "}\n",
       "</style>\n",
       "<small>shape: (5, 20)</small><table border=\"1\" class=\"dataframe\"><thead><tr><th>session_id</th><th>index</th><th>elapsed_time</th><th>event_name</th><th>name</th><th>level</th><th>page</th><th>room_coor_x</th><th>room_coor_y</th><th>screen_coor_x</th><th>screen_coor_y</th><th>hover_duration</th><th>text</th><th>fqid</th><th>room_fqid</th><th>text_fqid</th><th>level_group</th><th>elapsed_time_diff</th><th>location_x_diff</th><th>location_y_diff</th></tr><tr><td>i64</td><td>i16</td><td>i32</td><td>cat</td><td>cat</td><td>i8</td><td>f32</td><td>f32</td><td>f32</td><td>f32</td><td>f32</td><td>f32</td><td>cat</td><td>cat</td><td>cat</td><td>cat</td><td>cat</td><td>i32</td><td>f32</td><td>f32</td></tr></thead><tbody><tr><td>22100221145014656</td><td>795</td><td>3664936</td><td>&quot;navigate_click…</td><td>&quot;undefined&quot;</td><td>12</td><td>null</td><td>939.575623</td><td>92.873199</td><td>805.0</td><td>268.0</td><td>null</td><td>null</td><td>&quot;tomap&quot;</td><td>&quot;tunic.historic…</td><td>null</td><td>&quot;5-12&quot;</td><td>483</td><td>5.0</td><td>34.0</td></tr><tr><td>22100221145014656</td><td>796</td><td>3665912</td><td>&quot;map_hover&quot;</td><td>&quot;basic&quot;</td><td>12</td><td>null</td><td>null</td><td>null</td><td>null</td><td>null</td><td>600.0</td><td>null</td><td>&quot;tomap&quot;</td><td>&quot;tunic.historic…</td><td>null</td><td>&quot;5-12&quot;</td><td>976</td><td>null</td><td>null</td></tr><tr><td>22100221145014656</td><td>797</td><td>3666188</td><td>&quot;map_click&quot;</td><td>&quot;undefined&quot;</td><td>12</td><td>null</td><td>486.9133</td><td>50.747986</td><td>465.0</td><td>298.0</td><td>null</td><td>null</td><td>&quot;tunic.capitol_…</td><td>&quot;tunic.historic…</td><td>null</td><td>&quot;5-12&quot;</td><td>276</td><td>null</td><td>null</td></tr><tr><td>22100221145014656</td><td>798</td><td>3667021</td><td>&quot;navigate_click…</td><td>&quot;undefined&quot;</td><td>12</td><td>null</td><td>210.553955</td><td>-140.571701</td><td>395.0</td><td>390.0</td><td>null</td><td>null</td><td>&quot;chap2_finale_c…</td><td>&quot;tunic.capitol_…</td><td>null</td><td>&quot;5-12&quot;</td><td>833</td><td>70.0</td><td>92.0</td></tr><tr><td>22100221145014656</td><td>799</td><td>3668994</td><td>&quot;checkpoint&quot;</td><td>&quot;basic&quot;</td><td>12</td><td>null</td><td>null</td><td>null</td><td>null</td><td>null</td><td>null</td><td>null</td><td>&quot;chap2_finale_c…</td><td>&quot;tunic.capitol_…</td><td>null</td><td>&quot;5-12&quot;</td><td>1973</td><td>null</td><td>null</td></tr></tbody></table></div>"
      ],
      "text/plain": [
       "shape: (5, 20)\n",
       "┌───────────────┬───────┬──────────────┬───────────────┬───┬─────────────┬───────────────┬──────────────┬──────────────┐\n",
       "│ session_id    ┆ index ┆ elapsed_time ┆ event_name    ┆ … ┆ level_group ┆ elapsed_time_ ┆ location_x_d ┆ location_y_d │\n",
       "│ ---           ┆ ---   ┆ ---          ┆ ---           ┆   ┆ ---         ┆ diff          ┆ iff          ┆ iff          │\n",
       "│ i64           ┆ i16   ┆ i32          ┆ cat           ┆   ┆ cat         ┆ ---           ┆ ---          ┆ ---          │\n",
       "│               ┆       ┆              ┆               ┆   ┆             ┆ i32           ┆ f32          ┆ f32          │\n",
       "╞═══════════════╪═══════╪══════════════╪═══════════════╪═══╪═════════════╪═══════════════╪══════════════╪══════════════╡\n",
       "│ 2210022114501 ┆ 795   ┆ 3664936      ┆ navigate_clic ┆ … ┆ 5-12        ┆ 483           ┆ 5.0          ┆ 34.0         │\n",
       "│ 4656          ┆       ┆              ┆ k             ┆   ┆             ┆               ┆              ┆              │\n",
       "│ 2210022114501 ┆ 796   ┆ 3665912      ┆ map_hover     ┆ … ┆ 5-12        ┆ 976           ┆ null         ┆ null         │\n",
       "│ 4656          ┆       ┆              ┆               ┆   ┆             ┆               ┆              ┆              │\n",
       "│ 2210022114501 ┆ 797   ┆ 3666188      ┆ map_click     ┆ … ┆ 5-12        ┆ 276           ┆ null         ┆ null         │\n",
       "│ 4656          ┆       ┆              ┆               ┆   ┆             ┆               ┆              ┆              │\n",
       "│ 2210022114501 ┆ 798   ┆ 3667021      ┆ navigate_clic ┆ … ┆ 5-12        ┆ 833           ┆ 70.0         ┆ 92.0         │\n",
       "│ 4656          ┆       ┆              ┆ k             ┆   ┆             ┆               ┆              ┆              │\n",
       "│ 2210022114501 ┆ 799   ┆ 3668994      ┆ checkpoint    ┆ … ┆ 5-12        ┆ 1973          ┆ null         ┆ null         │\n",
       "│ 4656          ┆       ┆              ┆               ┆   ┆             ┆               ┆              ┆              │\n",
       "└───────────────┴───────┴──────────────┴───────────────┴───┴─────────────┴───────────────┴──────────────┴──────────────┘"
      ]
     },
     "execution_count": 29,
     "metadata": {},
     "output_type": "execute_result"
    }
   ],
   "source": [
    "df2.tail(5)"
   ]
  },
  {
   "cell_type": "code",
   "execution_count": 30,
   "metadata": {
    "papermill": {
     "duration": 43.760506,
     "end_time": "2023-04-05T16:01:17.363981",
     "exception": false,
     "start_time": "2023-04-05T16:00:33.603475",
     "status": "completed"
    },
    "tags": []
   },
   "outputs": [
    {
     "ename": "PanicException",
     "evalue": "called `Result::unwrap()` on an `Err` value: InvalidOperation(ErrString(\"`list_builder` operation not supported for dtype `object`\"))",
     "output_type": "error",
     "traceback": [
      "\u001b[1;31m---------------------------------------------------------------------------\u001b[0m",
      "\u001b[1;31mPanicException\u001b[0m                            Traceback (most recent call last)",
      "\u001b[1;32m<timed exec>\u001b[0m in \u001b[0;36m<module>\u001b[1;34m\u001b[0m\n",
      "\u001b[1;32m<ipython-input-19-4d7a8ae5650b>\u001b[0m in \u001b[0;36mfeature_engineer_pl\u001b[1;34m(x, grp, use_extra, feature_suffix)\u001b[0m\n\u001b[0;32m     62\u001b[0m         ]\n\u001b[0;32m     63\u001b[0m \u001b[1;33m\u001b[0m\u001b[0m\n\u001b[1;32m---> 64\u001b[1;33m     \u001b[0mdf\u001b[0m \u001b[1;33m=\u001b[0m \u001b[0mx\u001b[0m\u001b[1;33m.\u001b[0m\u001b[0mgroupby\u001b[0m\u001b[1;33m(\u001b[0m\u001b[1;33m[\u001b[0m\u001b[1;34m\"session_id\"\u001b[0m\u001b[1;33m]\u001b[0m\u001b[1;33m,\u001b[0m \u001b[0mmaintain_order\u001b[0m\u001b[1;33m=\u001b[0m\u001b[1;32mTrue\u001b[0m\u001b[1;33m)\u001b[0m\u001b[1;33m.\u001b[0m\u001b[0magg\u001b[0m\u001b[1;33m(\u001b[0m\u001b[0maggs\u001b[0m\u001b[1;33m)\u001b[0m\u001b[1;33m.\u001b[0m\u001b[0msort\u001b[0m\u001b[1;33m(\u001b[0m\u001b[1;34m\"session_id\"\u001b[0m\u001b[1;33m)\u001b[0m\u001b[1;33m\u001b[0m\u001b[1;33m\u001b[0m\u001b[0m\n\u001b[0m\u001b[0;32m     65\u001b[0m \u001b[1;33m\u001b[0m\u001b[0m\n\u001b[0;32m     66\u001b[0m     \u001b[1;32mif\u001b[0m \u001b[0muse_extra\u001b[0m\u001b[1;33m:\u001b[0m\u001b[1;33m\u001b[0m\u001b[1;33m\u001b[0m\u001b[0m\n",
      "\u001b[1;32mD:\\Python\\Anaconda\\lib\\site-packages\\polars\\dataframe\\groupby.py\u001b[0m in \u001b[0;36magg\u001b[1;34m(self, aggs, *more_aggs, **named_aggs)\u001b[0m\n\u001b[0;32m    223\u001b[0m         \"\"\"\n\u001b[0;32m    224\u001b[0m         df = (\n\u001b[1;32m--> 225\u001b[1;33m             \u001b[0mself\u001b[0m\u001b[1;33m.\u001b[0m\u001b[0mdf\u001b[0m\u001b[1;33m.\u001b[0m\u001b[0mlazy\u001b[0m\u001b[1;33m(\u001b[0m\u001b[1;33m)\u001b[0m\u001b[1;33m\u001b[0m\u001b[1;33m\u001b[0m\u001b[0m\n\u001b[0m\u001b[0;32m    226\u001b[0m             \u001b[1;33m.\u001b[0m\u001b[0mgroupby\u001b[0m\u001b[1;33m(\u001b[0m\u001b[0mself\u001b[0m\u001b[1;33m.\u001b[0m\u001b[0mby\u001b[0m\u001b[1;33m,\u001b[0m \u001b[1;33m*\u001b[0m\u001b[0mself\u001b[0m\u001b[1;33m.\u001b[0m\u001b[0mmore_by\u001b[0m\u001b[1;33m,\u001b[0m \u001b[0mmaintain_order\u001b[0m\u001b[1;33m=\u001b[0m\u001b[0mself\u001b[0m\u001b[1;33m.\u001b[0m\u001b[0mmaintain_order\u001b[0m\u001b[1;33m)\u001b[0m\u001b[1;33m\u001b[0m\u001b[1;33m\u001b[0m\u001b[0m\n\u001b[0;32m    227\u001b[0m             \u001b[1;33m.\u001b[0m\u001b[0magg\u001b[0m\u001b[1;33m(\u001b[0m\u001b[0maggs\u001b[0m\u001b[1;33m,\u001b[0m \u001b[1;33m*\u001b[0m\u001b[0mmore_aggs\u001b[0m\u001b[1;33m,\u001b[0m \u001b[1;33m**\u001b[0m\u001b[0mnamed_aggs\u001b[0m\u001b[1;33m)\u001b[0m\u001b[1;33m\u001b[0m\u001b[1;33m\u001b[0m\u001b[0m\n",
      "\u001b[1;32mD:\\Python\\Anaconda\\lib\\site-packages\\polars\\lazyframe\\frame.py\u001b[0m in \u001b[0;36mcollect\u001b[1;34m(self, type_coercion, predicate_pushdown, projection_pushdown, simplify_expression, no_optimization, slice_pushdown, common_subplan_elimination, streaming)\u001b[0m\n\u001b[0;32m   1602\u001b[0m             \u001b[0mstreaming\u001b[0m\u001b[1;33m,\u001b[0m\u001b[1;33m\u001b[0m\u001b[1;33m\u001b[0m\u001b[0m\n\u001b[0;32m   1603\u001b[0m         )\n\u001b[1;32m-> 1604\u001b[1;33m         \u001b[1;32mreturn\u001b[0m \u001b[0mwrap_df\u001b[0m\u001b[1;33m(\u001b[0m\u001b[0mldf\u001b[0m\u001b[1;33m.\u001b[0m\u001b[0mcollect\u001b[0m\u001b[1;33m(\u001b[0m\u001b[1;33m)\u001b[0m\u001b[1;33m)\u001b[0m\u001b[1;33m\u001b[0m\u001b[1;33m\u001b[0m\u001b[0m\n\u001b[0m\u001b[0;32m   1605\u001b[0m \u001b[1;33m\u001b[0m\u001b[0m\n\u001b[0;32m   1606\u001b[0m     def sink_parquet(\n",
      "\u001b[1;31mPanicException\u001b[0m: called `Result::unwrap()` on an `Err` value: InvalidOperation(ErrString(\"`list_builder` operation not supported for dtype `object`\"))"
     ]
    }
   ],
   "source": [
    "%%time\n",
    "df3 = feature_engineer_pl(df3, grp='13-22', use_extra=True, feature_suffix='')\n",
    "print('df3 done, shape: ',df3.shape)"
   ]
  },
  {
   "cell_type": "code",
   "execution_count": 31,
   "metadata": {
    "papermill": {
     "duration": 0.040954,
     "end_time": "2023-04-05T16:01:17.419198",
     "exception": false,
     "start_time": "2023-04-05T16:01:17.378244",
     "status": "completed"
    },
    "tags": []
   },
   "outputs": [
    {
     "data": {
      "text/html": [
       "<div><style>\n",
       ".dataframe > thead > tr > th,\n",
       ".dataframe > tbody > tr > td {\n",
       "  text-align: right;\n",
       "}\n",
       "</style>\n",
       "<small>shape: (5, 20)</small><table border=\"1\" class=\"dataframe\"><thead><tr><th>session_id</th><th>index</th><th>elapsed_time</th><th>event_name</th><th>name</th><th>level</th><th>page</th><th>room_coor_x</th><th>room_coor_y</th><th>screen_coor_x</th><th>screen_coor_y</th><th>hover_duration</th><th>text</th><th>fqid</th><th>room_fqid</th><th>text_fqid</th><th>level_group</th><th>elapsed_time_diff</th><th>location_x_diff</th><th>location_y_diff</th></tr><tr><td>i64</td><td>i16</td><td>i32</td><td>cat</td><td>cat</td><td>i8</td><td>f32</td><td>f32</td><td>f32</td><td>f32</td><td>f32</td><td>f32</td><td>cat</td><td>cat</td><td>cat</td><td>cat</td><td>cat</td><td>i32</td><td>f32</td><td>f32</td></tr></thead><tbody><tr><td>22100221145014656</td><td>1600</td><td>5483231</td><td>&quot;navigate_click…</td><td>&quot;undefined&quot;</td><td>22</td><td>null</td><td>343.887299</td><td>36.701027</td><td>483.0</td><td>273.0</td><td>null</td><td>null</td><td>null</td><td>&quot;tunic.capitol_…</td><td>null</td><td>&quot;13-22&quot;</td><td>1046</td><td>28.0</td><td>69.0</td></tr><tr><td>22100221145014656</td><td>1601</td><td>5485166</td><td>&quot;navigate_click…</td><td>&quot;undefined&quot;</td><td>22</td><td>null</td><td>332.696075</td><td>141.493179</td><td>545.0</td><td>221.0</td><td>null</td><td>null</td><td>&quot;chap4_finale_c…</td><td>&quot;tunic.capitol_…</td><td>null</td><td>&quot;13-22&quot;</td><td>1935</td><td>62.0</td><td>52.0</td></tr><tr><td>22100221145014656</td><td>1602</td><td>5485917</td><td>&quot;navigate_click…</td><td>&quot;undefined&quot;</td><td>22</td><td>null</td><td>369.912872</td><td>140.569199</td><td>611.0</td><td>217.0</td><td>null</td><td>null</td><td>null</td><td>&quot;tunic.capitol_…</td><td>null</td><td>&quot;13-22&quot;</td><td>751</td><td>66.0</td><td>4.0</td></tr><tr><td>22100221145014656</td><td>1603</td><td>5486753</td><td>&quot;navigate_click…</td><td>&quot;undefined&quot;</td><td>22</td><td>null</td><td>252.299652</td><td>123.805893</td><td>526.0</td><td>232.0</td><td>null</td><td>null</td><td>&quot;chap4_finale_c…</td><td>&quot;tunic.capitol_…</td><td>null</td><td>&quot;13-22&quot;</td><td>836</td><td>85.0</td><td>15.0</td></tr><tr><td>22100221145014656</td><td>1604</td><td>5487952</td><td>&quot;checkpoint&quot;</td><td>&quot;basic&quot;</td><td>22</td><td>null</td><td>null</td><td>null</td><td>null</td><td>null</td><td>null</td><td>null</td><td>&quot;chap4_finale_c…</td><td>&quot;tunic.capitol_…</td><td>null</td><td>&quot;13-22&quot;</td><td>1199</td><td>null</td><td>null</td></tr></tbody></table></div>"
      ],
      "text/plain": [
       "shape: (5, 20)\n",
       "┌───────────────┬───────┬──────────────┬───────────────┬───┬─────────────┬───────────────┬──────────────┬──────────────┐\n",
       "│ session_id    ┆ index ┆ elapsed_time ┆ event_name    ┆ … ┆ level_group ┆ elapsed_time_ ┆ location_x_d ┆ location_y_d │\n",
       "│ ---           ┆ ---   ┆ ---          ┆ ---           ┆   ┆ ---         ┆ diff          ┆ iff          ┆ iff          │\n",
       "│ i64           ┆ i16   ┆ i32          ┆ cat           ┆   ┆ cat         ┆ ---           ┆ ---          ┆ ---          │\n",
       "│               ┆       ┆              ┆               ┆   ┆             ┆ i32           ┆ f32          ┆ f32          │\n",
       "╞═══════════════╪═══════╪══════════════╪═══════════════╪═══╪═════════════╪═══════════════╪══════════════╪══════════════╡\n",
       "│ 2210022114501 ┆ 1600  ┆ 5483231      ┆ navigate_clic ┆ … ┆ 13-22       ┆ 1046          ┆ 28.0         ┆ 69.0         │\n",
       "│ 4656          ┆       ┆              ┆ k             ┆   ┆             ┆               ┆              ┆              │\n",
       "│ 2210022114501 ┆ 1601  ┆ 5485166      ┆ navigate_clic ┆ … ┆ 13-22       ┆ 1935          ┆ 62.0         ┆ 52.0         │\n",
       "│ 4656          ┆       ┆              ┆ k             ┆   ┆             ┆               ┆              ┆              │\n",
       "│ 2210022114501 ┆ 1602  ┆ 5485917      ┆ navigate_clic ┆ … ┆ 13-22       ┆ 751           ┆ 66.0         ┆ 4.0          │\n",
       "│ 4656          ┆       ┆              ┆ k             ┆   ┆             ┆               ┆              ┆              │\n",
       "│ 2210022114501 ┆ 1603  ┆ 5486753      ┆ navigate_clic ┆ … ┆ 13-22       ┆ 836           ┆ 85.0         ┆ 15.0         │\n",
       "│ 4656          ┆       ┆              ┆ k             ┆   ┆             ┆               ┆              ┆              │\n",
       "│ 2210022114501 ┆ 1604  ┆ 5487952      ┆ checkpoint    ┆ … ┆ 13-22       ┆ 1199          ┆ null         ┆ null         │\n",
       "│ 4656          ┆       ┆              ┆               ┆   ┆             ┆               ┆              ┆              │\n",
       "└───────────────┴───────┴──────────────┴───────────────┴───┴─────────────┴───────────────┴──────────────┴──────────────┘"
      ]
     },
     "execution_count": 31,
     "metadata": {},
     "output_type": "execute_result"
    }
   ],
   "source": [
    "df3.tail(5)"
   ]
  },
  {
   "cell_type": "code",
   "execution_count": 32,
   "metadata": {
    "papermill": {
     "duration": 2.64667,
     "end_time": "2023-04-05T16:01:20.080940",
     "exception": false,
     "start_time": "2023-04-05T16:01:17.434270",
     "status": "completed"
    },
    "tags": []
   },
   "outputs": [
    {
     "ename": "AttributeError",
     "evalue": "'DataFrame' object has no attribute 'isnull'",
     "output_type": "error",
     "traceback": [
      "\u001b[1;31m---------------------------------------------------------------------------\u001b[0m",
      "\u001b[1;31mAttributeError\u001b[0m                            Traceback (most recent call last)",
      "\u001b[1;32m<ipython-input-32-b9a0434179a9>\u001b[0m in \u001b[0;36m<module>\u001b[1;34m\u001b[0m\n\u001b[0;32m      1\u001b[0m \u001b[1;31m# some cleaning...\u001b[0m\u001b[1;33m\u001b[0m\u001b[1;33m\u001b[0m\u001b[1;33m\u001b[0m\u001b[0m\n\u001b[1;32m----> 2\u001b[1;33m \u001b[0mnull1\u001b[0m \u001b[1;33m=\u001b[0m \u001b[0mdf1\u001b[0m\u001b[1;33m.\u001b[0m\u001b[0misnull\u001b[0m\u001b[1;33m(\u001b[0m\u001b[1;33m)\u001b[0m\u001b[1;33m.\u001b[0m\u001b[0msum\u001b[0m\u001b[1;33m(\u001b[0m\u001b[1;33m)\u001b[0m\u001b[1;33m.\u001b[0m\u001b[0msort_values\u001b[0m\u001b[1;33m(\u001b[0m\u001b[0mascending\u001b[0m\u001b[1;33m=\u001b[0m\u001b[1;32mFalse\u001b[0m\u001b[1;33m)\u001b[0m \u001b[1;33m/\u001b[0m \u001b[0mlen\u001b[0m\u001b[1;33m(\u001b[0m\u001b[0mdf1\u001b[0m\u001b[1;33m)\u001b[0m\u001b[1;33m\u001b[0m\u001b[1;33m\u001b[0m\u001b[0m\n\u001b[0m\u001b[0;32m      3\u001b[0m \u001b[0mnull2\u001b[0m \u001b[1;33m=\u001b[0m \u001b[0mdf2\u001b[0m\u001b[1;33m.\u001b[0m\u001b[0misnull\u001b[0m\u001b[1;33m(\u001b[0m\u001b[1;33m)\u001b[0m\u001b[1;33m.\u001b[0m\u001b[0msum\u001b[0m\u001b[1;33m(\u001b[0m\u001b[1;33m)\u001b[0m\u001b[1;33m.\u001b[0m\u001b[0msort_values\u001b[0m\u001b[1;33m(\u001b[0m\u001b[0mascending\u001b[0m\u001b[1;33m=\u001b[0m\u001b[1;32mFalse\u001b[0m\u001b[1;33m)\u001b[0m \u001b[1;33m/\u001b[0m \u001b[0mlen\u001b[0m\u001b[1;33m(\u001b[0m\u001b[0mdf1\u001b[0m\u001b[1;33m)\u001b[0m\u001b[1;33m\u001b[0m\u001b[1;33m\u001b[0m\u001b[0m\n\u001b[0;32m      4\u001b[0m \u001b[0mnull3\u001b[0m \u001b[1;33m=\u001b[0m \u001b[0mdf3\u001b[0m\u001b[1;33m.\u001b[0m\u001b[0misnull\u001b[0m\u001b[1;33m(\u001b[0m\u001b[1;33m)\u001b[0m\u001b[1;33m.\u001b[0m\u001b[0msum\u001b[0m\u001b[1;33m(\u001b[0m\u001b[1;33m)\u001b[0m\u001b[1;33m.\u001b[0m\u001b[0msort_values\u001b[0m\u001b[1;33m(\u001b[0m\u001b[0mascending\u001b[0m\u001b[1;33m=\u001b[0m\u001b[1;32mFalse\u001b[0m\u001b[1;33m)\u001b[0m \u001b[1;33m/\u001b[0m \u001b[0mlen\u001b[0m\u001b[1;33m(\u001b[0m\u001b[0mdf1\u001b[0m\u001b[1;33m)\u001b[0m\u001b[1;33m\u001b[0m\u001b[1;33m\u001b[0m\u001b[0m\n\u001b[0;32m      5\u001b[0m \u001b[1;33m\u001b[0m\u001b[0m\n",
      "\u001b[1;31mAttributeError\u001b[0m: 'DataFrame' object has no attribute 'isnull'"
     ]
    }
   ],
   "source": [
    "# some cleaning...\n",
    "null1 = df1.isnull().sum().sort_values(ascending=False) / len(df1)\n",
    "null2 = df2.isnull().sum().sort_values(ascending=False) / len(df1)\n",
    "null3 = df3.isnull().sum().sort_values(ascending=False) / len(df1)\n",
    "\n",
    "drop1 = list(null1[null1>0.9].index)\n",
    "drop2 = list(null2[null2>0.9].index)\n",
    "drop3 = list(null3[null3>0.9].index)\n",
    "print(len(drop1), len(drop2), len(drop3))\n",
    "\n",
    "for col in df1.columns:\n",
    "    if df1[col].nunique()==1:\n",
    "        #print(col)\n",
    "        drop1.append(col)\n",
    "print(\"*********df1 DONE*********\")\n",
    "for col in df2.columns:\n",
    "    if df2[col].nunique()==1:\n",
    "        #print(col)\n",
    "        drop2.append(col)\n",
    "print(\"*********df2 DONE*********\")\n",
    "for col in df3.columns:\n",
    "    if df3[col].nunique()==1:\n",
    "        #print(col)\n",
    "        drop3.append(col)\n",
    "print(\"*********df3 DONE*********\")"
   ]
  },
  {
   "cell_type": "code",
   "execution_count": null,
   "metadata": {
    "papermill": {
     "duration": 0.579932,
     "end_time": "2023-04-05T16:01:20.676195",
     "exception": false,
     "start_time": "2023-04-05T16:01:20.096263",
     "status": "completed"
    },
    "tags": []
   },
   "outputs": [],
   "source": [
    "df1 = df1.set_index('session_id')\n",
    "df2 = df2.set_index('session_id')\n",
    "df3 = df3.set_index('session_id')\n",
    "\n",
    "FEATURES1 = [c for c in df1.columns if c not in drop1+['level_group']]\n",
    "FEATURES2 = [c for c in df2.columns if c not in drop2+['level_group']]\n",
    "FEATURES3 = [c for c in df3.columns if c not in drop3+['level_group']]\n",
    "print('We will train with', len(FEATURES1), len(FEATURES2), len(FEATURES3) ,'features')\n",
    "ALL_USERS = df1.index.unique()\n",
    "print('We will train with', len(ALL_USERS) ,'users info')"
   ]
  },
  {
   "cell_type": "code",
   "execution_count": null,
   "metadata": {
    "papermill": {
     "duration": 0.024409,
     "end_time": "2023-04-05T16:01:20.715399",
     "exception": false,
     "start_time": "2023-04-05T16:01:20.690990",
     "status": "completed"
    },
    "tags": []
   },
   "outputs": [],
   "source": [
    "print(type(df1))"
   ]
  },
  {
   "cell_type": "code",
   "execution_count": null,
   "metadata": {
    "papermill": {
     "duration": 0.434994,
     "end_time": "2023-04-05T16:01:21.165791",
     "exception": false,
     "start_time": "2023-04-05T16:01:20.730797",
     "status": "completed"
    },
    "tags": []
   },
   "outputs": [],
   "source": [
    "df1[FEATURES1].head(5)"
   ]
  },
  {
   "cell_type": "markdown",
   "metadata": {
    "papermill": {
     "duration": 0.016211,
     "end_time": "2023-04-05T16:01:21.200270",
     "exception": false,
     "start_time": "2023-04-05T16:01:21.184059",
     "status": "completed"
    },
    "tags": []
   },
   "source": [
    "# Train XGBoost Model"
   ]
  },
  {
   "cell_type": "code",
   "execution_count": null,
   "metadata": {
    "papermill": {
     "duration": 0.026848,
     "end_time": "2023-04-05T16:01:21.243232",
     "exception": false,
     "start_time": "2023-04-05T16:01:21.216384",
     "status": "completed"
    },
    "tags": []
   },
   "outputs": [],
   "source": [
    "# With previous training notebook (Kfold with 20 folds as performed in others notebooks) :\n",
    "estimators_xgb = [498, 448, 378, 364, 405, 495, 456, 249, 384, 405, 356, 262, 484, 381, 392, 248 ,248, 345]"
   ]
  },
  {
   "cell_type": "code",
   "execution_count": null,
   "metadata": {
    "papermill": {
     "duration": 0.027657,
     "end_time": "2023-04-05T16:01:21.286679",
     "exception": false,
     "start_time": "2023-04-05T16:01:21.259022",
     "status": "completed"
    },
    "tags": []
   },
   "outputs": [],
   "source": [
    "xgb_params = {\n",
    "        'booster': 'gbtree',\n",
    "        'tree_method': 'hist',\n",
    "        'objective': 'binary:logistic',\n",
    "        'eval_metric':'logloss',\n",
    "        'learning_rate': 0.02,\n",
    "        'alpha': 8,\n",
    "        'max_depth': 4,\n",
    "        'subsample':0.8,\n",
    "        'colsample_bytree': 0.5,\n",
    "        'seed': 42\n",
    "        }"
   ]
  },
  {
   "cell_type": "code",
   "execution_count": null,
   "metadata": {
    "papermill": {
     "duration": 771.940026,
     "end_time": "2023-04-05T16:14:13.242646",
     "exception": false,
     "start_time": "2023-04-05T16:01:21.302620",
     "status": "completed"
    },
    "tags": []
   },
   "outputs": [],
   "source": [
    "%%time\n",
    "warnings.filterwarnings(\"ignore\")\n",
    "\n",
    "targets['session'] = targets.session_id.apply(lambda x: int(x.split('_')[0]))\n",
    "targets['q'] = targets.session_id.apply(lambda x: int(x.split('_')[-1][1:]))\n",
    "pred_xgb = np.zeros((df1.shape[0],18))     \n",
    "\n",
    "for t in range(1,19):\n",
    "#for t in range(1,2):\n",
    "    # USE THIS TRAIN DATA WITH THESE QUESTIONS\n",
    "    if t<=3: \n",
    "        grp = '0-4'\n",
    "        df = df1\n",
    "        FEATURES = FEATURES1\n",
    "\n",
    "    elif t<=13: \n",
    "        grp = '5-12'\n",
    "        df = df2\n",
    "        FEATURES = FEATURES2\n",
    "\n",
    "    elif t<=22: \n",
    "        grp = '13-22'\n",
    "        df = df3\n",
    "        FEATURES = FEATURES3\n",
    "        \n",
    "    xgb_params['n_estimators'] = estimators_xgb[t-1]\n",
    "     \n",
    "    # TRAIN DATA\n",
    "    train_users = df.index.values\n",
    "    train_y = targets.loc[targets.q==t].set_index('session').loc[train_users] \n",
    "\n",
    "    clf =  XGBClassifier(**xgb_params)\n",
    "    clf.fit(df[FEATURES].astype('float32'), train_y['correct'], verbose = 0)\n",
    "    clf.save_model(f'XGB_question{t}.xgb')\n",
    "    \n",
    "    print(f'model XGB saved for question {t} with iterations = {estimators_xgb[t-1]}')"
   ]
  },
  {
   "cell_type": "markdown",
   "metadata": {
    "papermill": {
     "duration": 0.01667,
     "end_time": "2023-04-05T16:14:13.276091",
     "exception": false,
     "start_time": "2023-04-05T16:14:13.259421",
     "status": "completed"
    },
    "tags": []
   },
   "source": [
    "# Submission Jo Wilder"
   ]
  },
  {
   "cell_type": "code",
   "execution_count": null,
   "metadata": {
    "papermill": {
     "duration": 0.04908,
     "end_time": "2023-04-05T16:14:13.342792",
     "exception": false,
     "start_time": "2023-04-05T16:14:13.293712",
     "status": "completed"
    },
    "tags": []
   },
   "outputs": [],
   "source": [
    "import jo_wilder\n",
    "env = jo_wilder.make_env()\n",
    "iter_test = env.iter_test()"
   ]
  },
  {
   "cell_type": "code",
   "execution_count": null,
   "metadata": {
    "papermill": {
     "duration": 1.006829,
     "end_time": "2023-04-05T16:14:14.367208",
     "exception": false,
     "start_time": "2023-04-05T16:14:13.360379",
     "status": "completed"
    },
    "tags": []
   },
   "outputs": [],
   "source": [
    "limits = {'0-4':(1,4), '5-12':(4,14), '13-22':(14,19)}\n",
    "\n",
    "for test, sample_submission in iter_test:\n",
    "    sample_submission['question'] = [int(label.split('_')[1][1:]) for label in sample_submission['session_id']]\n",
    "    grp = test.level_group.values[0]\n",
    "    a,b = limits[grp]\n",
    "    \n",
    "    # ------------------- level 0-4 ---------------------------------\n",
    "    if a == 1:\n",
    "        FEATURES = FEATURES1\n",
    "        test = (pl.from_pandas(test)\n",
    "                  .drop([\"fullscreen\", \"hq\", \"music\"])\n",
    "                  .with_columns(columns))\n",
    "        test = feature_engineer_pl(test, grp, use_extra=True, feature_suffix='')\n",
    "        test = test[FEATURES]\n",
    "            \n",
    "\n",
    "    # ------------------- level 5-12 ---------------------------------\n",
    "    elif a == 4:\n",
    "        FEATURES = FEATURES2\n",
    "        test = (pl.from_pandas(test)\n",
    "                  .drop([\"fullscreen\", \"hq\", \"music\"])\n",
    "                  .with_columns(columns))\n",
    "        test = feature_engineer_pl(test, grp, use_extra=True, feature_suffix='')\n",
    "        test = test[FEATURES]\n",
    "\n",
    "    # ------------------- level 13-22 ---------------------------------    \n",
    "    elif a == 14:\n",
    "        FEATURES = FEATURES3\n",
    "        test = (pl.from_pandas(test)\n",
    "                  .drop([\"fullscreen\", \"hq\", \"music\"])\n",
    "                  .with_columns(columns))\n",
    "        test = feature_engineer_pl(test, grp, use_extra=True, feature_suffix='')\n",
    "        test = test[FEATURES]\n",
    "    \n",
    "\n",
    "    # INFER TEST DATA\n",
    "    \n",
    "    for t in range(a,b):\n",
    "        clf = XGBClassifier()\n",
    "        clf.load_model(f'/kaggle/working/XGB_question{t}.xgb')\n",
    "        p = clf.predict_proba(test.astype('float32'))[:,1]\n",
    "        mask = sample_submission.question == t    \n",
    "        sample_submission.loc[mask, 'correct'] = (p > 0.625).astype('int') \n",
    "    env.predict(sample_submission[['session_id', 'correct']])"
   ]
  },
  {
   "cell_type": "code",
   "execution_count": null,
   "metadata": {
    "papermill": {
     "duration": 0.038787,
     "end_time": "2023-04-05T16:14:14.423601",
     "exception": false,
     "start_time": "2023-04-05T16:14:14.384814",
     "status": "completed"
    },
    "tags": []
   },
   "outputs": [],
   "source": [
    "pd.read_csv('submission.csv').head(10)\n",
    "#print(\"count1: \",count1)"
   ]
  },
  {
   "cell_type": "code",
   "execution_count": null,
   "metadata": {
    "papermill": {
     "duration": 0.01683,
     "end_time": "2023-04-05T16:14:14.458872",
     "exception": false,
     "start_time": "2023-04-05T16:14:14.442042",
     "status": "completed"
    },
    "tags": []
   },
   "outputs": [],
   "source": []
  },
  {
   "cell_type": "code",
   "execution_count": null,
   "metadata": {
    "papermill": {
     "duration": 0.016642,
     "end_time": "2023-04-05T16:14:14.492462",
     "exception": false,
     "start_time": "2023-04-05T16:14:14.475820",
     "status": "completed"
    },
    "tags": []
   },
   "outputs": [],
   "source": []
  }
 ],
 "metadata": {
  "kernelspec": {
   "display_name": "Python 3",
   "language": "python",
   "name": "python3"
  },
  "language_info": {
   "codemirror_mode": {
    "name": "ipython",
    "version": 3
   },
   "file_extension": ".py",
   "mimetype": "text/x-python",
   "name": "python",
   "nbconvert_exporter": "python",
   "pygments_lexer": "ipython3",
   "version": "3.8.5"
  },
  "papermill": {
   "default_parameters": {},
   "duration": 926.253544,
   "end_time": "2023-04-05T16:14:16.039898",
   "environment_variables": {},
   "exception": null,
   "input_path": "__notebook__.ipynb",
   "output_path": "__notebook__.ipynb",
   "parameters": {},
   "start_time": "2023-04-05T15:58:49.786354",
   "version": "2.4.0"
  }
 },
 "nbformat": 4,
 "nbformat_minor": 5
}
