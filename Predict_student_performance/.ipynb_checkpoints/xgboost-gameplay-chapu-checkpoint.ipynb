{
 "cells": [
  {
   "cell_type": "markdown",
   "id": "6ec37c78",
   "metadata": {
    "papermill": {
     "duration": 0.012822,
     "end_time": "2023-04-05T15:59:00.111600",
     "exception": false,
     "start_time": "2023-04-05T15:59:00.098778",
     "status": "completed"
    },
    "tags": []
   },
   "source": [
    "This Notebook is based on the job of PR0FESS0ROP \n",
    "https://www.kaggle.com/code/pr0fess0rop/simple-xgb-model"
   ]
  },
  {
   "cell_type": "markdown",
   "id": "eb240cf7",
   "metadata": {
    "papermill": {
     "duration": 0.011155,
     "end_time": "2023-04-05T15:59:00.134745",
     "exception": false,
     "start_time": "2023-04-05T15:59:00.123590",
     "status": "completed"
    },
    "tags": []
   },
   "source": [
    "# Libraries"
   ]
  },
  {
   "cell_type": "code",
   "execution_count": 1,
   "id": "b76510f5",
   "metadata": {
    "execution": {
     "iopub.execute_input": "2023-04-05T15:59:00.159844Z",
     "iopub.status.busy": "2023-04-05T15:59:00.159121Z",
     "iopub.status.idle": "2023-04-05T15:59:00.164134Z",
     "shell.execute_reply": "2023-04-05T15:59:00.163144Z"
    },
    "papermill": {
     "duration": 0.021127,
     "end_time": "2023-04-05T15:59:00.167278",
     "exception": false,
     "start_time": "2023-04-05T15:59:00.146151",
     "status": "completed"
    },
    "tags": []
   },
   "outputs": [],
   "source": [
    "# !pip install polars"
   ]
  },
  {
   "cell_type": "code",
   "execution_count": 2,
   "id": "db845d7a",
   "metadata": {
    "execution": {
     "iopub.execute_input": "2023-04-05T15:59:00.194216Z",
     "iopub.status.busy": "2023-04-05T15:59:00.193426Z",
     "iopub.status.idle": "2023-04-05T15:59:00.197445Z",
     "shell.execute_reply": "2023-04-05T15:59:00.196615Z"
    },
    "papermill": {
     "duration": 0.019499,
     "end_time": "2023-04-05T15:59:00.199573",
     "exception": false,
     "start_time": "2023-04-05T15:59:00.180074",
     "status": "completed"
    },
    "tags": []
   },
   "outputs": [],
   "source": [
    "# !pip install pyarrow"
   ]
  },
  {
   "cell_type": "code",
   "execution_count": 3,
   "id": "6768f8df",
   "metadata": {
    "execution": {
     "iopub.execute_input": "2023-04-05T15:59:00.225191Z",
     "iopub.status.busy": "2023-04-05T15:59:00.224430Z",
     "iopub.status.idle": "2023-04-05T15:59:00.228543Z",
     "shell.execute_reply": "2023-04-05T15:59:00.227703Z"
    },
    "papermill": {
     "duration": 0.019566,
     "end_time": "2023-04-05T15:59:00.230696",
     "exception": false,
     "start_time": "2023-04-05T15:59:00.211130",
     "status": "completed"
    },
    "tags": []
   },
   "outputs": [],
   "source": [
    "# !pip install xgboost"
   ]
  },
  {
   "cell_type": "code",
   "execution_count": 4,
   "id": "ac4744c1",
   "metadata": {
    "execution": {
     "iopub.execute_input": "2023-04-05T15:59:00.256295Z",
     "iopub.status.busy": "2023-04-05T15:59:00.255546Z",
     "iopub.status.idle": "2023-04-05T15:59:00.259441Z",
     "shell.execute_reply": "2023-04-05T15:59:00.258633Z"
    },
    "papermill": {
     "duration": 0.019578,
     "end_time": "2023-04-05T15:59:00.261469",
     "exception": false,
     "start_time": "2023-04-05T15:59:00.241891",
     "status": "completed"
    },
    "tags": []
   },
   "outputs": [],
   "source": [
    "# !pip install lightgbm"
   ]
  },
  {
   "cell_type": "code",
   "execution_count": 5,
   "id": "fc38b246",
   "metadata": {
    "execution": {
     "iopub.execute_input": "2023-04-05T15:59:00.286268Z",
     "iopub.status.busy": "2023-04-05T15:59:00.285521Z",
     "iopub.status.idle": "2023-04-05T15:59:00.290005Z",
     "shell.execute_reply": "2023-04-05T15:59:00.288856Z"
    },
    "papermill": {
     "duration": 0.020101,
     "end_time": "2023-04-05T15:59:00.293017",
     "exception": false,
     "start_time": "2023-04-05T15:59:00.272916",
     "status": "completed"
    },
    "tags": []
   },
   "outputs": [],
   "source": [
    "# !pip install matplotlib"
   ]
  },
  {
   "cell_type": "code",
   "execution_count": 6,
   "id": "4c365698",
   "metadata": {
    "execution": {
     "iopub.execute_input": "2023-04-05T15:59:00.318306Z",
     "iopub.status.busy": "2023-04-05T15:59:00.317526Z",
     "iopub.status.idle": "2023-04-05T15:59:00.321731Z",
     "shell.execute_reply": "2023-04-05T15:59:00.320841Z"
    },
    "papermill": {
     "duration": 0.01966,
     "end_time": "2023-04-05T15:59:00.323975",
     "exception": false,
     "start_time": "2023-04-05T15:59:00.304315",
     "status": "completed"
    },
    "tags": []
   },
   "outputs": [],
   "source": [
    "# !pip install colorama"
   ]
  },
  {
   "cell_type": "markdown",
   "id": "7a827578",
   "metadata": {
    "papermill": {
     "duration": 0.011065,
     "end_time": "2023-04-05T15:59:00.346565",
     "exception": false,
     "start_time": "2023-04-05T15:59:00.335500",
     "status": "completed"
    },
    "tags": []
   },
   "source": [
    "# Reading Training file"
   ]
  },
  {
   "cell_type": "code",
   "execution_count": 7,
   "id": "84cef4f9",
   "metadata": {
    "_cell_guid": "b1076dfc-b9ad-4769-8c92-a6c4dae69d19",
    "_uuid": "8f2839f25d086af736a60e9eeb907d3b93b6e0e5",
    "execution": {
     "iopub.execute_input": "2023-04-05T15:59:00.372307Z",
     "iopub.status.busy": "2023-04-05T15:59:00.371561Z",
     "iopub.status.idle": "2023-04-05T15:59:03.007424Z",
     "shell.execute_reply": "2023-04-05T15:59:03.006418Z"
    },
    "papermill": {
     "duration": 2.65214,
     "end_time": "2023-04-05T15:59:03.010114",
     "exception": false,
     "start_time": "2023-04-05T15:59:00.357974",
     "status": "completed"
    },
    "tags": []
   },
   "outputs": [
    {
     "data": {
      "text/html": [
       "<style type='text/css'>\n",
       ".datatable table.frame { margin-bottom: 0; }\n",
       ".datatable table.frame thead { border-bottom: none; }\n",
       ".datatable table.frame tr.coltypes td {  color: #FFFFFF;  line-height: 6px;  padding: 0 0.5em;}\n",
       ".datatable .bool    { background: #DDDD99; }\n",
       ".datatable .object  { background: #565656; }\n",
       ".datatable .int     { background: #5D9E5D; }\n",
       ".datatable .float   { background: #4040CC; }\n",
       ".datatable .str     { background: #CC4040; }\n",
       ".datatable .time    { background: #40CC40; }\n",
       ".datatable .row_index {  background: var(--jp-border-color3);  border-right: 1px solid var(--jp-border-color0);  color: var(--jp-ui-font-color3);  font-size: 9px;}\n",
       ".datatable .frame tbody td { text-align: left; }\n",
       ".datatable .frame tr.coltypes .row_index {  background: var(--jp-border-color0);}\n",
       ".datatable th:nth-child(2) { padding-left: 12px; }\n",
       ".datatable .hellipsis {  color: var(--jp-cell-editor-border-color);}\n",
       ".datatable .vellipsis {  background: var(--jp-layout-color0);  color: var(--jp-cell-editor-border-color);}\n",
       ".datatable .na {  color: var(--jp-cell-editor-border-color);  font-size: 80%;}\n",
       ".datatable .sp {  opacity: 0.25;}\n",
       ".datatable .footer { font-size: 9px; }\n",
       ".datatable .frame_dimensions {  background: var(--jp-border-color3);  border-top: 1px solid var(--jp-border-color0);  color: var(--jp-ui-font-color3);  display: inline-block;  opacity: 0.6;  padding: 1px 10px 1px 5px;}\n",
       "</style>\n"
      ],
      "text/plain": [
       "<IPython.core.display.HTML object>"
      ]
     },
     "metadata": {},
     "output_type": "display_data"
    },
    {
     "name": "stdout",
     "output_type": "stream",
     "text": [
      "/kaggle/input/predict-student-performance-from-game-play/sample_submission.csv\n",
      "/kaggle/input/predict-student-performance-from-game-play/train_labels.csv\n",
      "/kaggle/input/predict-student-performance-from-game-play/train.csv\n",
      "/kaggle/input/predict-student-performance-from-game-play/test.csv\n",
      "/kaggle/input/predict-student-performance-from-game-play/jo_wilder/competition.cpython-37m-x86_64-linux-gnu.so\n",
      "/kaggle/input/predict-student-performance-from-game-play/jo_wilder/__init__.py\n"
     ]
    }
   ],
   "source": [
    "# This Python 3 environment comes with many helpful analytics libraries installed\n",
    "# It is defined by the kaggle/python Docker image: https://github.com/kaggle/docker-python\n",
    "# For example, here's several helpful packages to load\n",
    "\n",
    "import gc\n",
    "import os\n",
    "\n",
    "import pandas as pd\n",
    "import numpy as np\n",
    "import warnings\n",
    "import pickle\n",
    "import polars as pl\n",
    "\n",
    "from collections import defaultdict\n",
    "from itertools import combinations\n",
    "import pyarrow as pa\n",
    "\n",
    "from xgboost import XGBClassifier\n",
    "\n",
    "from lightgbm import LGBMClassifier\n",
    "from lightgbm import early_stopping\n",
    "from lightgbm import log_evaluation\n",
    "\n",
    "from sklearn.model_selection import KFold\n",
    "from sklearn.metrics import roc_auc_score, f1_score\n",
    "\n",
    "\n",
    "import matplotlib.pyplot as plt\n",
    "from colorama import Fore, Back, Style\n",
    "\n",
    "# Input data files are available in the read-only \"../input/\" directory\n",
    "# For example, running this (by clicking run or pressing Shift+Enter) will list all files under the input directory\n",
    "\n",
    "import os\n",
    "for dirname, _, filenames in os.walk('/kaggle/input'):\n",
    "    for filename in filenames:\n",
    "        print(os.path.join(dirname, filename))\n",
    "\n",
    "# settings\n",
    "warnings.filterwarnings(\"ignore\")"
   ]
  },
  {
   "cell_type": "code",
   "execution_count": 8,
   "id": "9f5b4535",
   "metadata": {
    "execution": {
     "iopub.execute_input": "2023-04-05T15:59:03.036636Z",
     "iopub.status.busy": "2023-04-05T15:59:03.035804Z",
     "iopub.status.idle": "2023-04-05T15:59:03.043198Z",
     "shell.execute_reply": "2023-04-05T15:59:03.042112Z"
    },
    "papermill": {
     "duration": 0.023745,
     "end_time": "2023-04-05T15:59:03.045955",
     "exception": false,
     "start_time": "2023-04-05T15:59:03.022210",
     "status": "completed"
    },
    "tags": []
   },
   "outputs": [],
   "source": [
    "dtypes = {\"session_id\": pl.Int64,\n",
    "          \"elapsed_time\": pl.Int64,\n",
    "          \"event_name\": pl.Categorical,\n",
    "          \"name\": pl.Categorical,\n",
    "          \"level\": pl.Int8,\n",
    "          \"page\": pl.Float32,\n",
    "          \"room_coor_x\": pl.Float32,\n",
    "          \"room_coor_y\": pl.Float32,\n",
    "          \"screen_coor_x\": pl.Float32,\n",
    "          \"screen_coor_y\": pl.Float32,\n",
    "          \"hover_duration\": pl.Float32,\n",
    "          \"text\": pl.Categorical,\n",
    "          \"fqid\": pl.Categorical,\n",
    "          \"room_fqid\": pl.Categorical,\n",
    "          \"text_fqid\": pl.Categorical,\n",
    "          \"fullscreen\": pl.Int8,\n",
    "          \"hq\": pl.Int8,\n",
    "          \"music\": pl.Int8,\n",
    "          \"level_group\": pl.Categorical\n",
    "          }"
   ]
  },
  {
   "cell_type": "code",
   "execution_count": 9,
   "id": "708b3279",
   "metadata": {
    "execution": {
     "iopub.execute_input": "2023-04-05T15:59:03.072620Z",
     "iopub.status.busy": "2023-04-05T15:59:03.071813Z",
     "iopub.status.idle": "2023-04-05T15:59:03.093608Z",
     "shell.execute_reply": "2023-04-05T15:59:03.092530Z"
    },
    "papermill": {
     "duration": 0.038082,
     "end_time": "2023-04-05T15:59:03.096226",
     "exception": false,
     "start_time": "2023-04-05T15:59:03.058144",
     "status": "completed"
    },
    "tags": []
   },
   "outputs": [],
   "source": [
    "columns = [\n",
    "\n",
    "    pl.col(\"page\").cast(pl.Float32),\n",
    "    (\n",
    "        (pl.col(\"elapsed_time\") - pl.col(\"elapsed_time\").shift(1)) \n",
    "         .fill_null(0)\n",
    "         .clip(0, 1e9)\n",
    "         .over([\"session_id\", \"level_group\"])\n",
    "         .alias(\"elapsed_time_diff\")\n",
    "    ),\n",
    "    (\n",
    "        (pl.col(\"screen_coor_x\") - pl.col(\"screen_coor_x\").shift(1)) \n",
    "         .abs()\n",
    "         .over([\"session_id\", \"level_group\"])\n",
    "        .alias(\"location_x_diff\") \n",
    "    ),\n",
    "    (\n",
    "        (pl.col(\"screen_coor_y\") - pl.col(\"screen_coor_y\").shift(1)) \n",
    "         .abs()\n",
    "         .over([\"session_id\", \"level_group\"])\n",
    "        .alias(\"location_y_diff\") \n",
    "    )\n",
    "]"
   ]
  },
  {
   "cell_type": "code",
   "execution_count": 10,
   "id": "43448037",
   "metadata": {
    "execution": {
     "iopub.execute_input": "2023-04-05T15:59:03.123177Z",
     "iopub.status.busy": "2023-04-05T15:59:03.122361Z",
     "iopub.status.idle": "2023-04-05T15:59:03.128905Z",
     "shell.execute_reply": "2023-04-05T15:59:03.127897Z"
    },
    "papermill": {
     "duration": 0.02306,
     "end_time": "2023-04-05T15:59:03.131233",
     "exception": false,
     "start_time": "2023-04-05T15:59:03.108173",
     "status": "completed"
    },
    "tags": []
   },
   "outputs": [
    {
     "data": {
      "text/plain": [
       "<polars.string_cache.StringCache at 0x775579bcc510>"
      ]
     },
     "execution_count": 10,
     "metadata": {},
     "output_type": "execute_result"
    }
   ],
   "source": [
    "pl.StringCache()"
   ]
  },
  {
   "cell_type": "markdown",
   "id": "2913f671",
   "metadata": {
    "papermill": {
     "duration": 0.011837,
     "end_time": "2023-04-05T15:59:03.155505",
     "exception": false,
     "start_time": "2023-04-05T15:59:03.143668",
     "status": "completed"
    },
    "tags": []
   },
   "source": [
    "### Reading from Kaggle Environment"
   ]
  },
  {
   "cell_type": "code",
   "execution_count": 11,
   "id": "223977bd",
   "metadata": {
    "execution": {
     "iopub.execute_input": "2023-04-05T15:59:03.181833Z",
     "iopub.status.busy": "2023-04-05T15:59:03.180976Z",
     "iopub.status.idle": "2023-04-05T15:59:50.079616Z",
     "shell.execute_reply": "2023-04-05T15:59:50.078646Z"
    },
    "papermill": {
     "duration": 46.922512,
     "end_time": "2023-04-05T15:59:50.090066",
     "exception": false,
     "start_time": "2023-04-05T15:59:03.167554",
     "status": "completed"
    },
    "tags": []
   },
   "outputs": [
    {
     "name": "stdout",
     "output_type": "stream",
     "text": [
      "CPU times: user 35.7 s, sys: 14.3 s, total: 50 s\n",
      "Wall time: 46.9 s\n"
     ]
    }
   ],
   "source": [
    "%%time\n",
    "files_status = True\n",
    "\n",
    "try:    \n",
    "    #train = pd.read_csv('/kaggle/input/predict-student-performance-from-game-play/train.csv', dtype=dtypes)\n",
    "    train = (pl.read_csv('/kaggle/input/predict-student-performance-from-game-play/train.csv',dtypes=dtypes)\n",
    "                .drop([\"fullscreen\", \"hq\", \"music\"])\n",
    "                .with_columns(columns)\n",
    "              )\n",
    "    targets = pd.read_csv('/kaggle/input/predict-student-performance-from-game-play/train_labels.csv')\n",
    "    #test = pd.read_csv(\"'/kaggle/input/predict-student-performance-from-game-play/test.csv'\")\n",
    "except OSError as e:\n",
    "    print(\"files not found in Kaggle environment: \",e.errno)\n",
    "    files_status = False"
   ]
  },
  {
   "cell_type": "markdown",
   "id": "dda76c06",
   "metadata": {
    "papermill": {
     "duration": 0.011559,
     "end_time": "2023-04-05T15:59:50.113530",
     "exception": false,
     "start_time": "2023-04-05T15:59:50.101971",
     "status": "completed"
    },
    "tags": []
   },
   "source": [
    "### Reading from local environment (files folder)"
   ]
  },
  {
   "cell_type": "code",
   "execution_count": 12,
   "id": "d2bb0c30",
   "metadata": {
    "execution": {
     "iopub.execute_input": "2023-04-05T15:59:50.139299Z",
     "iopub.status.busy": "2023-04-05T15:59:50.138530Z",
     "iopub.status.idle": "2023-04-05T15:59:50.145083Z",
     "shell.execute_reply": "2023-04-05T15:59:50.144260Z"
    },
    "papermill": {
     "duration": 0.022575,
     "end_time": "2023-04-05T15:59:50.147851",
     "exception": false,
     "start_time": "2023-04-05T15:59:50.125276",
     "status": "completed"
    },
    "tags": []
   },
   "outputs": [
    {
     "name": "stdout",
     "output_type": "stream",
     "text": [
      "CPU times: user 4 µs, sys: 2 µs, total: 6 µs\n",
      "Wall time: 9.06 µs\n"
     ]
    }
   ],
   "source": [
    "%%time\n",
    "#If environment is not kaggle notebook, read them from a folder \n",
    "\n",
    "try:\n",
    "    if files_status == False:\n",
    "        train = (pl.read_csv(\"predict-student-performance-from-game-play/train.csv\", dtypes=dtypes)\n",
    "                    .drop([\"fullscreen\", \"hq\", \"music\"])\n",
    "                    .with_columns(columns)\n",
    "                )\n",
    "        targets = pd.read_csv('predict-student-performance-from-game-play/train_labels.csv')\n",
    "except OSError as e:\n",
    "    print(\"Files not found\")"
   ]
  },
  {
   "cell_type": "code",
   "execution_count": 13,
   "id": "81585d28",
   "metadata": {
    "execution": {
     "iopub.execute_input": "2023-04-05T15:59:50.173914Z",
     "iopub.status.busy": "2023-04-05T15:59:50.173518Z",
     "iopub.status.idle": "2023-04-05T15:59:50.179846Z",
     "shell.execute_reply": "2023-04-05T15:59:50.178334Z"
    },
    "papermill": {
     "duration": 0.022048,
     "end_time": "2023-04-05T15:59:50.181931",
     "exception": false,
     "start_time": "2023-04-05T15:59:50.159883",
     "status": "completed"
    },
    "tags": []
   },
   "outputs": [
    {
     "name": "stdout",
     "output_type": "stream",
     "text": [
      "Memory usage of dataframe is 2366.85 MB\n"
     ]
    }
   ],
   "source": [
    "print(f\"Memory usage of dataframe is {round(train.estimated_size('mb'), 2)} MB\")"
   ]
  },
  {
   "cell_type": "markdown",
   "id": "d5e649cf",
   "metadata": {
    "papermill": {
     "duration": 0.012169,
     "end_time": "2023-04-05T15:59:50.206104",
     "exception": false,
     "start_time": "2023-04-05T15:59:50.193935",
     "status": "completed"
    },
    "tags": []
   },
   "source": [
    "# Reducing training file"
   ]
  },
  {
   "cell_type": "code",
   "execution_count": 14,
   "id": "45ab4bd5",
   "metadata": {
    "execution": {
     "iopub.execute_input": "2023-04-05T15:59:50.232518Z",
     "iopub.status.busy": "2023-04-05T15:59:50.231483Z",
     "iopub.status.idle": "2023-04-05T15:59:50.245425Z",
     "shell.execute_reply": "2023-04-05T15:59:50.244547Z"
    },
    "papermill": {
     "duration": 0.029847,
     "end_time": "2023-04-05T15:59:50.247904",
     "exception": false,
     "start_time": "2023-04-05T15:59:50.218057",
     "status": "completed"
    },
    "tags": []
   },
   "outputs": [],
   "source": [
    "def reduce_memory_usage_pl(df, name):\n",
    "    \"\"\" Reduce memory usage by polars dataframe {df} with name {name} by changing its data types.\n",
    "        Original pandas version of this function: https://www.kaggle.com/code/arjanso/reducing-dataframe-memory-size-by-65 \"\"\"\n",
    "    print(f\"Memory usage of dataframe {name} is {round(df.estimated_size('mb'), 2)} MB\")\n",
    "    Numeric_Int_types = [pl.Int8,pl.Int16,pl.Int32,pl.Int64]\n",
    "    Numeric_Float_types = [pl.Float32,pl.Float64]    \n",
    "    for col in df.columns:\n",
    "        col_type = df[col].dtype\n",
    "        c_min = df[col].min()\n",
    "        c_max = df[col].max()\n",
    "        if col_type in Numeric_Int_types:\n",
    "            if c_min > np.iinfo(np.int8).min and c_max < np.iinfo(np.int8).max:\n",
    "                df = df.with_columns(df[col].cast(pl.Int8))\n",
    "            elif c_min > np.iinfo(np.int16).min and c_max < np.iinfo(np.int16).max:\n",
    "                df = df.with_columns(df[col].cast(pl.Int16))\n",
    "            elif c_min > np.iinfo(np.int32).min and c_max < np.iinfo(np.int32).max:\n",
    "                df = df.with_columns(df[col].cast(pl.Int32))\n",
    "            elif c_min > np.iinfo(np.int64).min and c_max < np.iinfo(np.int64).max:\n",
    "                df = df.with_columns(df[col].cast(pl.Int64))\n",
    "        elif col_type in Numeric_Float_types:\n",
    "            if c_min > np.finfo(np.float32).min and c_max < np.finfo(np.float32).max:\n",
    "                df = df.with_columns(df[col].cast(pl.Float32))\n",
    "            else:\n",
    "                pass\n",
    "        elif col_type == pl.Utf8:\n",
    "            df = df.with_columns(df[col].cast(pl.Categorical))\n",
    "        else:\n",
    "            pass\n",
    "    \n",
    "    print(f\"Memory usage of dataframe {name} became {round(df.estimated_size('mb'), 2)} MB\")\n",
    "    return df"
   ]
  },
  {
   "cell_type": "code",
   "execution_count": 15,
   "id": "3d2daaaa",
   "metadata": {
    "execution": {
     "iopub.execute_input": "2023-04-05T15:59:50.275151Z",
     "iopub.status.busy": "2023-04-05T15:59:50.274368Z",
     "iopub.status.idle": "2023-04-05T15:59:51.431262Z",
     "shell.execute_reply": "2023-04-05T15:59:51.430387Z"
    },
    "papermill": {
     "duration": 1.173257,
     "end_time": "2023-04-05T15:59:51.433715",
     "exception": false,
     "start_time": "2023-04-05T15:59:50.260458",
     "status": "completed"
    },
    "tags": []
   },
   "outputs": [
    {
     "name": "stdout",
     "output_type": "stream",
     "text": [
      "Memory usage of dataframe train_subset is 2366.85 MB\n",
      "Memory usage of dataframe train_subset became 2015.75 MB\n"
     ]
    }
   ],
   "source": [
    "# Reducing polar\n",
    "train = reduce_memory_usage_pl(train, \"train_subset\")"
   ]
  },
  {
   "cell_type": "code",
   "execution_count": 16,
   "id": "5961e70b",
   "metadata": {
    "execution": {
     "iopub.execute_input": "2023-04-05T15:59:51.460662Z",
     "iopub.status.busy": "2023-04-05T15:59:51.459996Z",
     "iopub.status.idle": "2023-04-05T15:59:51.464910Z",
     "shell.execute_reply": "2023-04-05T15:59:51.463812Z"
    },
    "papermill": {
     "duration": 0.020782,
     "end_time": "2023-04-05T15:59:51.467039",
     "exception": false,
     "start_time": "2023-04-05T15:59:51.446257",
     "status": "completed"
    },
    "tags": []
   },
   "outputs": [
    {
     "name": "stdout",
     "output_type": "stream",
     "text": [
      "['session_id', 'index', 'elapsed_time', 'event_name', 'name', 'level', 'page', 'room_coor_x', 'room_coor_y', 'screen_coor_x', 'screen_coor_y', 'hover_duration', 'text', 'fqid', 'room_fqid', 'text_fqid', 'level_group', 'elapsed_time_diff', 'location_x_diff', 'location_y_diff']\n"
     ]
    }
   ],
   "source": [
    "print(train.columns)"
   ]
  },
  {
   "cell_type": "code",
   "execution_count": 17,
   "id": "385f6bcd",
   "metadata": {
    "execution": {
     "iopub.execute_input": "2023-04-05T15:59:51.493379Z",
     "iopub.status.busy": "2023-04-05T15:59:51.492603Z",
     "iopub.status.idle": "2023-04-05T15:59:51.509990Z",
     "shell.execute_reply": "2023-04-05T15:59:51.509168Z"
    },
    "papermill": {
     "duration": 0.033178,
     "end_time": "2023-04-05T15:59:51.512272",
     "exception": false,
     "start_time": "2023-04-05T15:59:51.479094",
     "status": "completed"
    },
    "tags": []
   },
   "outputs": [
    {
     "data": {
      "text/html": [
       "<div>\n",
       "<style>\n",
       ".pl-dataframe > thead > tr > th {\n",
       "  text-align: right;\n",
       "}\n",
       "</style>\n",
       "\n",
       "<table border=\"1\" class=\"dataframe pl-dataframe\">\n",
       "<small>shape: (4, 20)</small>\n",
       "<thead>\n",
       "<tr>\n",
       "<th>\n",
       "session_id\n",
       "</th>\n",
       "<th>\n",
       "index\n",
       "</th>\n",
       "<th>\n",
       "elapsed_time\n",
       "</th>\n",
       "<th>\n",
       "event_name\n",
       "</th>\n",
       "<th>\n",
       "name\n",
       "</th>\n",
       "<th>\n",
       "level\n",
       "</th>\n",
       "<th>\n",
       "page\n",
       "</th>\n",
       "<th>\n",
       "room_coor_x\n",
       "</th>\n",
       "<th>\n",
       "room_coor_y\n",
       "</th>\n",
       "<th>\n",
       "screen_coor_x\n",
       "</th>\n",
       "<th>\n",
       "screen_coor_y\n",
       "</th>\n",
       "<th>\n",
       "hover_duration\n",
       "</th>\n",
       "<th>\n",
       "text\n",
       "</th>\n",
       "<th>\n",
       "fqid\n",
       "</th>\n",
       "<th>\n",
       "room_fqid\n",
       "</th>\n",
       "<th>\n",
       "text_fqid\n",
       "</th>\n",
       "<th>\n",
       "level_group\n",
       "</th>\n",
       "<th>\n",
       "elapsed_time_diff\n",
       "</th>\n",
       "<th>\n",
       "location_x_diff\n",
       "</th>\n",
       "<th>\n",
       "location_y_diff\n",
       "</th>\n",
       "</tr>\n",
       "<tr>\n",
       "<td>\n",
       "i64\n",
       "</td>\n",
       "<td>\n",
       "i16\n",
       "</td>\n",
       "<td>\n",
       "i32\n",
       "</td>\n",
       "<td>\n",
       "cat\n",
       "</td>\n",
       "<td>\n",
       "cat\n",
       "</td>\n",
       "<td>\n",
       "i8\n",
       "</td>\n",
       "<td>\n",
       "f32\n",
       "</td>\n",
       "<td>\n",
       "f32\n",
       "</td>\n",
       "<td>\n",
       "f32\n",
       "</td>\n",
       "<td>\n",
       "f32\n",
       "</td>\n",
       "<td>\n",
       "f32\n",
       "</td>\n",
       "<td>\n",
       "f32\n",
       "</td>\n",
       "<td>\n",
       "cat\n",
       "</td>\n",
       "<td>\n",
       "cat\n",
       "</td>\n",
       "<td>\n",
       "cat\n",
       "</td>\n",
       "<td>\n",
       "cat\n",
       "</td>\n",
       "<td>\n",
       "cat\n",
       "</td>\n",
       "<td>\n",
       "i32\n",
       "</td>\n",
       "<td>\n",
       "f32\n",
       "</td>\n",
       "<td>\n",
       "f32\n",
       "</td>\n",
       "</tr>\n",
       "</thead>\n",
       "<tbody>\n",
       "<tr>\n",
       "<td>\n",
       "22100221145014656\n",
       "</td>\n",
       "<td>\n",
       "1601\n",
       "</td>\n",
       "<td>\n",
       "5485166\n",
       "</td>\n",
       "<td>\n",
       "&quot;navigate_click...\n",
       "</td>\n",
       "<td>\n",
       "&quot;undefined&quot;\n",
       "</td>\n",
       "<td>\n",
       "22\n",
       "</td>\n",
       "<td>\n",
       "null\n",
       "</td>\n",
       "<td>\n",
       "332.696075\n",
       "</td>\n",
       "<td>\n",
       "141.493179\n",
       "</td>\n",
       "<td>\n",
       "545.0\n",
       "</td>\n",
       "<td>\n",
       "221.0\n",
       "</td>\n",
       "<td>\n",
       "null\n",
       "</td>\n",
       "<td>\n",
       "null\n",
       "</td>\n",
       "<td>\n",
       "&quot;chap4_finale_c...\n",
       "</td>\n",
       "<td>\n",
       "&quot;tunic.capitol_...\n",
       "</td>\n",
       "<td>\n",
       "null\n",
       "</td>\n",
       "<td>\n",
       "&quot;13-22&quot;\n",
       "</td>\n",
       "<td>\n",
       "1935\n",
       "</td>\n",
       "<td>\n",
       "62.0\n",
       "</td>\n",
       "<td>\n",
       "52.0\n",
       "</td>\n",
       "</tr>\n",
       "<tr>\n",
       "<td>\n",
       "22100221145014656\n",
       "</td>\n",
       "<td>\n",
       "1602\n",
       "</td>\n",
       "<td>\n",
       "5485917\n",
       "</td>\n",
       "<td>\n",
       "&quot;navigate_click...\n",
       "</td>\n",
       "<td>\n",
       "&quot;undefined&quot;\n",
       "</td>\n",
       "<td>\n",
       "22\n",
       "</td>\n",
       "<td>\n",
       "null\n",
       "</td>\n",
       "<td>\n",
       "369.912872\n",
       "</td>\n",
       "<td>\n",
       "140.569199\n",
       "</td>\n",
       "<td>\n",
       "611.0\n",
       "</td>\n",
       "<td>\n",
       "217.0\n",
       "</td>\n",
       "<td>\n",
       "null\n",
       "</td>\n",
       "<td>\n",
       "null\n",
       "</td>\n",
       "<td>\n",
       "null\n",
       "</td>\n",
       "<td>\n",
       "&quot;tunic.capitol_...\n",
       "</td>\n",
       "<td>\n",
       "null\n",
       "</td>\n",
       "<td>\n",
       "&quot;13-22&quot;\n",
       "</td>\n",
       "<td>\n",
       "751\n",
       "</td>\n",
       "<td>\n",
       "66.0\n",
       "</td>\n",
       "<td>\n",
       "4.0\n",
       "</td>\n",
       "</tr>\n",
       "<tr>\n",
       "<td>\n",
       "22100221145014656\n",
       "</td>\n",
       "<td>\n",
       "1603\n",
       "</td>\n",
       "<td>\n",
       "5486753\n",
       "</td>\n",
       "<td>\n",
       "&quot;navigate_click...\n",
       "</td>\n",
       "<td>\n",
       "&quot;undefined&quot;\n",
       "</td>\n",
       "<td>\n",
       "22\n",
       "</td>\n",
       "<td>\n",
       "null\n",
       "</td>\n",
       "<td>\n",
       "252.299652\n",
       "</td>\n",
       "<td>\n",
       "123.805893\n",
       "</td>\n",
       "<td>\n",
       "526.0\n",
       "</td>\n",
       "<td>\n",
       "232.0\n",
       "</td>\n",
       "<td>\n",
       "null\n",
       "</td>\n",
       "<td>\n",
       "null\n",
       "</td>\n",
       "<td>\n",
       "&quot;chap4_finale_c...\n",
       "</td>\n",
       "<td>\n",
       "&quot;tunic.capitol_...\n",
       "</td>\n",
       "<td>\n",
       "null\n",
       "</td>\n",
       "<td>\n",
       "&quot;13-22&quot;\n",
       "</td>\n",
       "<td>\n",
       "836\n",
       "</td>\n",
       "<td>\n",
       "85.0\n",
       "</td>\n",
       "<td>\n",
       "15.0\n",
       "</td>\n",
       "</tr>\n",
       "<tr>\n",
       "<td>\n",
       "22100221145014656\n",
       "</td>\n",
       "<td>\n",
       "1604\n",
       "</td>\n",
       "<td>\n",
       "5487952\n",
       "</td>\n",
       "<td>\n",
       "&quot;checkpoint&quot;\n",
       "</td>\n",
       "<td>\n",
       "&quot;basic&quot;\n",
       "</td>\n",
       "<td>\n",
       "22\n",
       "</td>\n",
       "<td>\n",
       "null\n",
       "</td>\n",
       "<td>\n",
       "null\n",
       "</td>\n",
       "<td>\n",
       "null\n",
       "</td>\n",
       "<td>\n",
       "null\n",
       "</td>\n",
       "<td>\n",
       "null\n",
       "</td>\n",
       "<td>\n",
       "null\n",
       "</td>\n",
       "<td>\n",
       "null\n",
       "</td>\n",
       "<td>\n",
       "&quot;chap4_finale_c...\n",
       "</td>\n",
       "<td>\n",
       "&quot;tunic.capitol_...\n",
       "</td>\n",
       "<td>\n",
       "null\n",
       "</td>\n",
       "<td>\n",
       "&quot;13-22&quot;\n",
       "</td>\n",
       "<td>\n",
       "1199\n",
       "</td>\n",
       "<td>\n",
       "null\n",
       "</td>\n",
       "<td>\n",
       "null\n",
       "</td>\n",
       "</tr>\n",
       "</tbody>\n",
       "</table>\n",
       "</div>"
      ],
      "text/plain": [
       "shape: (4, 20)\n",
       "┌──────────┬───────┬────────────┬──────────┬─────┬───────────┬────────────┬────────────┬────────────┐\n",
       "│ session_ ┆ index ┆ elapsed_ti ┆ event_na ┆ ... ┆ level_gro ┆ elapsed_ti ┆ location_x ┆ location_y │\n",
       "│ id       ┆ ---   ┆ me         ┆ me       ┆     ┆ up        ┆ me_diff    ┆ _diff      ┆ _diff      │\n",
       "│ ---      ┆ i16   ┆ ---        ┆ ---      ┆     ┆ ---       ┆ ---        ┆ ---        ┆ ---        │\n",
       "│ i64      ┆       ┆ i32        ┆ cat      ┆     ┆ cat       ┆ i32        ┆ f32        ┆ f32        │\n",
       "╞══════════╪═══════╪════════════╪══════════╪═════╪═══════════╪════════════╪════════════╪════════════╡\n",
       "│ 22100221 ┆ 1601  ┆ 5485166    ┆ navigate ┆ ... ┆ 13-22     ┆ 1935       ┆ 62.0       ┆ 52.0       │\n",
       "│ 14501465 ┆       ┆            ┆ _click   ┆     ┆           ┆            ┆            ┆            │\n",
       "│ 6        ┆       ┆            ┆          ┆     ┆           ┆            ┆            ┆            │\n",
       "│ 22100221 ┆ 1602  ┆ 5485917    ┆ navigate ┆ ... ┆ 13-22     ┆ 751        ┆ 66.0       ┆ 4.0        │\n",
       "│ 14501465 ┆       ┆            ┆ _click   ┆     ┆           ┆            ┆            ┆            │\n",
       "│ 6        ┆       ┆            ┆          ┆     ┆           ┆            ┆            ┆            │\n",
       "│ 22100221 ┆ 1603  ┆ 5486753    ┆ navigate ┆ ... ┆ 13-22     ┆ 836        ┆ 85.0       ┆ 15.0       │\n",
       "│ 14501465 ┆       ┆            ┆ _click   ┆     ┆           ┆            ┆            ┆            │\n",
       "│ 6        ┆       ┆            ┆          ┆     ┆           ┆            ┆            ┆            │\n",
       "│ 22100221 ┆ 1604  ┆ 5487952    ┆ checkpoi ┆ ... ┆ 13-22     ┆ 1199       ┆ null       ┆ null       │\n",
       "│ 14501465 ┆       ┆            ┆ nt       ┆     ┆           ┆            ┆            ┆            │\n",
       "│ 6        ┆       ┆            ┆          ┆     ┆           ┆            ┆            ┆            │\n",
       "└──────────┴───────┴────────────┴──────────┴─────┴───────────┴────────────┴────────────┴────────────┘"
      ]
     },
     "execution_count": 17,
     "metadata": {},
     "output_type": "execute_result"
    }
   ],
   "source": [
    "train.tail(4)"
   ]
  },
  {
   "cell_type": "markdown",
   "id": "f843ecfc",
   "metadata": {
    "papermill": {
     "duration": 0.012428,
     "end_time": "2023-04-05T15:59:51.537561",
     "exception": false,
     "start_time": "2023-04-05T15:59:51.525133",
     "status": "completed"
    },
    "tags": []
   },
   "source": [
    "# Feature Engineering for training file"
   ]
  },
  {
   "cell_type": "code",
   "execution_count": 18,
   "id": "1533c958",
   "metadata": {
    "execution": {
     "iopub.execute_input": "2023-04-05T15:59:51.564963Z",
     "iopub.status.busy": "2023-04-05T15:59:51.564181Z",
     "iopub.status.idle": "2023-04-05T15:59:51.582689Z",
     "shell.execute_reply": "2023-04-05T15:59:51.581682Z"
    },
    "papermill": {
     "duration": 0.035201,
     "end_time": "2023-04-05T15:59:51.585220",
     "exception": false,
     "start_time": "2023-04-05T15:59:51.550019",
     "status": "completed"
    },
    "tags": []
   },
   "outputs": [],
   "source": [
    "CATS = ['event_name', 'name', 'fqid', 'room_fqid', 'text_fqid']\n",
    "NUMS = ['page', 'room_coor_x', 'room_coor_y', 'screen_coor_x', 'screen_coor_y',\n",
    "        'hover_duration', 'elapsed_time_diff']\n",
    "\n",
    "name_feature = ['basic', 'undefined', 'close', 'open', 'prev', 'next']\n",
    "event_name_feature = ['cutscene_click', 'person_click', 'navigate_click',\n",
    "       'observation_click', 'notification_click', 'object_click',\n",
    "       'object_hover', 'map_hover', 'map_click', 'checkpoint',\n",
    "       'notebook_click']\n",
    "\n",
    "# from https://www.kaggle.com/code/leehomhuang/catboost-baseline-with-lots-features-inference :\n",
    "fqid_lists = ['worker', 'archivist', 'gramps', 'wells', 'toentry', 'confrontation', 'crane_ranger', 'groupconvo', 'flag_girl', 'tomap', 'tostacks', 'tobasement', 'archivist_glasses', 'boss', 'journals', 'seescratches', 'groupconvo_flag', 'cs', 'teddy', 'expert', 'businesscards', 'ch3start', 'tunic.historicalsociety', 'tofrontdesk', 'savedteddy', 'plaque', 'glasses', 'tunic.drycleaner', 'reader_flag', 'tunic.library', 'tracks', 'tunic.capitol_2', 'trigger_scarf', 'reader', 'directory', 'tunic.capitol_1', 'journals.pic_0.next', 'unlockdoor', 'tunic', 'what_happened', 'tunic.kohlcenter', 'tunic.humanecology', 'colorbook', 'logbook', 'businesscards.card_0.next', 'journals.hub.topics', 'logbook.page.bingo', 'journals.pic_1.next', 'journals_flag', 'reader.paper0.next', 'tracks.hub.deer', 'reader_flag.paper0.next', 'trigger_coffee', 'wellsbadge', 'journals.pic_2.next', 'tomicrofiche', 'journals_flag.pic_0.bingo', 'plaque.face.date', 'notebook', 'tocloset_dirty', 'businesscards.card_bingo.bingo', 'businesscards.card_1.next', 'tunic.wildlife', 'tunic.hub.slip', 'tocage', 'journals.pic_2.bingo', 'tocollectionflag', 'tocollection', 'chap4_finale_c', 'chap2_finale_c', 'lockeddoor', 'journals_flag.hub.topics', 'tunic.capitol_0', 'reader_flag.paper2.bingo', 'photo', 'tunic.flaghouse', 'reader.paper1.next', 'directory.closeup.archivist', 'intro', 'businesscards.card_bingo.next', 'reader.paper2.bingo', 'retirement_letter', 'remove_cup', 'journals_flag.pic_0.next', 'magnify', 'coffee', 'key', 'togrampa', 'reader_flag.paper1.next', 'janitor', 'tohallway', 'chap1_finale', 'report', 'outtolunch', 'journals_flag.hub.topics_old', 'journals_flag.pic_1.next', 'reader.paper2.next', 'chap1_finale_c', 'reader_flag.paper2.next', 'door_block_talk', 'journals_flag.pic_1.bingo', 'journals_flag.pic_2.next', 'journals_flag.pic_2.bingo', 'block_magnify', 'reader.paper0.prev', 'block', 'reader_flag.paper0.prev', 'block_0', 'door_block_clean', 'reader.paper2.prev', 'reader.paper1.prev', 'doorblock', 'tocloset', 'reader_flag.paper2.prev', 'reader_flag.paper1.prev', 'block_tomap2', 'journals_flag.pic_0_old.next', 'journals_flag.pic_1_old.next', 'block_tocollection', 'block_nelson', 'journals_flag.pic_2_old.next', 'block_tomap1', 'block_badge', 'need_glasses', 'block_badge_2', 'fox', 'block_1']\n",
    "text_lists = ['tunic.historicalsociety.cage.confrontation', 'tunic.wildlife.center.crane_ranger.crane', 'tunic.historicalsociety.frontdesk.archivist.newspaper', 'tunic.historicalsociety.entry.groupconvo', 'tunic.wildlife.center.wells.nodeer', 'tunic.historicalsociety.frontdesk.archivist.have_glass', 'tunic.drycleaner.frontdesk.worker.hub', 'tunic.historicalsociety.closet_dirty.gramps.news', 'tunic.humanecology.frontdesk.worker.intro', 'tunic.historicalsociety.frontdesk.archivist_glasses.confrontation', 'tunic.historicalsociety.basement.seescratches', 'tunic.historicalsociety.collection.cs', 'tunic.flaghouse.entry.flag_girl.hello', 'tunic.historicalsociety.collection.gramps.found', 'tunic.historicalsociety.basement.ch3start', 'tunic.historicalsociety.entry.groupconvo_flag', 'tunic.library.frontdesk.worker.hello', 'tunic.library.frontdesk.worker.wells', 'tunic.historicalsociety.collection_flag.gramps.flag', 'tunic.historicalsociety.basement.savedteddy', 'tunic.library.frontdesk.worker.nelson', 'tunic.wildlife.center.expert.removed_cup', 'tunic.library.frontdesk.worker.flag', 'tunic.historicalsociety.frontdesk.archivist.hello', 'tunic.historicalsociety.closet.gramps.intro_0_cs_0', 'tunic.historicalsociety.entry.boss.flag', 'tunic.flaghouse.entry.flag_girl.symbol', 'tunic.historicalsociety.closet_dirty.trigger_scarf', 'tunic.drycleaner.frontdesk.worker.done', 'tunic.historicalsociety.closet_dirty.what_happened', 'tunic.wildlife.center.wells.animals', 'tunic.historicalsociety.closet.teddy.intro_0_cs_0', 'tunic.historicalsociety.cage.glasses.afterteddy', 'tunic.historicalsociety.cage.teddy.trapped', 'tunic.historicalsociety.cage.unlockdoor', 'tunic.historicalsociety.stacks.journals.pic_2.bingo', 'tunic.historicalsociety.entry.wells.flag', 'tunic.humanecology.frontdesk.worker.badger', 'tunic.historicalsociety.stacks.journals_flag.pic_0.bingo', 'tunic.historicalsociety.closet.intro', 'tunic.historicalsociety.closet.retirement_letter.hub', 'tunic.historicalsociety.entry.directory.closeup.archivist', 'tunic.historicalsociety.collection.tunic.slip', 'tunic.kohlcenter.halloffame.plaque.face.date', 'tunic.historicalsociety.closet_dirty.trigger_coffee', 'tunic.drycleaner.frontdesk.logbook.page.bingo', 'tunic.library.microfiche.reader.paper2.bingo', 'tunic.kohlcenter.halloffame.togrampa', 'tunic.capitol_2.hall.boss.haveyougotit', 'tunic.wildlife.center.wells.nodeer_recap', 'tunic.historicalsociety.cage.glasses.beforeteddy', 'tunic.historicalsociety.closet_dirty.gramps.helpclean', 'tunic.wildlife.center.expert.recap', 'tunic.historicalsociety.frontdesk.archivist.have_glass_recap', 'tunic.historicalsociety.stacks.journals_flag.pic_1.bingo', 'tunic.historicalsociety.cage.lockeddoor', 'tunic.historicalsociety.stacks.journals_flag.pic_2.bingo', 'tunic.historicalsociety.collection.gramps.lost', 'tunic.historicalsociety.closet.notebook', 'tunic.historicalsociety.frontdesk.magnify', 'tunic.humanecology.frontdesk.businesscards.card_bingo.bingo', 'tunic.wildlife.center.remove_cup', 'tunic.library.frontdesk.wellsbadge.hub', 'tunic.wildlife.center.tracks.hub.deer', 'tunic.historicalsociety.frontdesk.key', 'tunic.library.microfiche.reader_flag.paper2.bingo', 'tunic.flaghouse.entry.colorbook', 'tunic.wildlife.center.coffee', 'tunic.capitol_1.hall.boss.haveyougotit', 'tunic.historicalsociety.basement.janitor', 'tunic.historicalsociety.collection_flag.gramps.recap', 'tunic.wildlife.center.wells.animals2', 'tunic.flaghouse.entry.flag_girl.symbol_recap', 'tunic.historicalsociety.closet_dirty.photo', 'tunic.historicalsociety.stacks.outtolunch', 'tunic.library.frontdesk.worker.wells_recap', 'tunic.historicalsociety.frontdesk.archivist_glasses.confrontation_recap', 'tunic.capitol_0.hall.boss.talktogramps', 'tunic.historicalsociety.closet.photo', 'tunic.historicalsociety.collection.tunic', 'tunic.historicalsociety.closet.teddy.intro_0_cs_5', 'tunic.historicalsociety.closet_dirty.gramps.archivist', 'tunic.historicalsociety.closet_dirty.door_block_talk', 'tunic.historicalsociety.entry.boss.flag_recap', 'tunic.historicalsociety.frontdesk.archivist.need_glass_0', 'tunic.historicalsociety.entry.wells.talktogramps', 'tunic.historicalsociety.frontdesk.block_magnify', 'tunic.historicalsociety.frontdesk.archivist.foundtheodora', 'tunic.historicalsociety.closet_dirty.gramps.nothing', 'tunic.historicalsociety.closet_dirty.door_block_clean', 'tunic.capitol_1.hall.boss.writeitup', 'tunic.library.frontdesk.worker.nelson_recap', 'tunic.library.frontdesk.worker.hello_short', 'tunic.historicalsociety.stacks.block', 'tunic.historicalsociety.frontdesk.archivist.need_glass_1', 'tunic.historicalsociety.entry.boss.talktogramps', 'tunic.historicalsociety.frontdesk.archivist.newspaper_recap', 'tunic.historicalsociety.entry.wells.flag_recap', 'tunic.drycleaner.frontdesk.worker.done2', 'tunic.library.frontdesk.worker.flag_recap', 'tunic.humanecology.frontdesk.block_0', 'tunic.library.frontdesk.worker.preflag', 'tunic.historicalsociety.basement.gramps.seeyalater', 'tunic.flaghouse.entry.flag_girl.hello_recap', 'tunic.historicalsociety.closet.doorblock', 'tunic.drycleaner.frontdesk.worker.takealook', 'tunic.historicalsociety.basement.gramps.whatdo', 'tunic.library.frontdesk.worker.droppedbadge', 'tunic.historicalsociety.entry.block_tomap2', 'tunic.library.frontdesk.block_nelson', 'tunic.library.microfiche.block_0', 'tunic.historicalsociety.entry.block_tocollection', 'tunic.historicalsociety.entry.block_tomap1', 'tunic.historicalsociety.collection.gramps.look_0', 'tunic.library.frontdesk.block_badge', 'tunic.historicalsociety.cage.need_glasses', 'tunic.library.frontdesk.block_badge_2', 'tunic.kohlcenter.halloffame.block_0', 'tunic.capitol_0.hall.chap1_finale_c', 'tunic.capitol_1.hall.chap2_finale_c', 'tunic.capitol_2.hall.chap4_finale_c', 'tunic.wildlife.center.fox.concern', 'tunic.drycleaner.frontdesk.block_0', 'tunic.historicalsociety.entry.gramps.hub', 'tunic.humanecology.frontdesk.block_1', 'tunic.drycleaner.frontdesk.block_1']\n",
    "room_lists = ['tunic.historicalsociety.entry', 'tunic.wildlife.center', 'tunic.historicalsociety.cage', 'tunic.library.frontdesk', 'tunic.historicalsociety.frontdesk', 'tunic.historicalsociety.stacks', 'tunic.historicalsociety.closet_dirty', 'tunic.humanecology.frontdesk', 'tunic.historicalsociety.basement', 'tunic.kohlcenter.halloffame', 'tunic.library.microfiche', 'tunic.drycleaner.frontdesk', 'tunic.historicalsociety.collection', 'tunic.historicalsociety.closet', 'tunic.flaghouse.entry', 'tunic.historicalsociety.collection_flag', 'tunic.capitol_1.hall', 'tunic.capitol_0.hall', 'tunic.capitol_2.hall']"
   ]
  },
  {
   "cell_type": "code",
   "execution_count": 19,
   "id": "98fdbf08",
   "metadata": {
    "execution": {
     "iopub.execute_input": "2023-04-05T15:59:51.613550Z",
     "iopub.status.busy": "2023-04-05T15:59:51.613156Z",
     "iopub.status.idle": "2023-04-05T15:59:51.663579Z",
     "shell.execute_reply": "2023-04-05T15:59:51.662283Z"
    },
    "papermill": {
     "duration": 0.067546,
     "end_time": "2023-04-05T15:59:51.666063",
     "exception": false,
     "start_time": "2023-04-05T15:59:51.598517",
     "status": "completed"
    },
    "tags": []
   },
   "outputs": [],
   "source": [
    "def feature_engineer_pl(x, grp, use_extra, feature_suffix):\n",
    "        \n",
    "    aggs = [\n",
    "        pl.col(\"index\").count().alias(f\"session_number_{feature_suffix}\"),\n",
    "      \n",
    "        *[pl.col(c).drop_nulls().n_unique().alias(f\"{c}_unique_{feature_suffix}\") for c in CATS],\n",
    "        [pl.col(c).quantile(0.1, \"nearest\").alias(f\"{c}_quantile1_{feature_suffix}\") for c in NUMS],\n",
    "        *[pl.col(c).quantile(0.2, \"nearest\").alias(f\"{c}_quantile2_{feature_suffix}\") for c in NUMS],\n",
    "        *[pl.col(c).quantile(0.4, \"nearest\").alias(f\"{c}_quantile4_{feature_suffix}\") for c in NUMS],\n",
    "        *[pl.col(c).quantile(0.6, \"nearest\").alias(f\"{c}_quantile6_{feature_suffix}\") for c in NUMS],\n",
    "        *[pl.col(c).quantile(0.8, \"nearest\").alias(f\"{c}_quantile8_{feature_suffix}\") for c in NUMS],\n",
    "        *[pl.col(c).quantile(0.9, \"nearest\").alias(f\"{c}_quantile9_{feature_suffix}\") for c in NUMS],\n",
    "        \n",
    "        *[pl.col(c).mean().alias(f\"{c}_mean_{feature_suffix}\") for c in NUMS],\n",
    "        *[pl.col(c).std().alias(f\"{c}_std_{feature_suffix}\") for c in NUMS],\n",
    "        *[pl.col(c).min().alias(f\"{c}_min_{feature_suffix}\") for c in NUMS],\n",
    "        *[pl.col(c).max().alias(f\"{c}_max_{feature_suffix}\") for c in NUMS],\n",
    "        \n",
    "        *[pl.col(\"event_name\").filter(pl.col(\"event_name\") == c).count().alias(f\"{c}_event_name_counts{feature_suffix}\")for c in event_name_feature],\n",
    "        *[pl.col(\"elapsed_time_diff\").filter(pl.col(\"event_name\")==c).quantile(0.1, \"nearest\").alias(f\"{c}_ET_quantile1_{feature_suffix}\") for c in event_name_feature],\n",
    "        *[pl.col(\"elapsed_time_diff\").filter(pl.col(\"event_name\")==c).quantile(0.2, \"nearest\").alias(f\"{c}_ET_quantile2_{feature_suffix}\") for c in event_name_feature],\n",
    "        *[pl.col(\"elapsed_time_diff\").filter(pl.col(\"event_name\")==c).quantile(0.4, \"nearest\").alias(f\"{c}_ET_quantile4_{feature_suffix}\") for c in event_name_feature],\n",
    "        *[pl.col(\"elapsed_time_diff\").filter(pl.col(\"event_name\")==c).quantile(0.6, \"nearest\").alias(f\"{c}_ET_quantile6_{feature_suffix}\") for c in event_name_feature],\n",
    "        *[pl.col(\"elapsed_time_diff\").filter(pl.col(\"event_name\")==c).quantile(0.8, \"nearest\").alias(f\"{c}_ET_quantile8_{feature_suffix}\") for c in event_name_feature],\n",
    "        *[pl.col(\"elapsed_time_diff\").filter(pl.col(\"event_name\")==c).quantile(0.9, \"nearest\").alias(f\"{c}_ET_quantile9_{feature_suffix}\") for c in event_name_feature],      \n",
    "        *[pl.col(\"elapsed_time_diff\").filter(pl.col(\"event_name\")==c).mean().alias(f\"{c}_ET_mean_{feature_suffix}\") for c in event_name_feature],\n",
    "        *[pl.col(\"elapsed_time_diff\").filter(pl.col(\"event_name\")==c).std().alias(f\"{c}_ET_std_{feature_suffix}\") for c in event_name_feature],\n",
    "        *[pl.col(\"elapsed_time_diff\").filter(pl.col(\"event_name\")==c).max().alias(f\"{c}_ET_max_{feature_suffix}\") for c in event_name_feature],\n",
    "        *[pl.col(\"elapsed_time_diff\").filter(pl.col(\"event_name\")==c).min().alias(f\"{c}_ET_min_{feature_suffix}\") for c in event_name_feature],\n",
    "     \n",
    "        *[pl.col(\"name\").filter(pl.col(\"name\") == c).count().alias(f\"{c}_name_counts{feature_suffix}\")for c in name_feature],   \n",
    "        *[pl.col(\"elapsed_time_diff\").filter(pl.col(\"name\")==c).mean().alias(f\"{c}_ET_mean_{feature_suffix}\") for c in name_feature],\n",
    "        *[pl.col(\"elapsed_time_diff\").filter(pl.col(\"name\")==c).max().alias(f\"{c}_ET_max_{feature_suffix}\") for c in name_feature],\n",
    "        *[pl.col(\"elapsed_time_diff\").filter(pl.col(\"name\")==c).min().alias(f\"{c}_ET_min_{feature_suffix}\") for c in name_feature],\n",
    "        *[pl.col(\"elapsed_time_diff\").filter(pl.col(\"name\")==c).std().alias(f\"{c}_ET_std_{feature_suffix}\") for c in name_feature],  \n",
    "        \n",
    "        *[pl.col(\"room_fqid\").filter(pl.col(\"room_fqid\") == c).count().alias(f\"{c}_room_fqid_counts{feature_suffix}\")for c in room_lists],\n",
    "        *[pl.col(\"elapsed_time_diff\").filter(pl.col(\"room_fqid\") == c).std().alias(f\"{c}_ET_std_{feature_suffix}\") for c in room_lists],\n",
    "        *[pl.col(\"elapsed_time_diff\").filter(pl.col(\"room_fqid\") == c).mean().alias(f\"{c}_ET_mean_{feature_suffix}\") for c in room_lists],\n",
    "        *[pl.col(\"elapsed_time_diff\").filter(pl.col(\"room_fqid\") == c).max().alias(f\"{c}_ET_max_{feature_suffix}\") for c in room_lists],\n",
    "        *[pl.col(\"elapsed_time_diff\").filter(pl.col(\"room_fqid\") == c).min().alias(f\"{c}_ET_min_{feature_suffix}\") for c in room_lists],\n",
    "        *[pl.col(\"elapsed_time_diff\").filter(pl.col(\"room_fqid\") == c).sum().alias(f\"{c}_ET_sum_{feature_suffix}\") for c in room_lists],\n",
    "                \n",
    "        *[pl.col(\"fqid\").filter(pl.col(\"fqid\") == c).count().alias(f\"{c}_fqid_counts{feature_suffix}\")for c in fqid_lists],\n",
    "        *[pl.col(\"elapsed_time_diff\").filter(pl.col(\"fqid\") == c).std().alias(f\"{c}_ET_std_{feature_suffix}\") for c in fqid_lists],\n",
    "        *[pl.col(\"elapsed_time_diff\").filter(pl.col(\"fqid\") == c).mean().alias(f\"{c}_ET_mean_{feature_suffix}\") for c in fqid_lists],\n",
    "        *[pl.col(\"elapsed_time_diff\").filter(pl.col(\"fqid\") == c).max().alias(f\"{c}_ET_max_{feature_suffix}\") for c in fqid_lists],\n",
    "        *[pl.col(\"elapsed_time_diff\").filter(pl.col(\"fqid\") == c).min().alias(f\"{c}_ET_min_{feature_suffix}\") for c in fqid_lists],\n",
    "        *[pl.col(\"elapsed_time_diff\").filter(pl.col(\"fqid\") == c).sum().alias(f\"{c}_ET_sum_{feature_suffix}\") for c in fqid_lists],\n",
    "       \n",
    "        *[pl.col(\"text_fqid\").filter(pl.col(\"text_fqid\") == c).count().alias(f\"{c}_text_fqid_counts{feature_suffix}\") for c in text_lists],\n",
    "        *[pl.col(\"elapsed_time_diff\").filter(pl.col(\"text_fqid\") == c).std().alias(f\"{c}_ET_std_{feature_suffix}\") for c in text_lists],\n",
    "        *[pl.col(\"elapsed_time_diff\").filter(pl.col(\"text_fqid\") == c).mean().alias(f\"{c}_ET_mean_{feature_suffix}\") for c in text_lists],\n",
    "        *[pl.col(\"elapsed_time_diff\").filter(pl.col(\"text_fqid\") == c).max().alias(f\"{c}_ET_max_{feature_suffix}\") for c in text_lists],\n",
    "        *[pl.col(\"elapsed_time_diff\").filter(pl.col(\"text_fqid\") == c).min().alias(f\"{c}_ET_min_{feature_suffix}\") for c in text_lists],\n",
    "        *[pl.col(\"elapsed_time_diff\").filter(pl.col(\"text_fqid\") == c).sum().alias(f\"{c}_ET_sum_{feature_suffix}\") for c in text_lists],\n",
    "         \n",
    "        *[pl.col(\"location_x_diff\").filter(pl.col(\"event_name\")==c).mean().alias(f\"{c}_ET_mean_x{feature_suffix}\") for c in event_name_feature],\n",
    "        *[pl.col(\"location_x_diff\").filter(pl.col(\"event_name\")==c).std().alias(f\"{c}_ET_std_x{feature_suffix}\") for c in event_name_feature],\n",
    "        *[pl.col(\"location_x_diff\").filter(pl.col(\"event_name\")==c).max().alias(f\"{c}_ET_max_x{feature_suffix}\") for c in event_name_feature],\n",
    "        *[pl.col(\"location_x_diff\").filter(pl.col(\"event_name\")==c).min().alias(f\"{c}_ET_min_x{feature_suffix}\") for c in event_name_feature],\n",
    "        ]\n",
    "    \n",
    "    df = x.groupby([\"session_id\"], maintain_order=True).agg(aggs).sort(\"session_id\")\n",
    "  \n",
    "    if use_extra:\n",
    "        if grp=='5-12':\n",
    "            aggs = [\n",
    "                pl.col(\"elapsed_time\").filter((pl.col(\"text\")==\"Here's the log book.\")|(pl.col(\"fqid\")=='logbook.page.bingo')).apply(lambda s: s.max()-s.min()).alias(\"logbook_bingo_duration\"),\n",
    "                pl.col(\"index\").filter((pl.col(\"text\")==\"Here's the log book.\")|(pl.col(\"fqid\")=='logbook.page.bingo')).apply(lambda s: s.max()-s.min()).alias(\"logbook_bingo_indexCount\"),\n",
    "                pl.col(\"elapsed_time\").filter(((pl.col(\"event_name\")=='navigate_click')&(pl.col(\"fqid\")=='reader'))|(pl.col(\"fqid\")==\"reader.paper2.bingo\")).apply(lambda s: s.max()-s.min()).alias(\"reader_bingo_duration\"),\n",
    "                pl.col(\"index\").filter(((pl.col(\"event_name\")=='navigate_click')&(pl.col(\"fqid\")=='reader'))|(pl.col(\"fqid\")==\"reader.paper2.bingo\")).apply(lambda s: s.max()-s.min()).alias(\"reader_bingo_indexCount\"),\n",
    "                pl.col(\"elapsed_time\").filter(((pl.col(\"event_name\")=='navigate_click')&(pl.col(\"fqid\")=='journals'))|(pl.col(\"fqid\")==\"journals.pic_2.bingo\")).apply(lambda s: s.max()-s.min()).alias(\"journals_bingo_duration\"),\n",
    "                pl.col(\"index\").filter(((pl.col(\"event_name\")=='navigate_click')&(pl.col(\"fqid\")=='journals'))|(pl.col(\"fqid\")==\"journals.pic_2.bingo\")).apply(lambda s: s.max()-s.min()).alias(\"journals_bingo_indexCount\"),\n",
    "            ]\n",
    "            tmp = x.groupby([\"session_id\"], maintain_order=True).agg(aggs).sort(\"session_id\")\n",
    "            df = df.join(tmp, on=\"session_id\", how='left')\n",
    "\n",
    "        if grp=='13-22':\n",
    "            aggs = [\n",
    "                pl.col(\"elapsed_time\").filter(((pl.col(\"event_name\")=='navigate_click')&(pl.col(\"fqid\")=='reader_flag'))|(pl.col(\"fqid\")==\"tunic.library.microfiche.reader_flag.paper2.bingo\")).apply(lambda s: s.max()-s.min() if s.len()>0 else 0).alias(\"reader_flag_duration\"),\n",
    "                pl.col(\"index\").filter(((pl.col(\"event_name\")=='navigate_click')&(pl.col(\"fqid\")=='reader_flag'))|(pl.col(\"fqid\")==\"tunic.library.microfiche.reader_flag.paper2.bingo\")).apply(lambda s: s.max()-s.min() if s.len()>0 else 0).alias(\"reader_flag_indexCount\"),\n",
    "                pl.col(\"elapsed_time\").filter(((pl.col(\"event_name\")=='navigate_click')&(pl.col(\"fqid\")=='journals_flag'))|(pl.col(\"fqid\")==\"journals_flag.pic_0.bingo\")).apply(lambda s: s.max()-s.min() if s.len()>0 else 0).alias(\"journalsFlag_bingo_duration\"),\n",
    "                pl.col(\"index\").filter(((pl.col(\"event_name\")=='navigate_click')&(pl.col(\"fqid\")=='journals_flag'))|(pl.col(\"fqid\")==\"journals_flag.pic_0.bingo\")).apply(lambda s: s.max()-s.min() if s.len()>0 else 0).alias(\"journalsFlag_bingo_indexCount\"),\n",
    "            ]\n",
    "            tmp = x.groupby([\"session_id\"], maintain_order=True).agg(aggs).sort(\"session_id\")\n",
    "            df = df.join(tmp, on=\"session_id\", how='left')\n",
    "        \n",
    "    return df.to_pandas()"
   ]
  },
  {
   "cell_type": "code",
   "execution_count": 20,
   "id": "a07fda72",
   "metadata": {
    "execution": {
     "iopub.execute_input": "2023-04-05T15:59:51.694485Z",
     "iopub.status.busy": "2023-04-05T15:59:51.693706Z",
     "iopub.status.idle": "2023-04-05T15:59:51.963486Z",
     "shell.execute_reply": "2023-04-05T15:59:51.962513Z"
    },
    "papermill": {
     "duration": 0.286953,
     "end_time": "2023-04-05T15:59:51.966179",
     "exception": false,
     "start_time": "2023-04-05T15:59:51.679226",
     "status": "completed"
    },
    "tags": []
   },
   "outputs": [
    {
     "data": {
      "text/plain": [
       "(3981005, 20)"
      ]
     },
     "execution_count": 20,
     "metadata": {},
     "output_type": "execute_result"
    }
   ],
   "source": [
    "df1 = train.filter(pl.col(\"level_group\")=='0-4')\n",
    "df1.shape"
   ]
  },
  {
   "cell_type": "code",
   "execution_count": 21,
   "id": "20c7c89e",
   "metadata": {
    "execution": {
     "iopub.execute_input": "2023-04-05T15:59:51.994622Z",
     "iopub.status.busy": "2023-04-05T15:59:51.994226Z",
     "iopub.status.idle": "2023-04-05T15:59:52.402879Z",
     "shell.execute_reply": "2023-04-05T15:59:52.402090Z"
    },
    "papermill": {
     "duration": 0.425928,
     "end_time": "2023-04-05T15:59:52.405415",
     "exception": false,
     "start_time": "2023-04-05T15:59:51.979487",
     "status": "completed"
    },
    "tags": []
   },
   "outputs": [
    {
     "data": {
      "text/plain": [
       "(8844238, 20)"
      ]
     },
     "execution_count": 21,
     "metadata": {},
     "output_type": "execute_result"
    }
   ],
   "source": [
    "df2 = train.filter(pl.col(\"level_group\")=='5-12')\n",
    "df2.shape"
   ]
  },
  {
   "cell_type": "code",
   "execution_count": 22,
   "id": "4ebfd18f",
   "metadata": {
    "execution": {
     "iopub.execute_input": "2023-04-05T15:59:52.433520Z",
     "iopub.status.busy": "2023-04-05T15:59:52.432797Z",
     "iopub.status.idle": "2023-04-05T15:59:53.014628Z",
     "shell.execute_reply": "2023-04-05T15:59:53.013788Z"
    },
    "papermill": {
     "duration": 0.598778,
     "end_time": "2023-04-05T15:59:53.016998",
     "exception": false,
     "start_time": "2023-04-05T15:59:52.418220",
     "status": "completed"
    },
    "tags": []
   },
   "outputs": [
    {
     "data": {
      "text/plain": [
       "(13471703, 20)"
      ]
     },
     "execution_count": 22,
     "metadata": {},
     "output_type": "execute_result"
    }
   ],
   "source": [
    "df3 = train.filter(pl.col(\"level_group\")=='13-22')\n",
    "df3.shape"
   ]
  },
  {
   "cell_type": "code",
   "execution_count": 23,
   "id": "2d22e359",
   "metadata": {
    "execution": {
     "iopub.execute_input": "2023-04-05T15:59:53.045175Z",
     "iopub.status.busy": "2023-04-05T15:59:53.044782Z",
     "iopub.status.idle": "2023-04-05T15:59:53.179299Z",
     "shell.execute_reply": "2023-04-05T15:59:53.178429Z"
    },
    "papermill": {
     "duration": 0.151158,
     "end_time": "2023-04-05T15:59:53.181365",
     "exception": false,
     "start_time": "2023-04-05T15:59:53.030207",
     "status": "completed"
    },
    "tags": []
   },
   "outputs": [
    {
     "data": {
      "text/plain": [
       "129"
      ]
     },
     "execution_count": 23,
     "metadata": {},
     "output_type": "execute_result"
    }
   ],
   "source": [
    "#Delete train to liberate memory\n",
    "del train\n",
    "gc.collect()"
   ]
  },
  {
   "cell_type": "code",
   "execution_count": 24,
   "id": "5de9ffea",
   "metadata": {
    "execution": {
     "iopub.execute_input": "2023-04-05T15:59:53.212070Z",
     "iopub.status.busy": "2023-04-05T15:59:53.211458Z",
     "iopub.status.idle": "2023-04-05T16:00:05.076566Z",
     "shell.execute_reply": "2023-04-05T16:00:05.075430Z"
    },
    "papermill": {
     "duration": 11.884751,
     "end_time": "2023-04-05T16:00:05.079217",
     "exception": false,
     "start_time": "2023-04-05T15:59:53.194466",
     "status": "completed"
    },
    "tags": []
   },
   "outputs": [
    {
     "name": "stdout",
     "output_type": "stream",
     "text": [
      "df1 done, shape:  (23562, 1898)\n",
      "CPU times: user 21.3 s, sys: 877 ms, total: 22.2 s\n",
      "Wall time: 11.9 s\n"
     ]
    }
   ],
   "source": [
    "%%time\n",
    "df1 = feature_engineer_pl(df1, grp='0-4', use_extra=True, feature_suffix='')\n",
    "print('df1 done, shape: ',df1.shape)"
   ]
  },
  {
   "cell_type": "code",
   "execution_count": 25,
   "id": "20f175c9",
   "metadata": {
    "execution": {
     "iopub.execute_input": "2023-04-05T16:00:05.108656Z",
     "iopub.status.busy": "2023-04-05T16:00:05.108013Z",
     "iopub.status.idle": "2023-04-05T16:00:05.114303Z",
     "shell.execute_reply": "2023-04-05T16:00:05.113213Z"
    },
    "papermill": {
     "duration": 0.023803,
     "end_time": "2023-04-05T16:00:05.116775",
     "exception": false,
     "start_time": "2023-04-05T16:00:05.092972",
     "status": "completed"
    },
    "tags": []
   },
   "outputs": [
    {
     "data": {
      "text/plain": [
       "Index(['session_id', 'session_number_', 'event_name_unique_', 'name_unique_',\n",
       "       'fqid_unique_', 'room_fqid_unique_', 'text_fqid_unique_', '',\n",
       "       'page_quantile2_', 'room_coor_x_quantile2_',\n",
       "       ...\n",
       "       'person_click_ET_min_x', 'navigate_click_ET_min_x',\n",
       "       'observation_click_ET_min_x', 'notification_click_ET_min_x',\n",
       "       'object_click_ET_min_x', 'object_hover_ET_min_x', 'map_hover_ET_min_x',\n",
       "       'map_click_ET_min_x', 'checkpoint_ET_min_x', 'notebook_click_ET_min_x'],\n",
       "      dtype='object', length=1898)"
      ]
     },
     "execution_count": 25,
     "metadata": {},
     "output_type": "execute_result"
    }
   ],
   "source": [
    "df1.columns"
   ]
  },
  {
   "cell_type": "code",
   "execution_count": 26,
   "id": "bef4f2ca",
   "metadata": {
    "execution": {
     "iopub.execute_input": "2023-04-05T16:00:05.146117Z",
     "iopub.status.busy": "2023-04-05T16:00:05.145012Z",
     "iopub.status.idle": "2023-04-05T16:00:05.180631Z",
     "shell.execute_reply": "2023-04-05T16:00:05.179425Z"
    },
    "papermill": {
     "duration": 0.052908,
     "end_time": "2023-04-05T16:00:05.183252",
     "exception": false,
     "start_time": "2023-04-05T16:00:05.130344",
     "status": "completed"
    },
    "tags": []
   },
   "outputs": [
    {
     "data": {
      "text/html": [
       "<div>\n",
       "<style scoped>\n",
       "    .dataframe tbody tr th:only-of-type {\n",
       "        vertical-align: middle;\n",
       "    }\n",
       "\n",
       "    .dataframe tbody tr th {\n",
       "        vertical-align: top;\n",
       "    }\n",
       "\n",
       "    .dataframe thead th {\n",
       "        text-align: right;\n",
       "    }\n",
       "</style>\n",
       "<table border=\"1\" class=\"dataframe\">\n",
       "  <thead>\n",
       "    <tr style=\"text-align: right;\">\n",
       "      <th></th>\n",
       "      <th>session_id</th>\n",
       "      <th>session_number_</th>\n",
       "      <th>event_name_unique_</th>\n",
       "      <th>name_unique_</th>\n",
       "      <th>fqid_unique_</th>\n",
       "      <th>room_fqid_unique_</th>\n",
       "      <th>text_fqid_unique_</th>\n",
       "      <th></th>\n",
       "      <th>page_quantile2_</th>\n",
       "      <th>room_coor_x_quantile2_</th>\n",
       "      <th>...</th>\n",
       "      <th>person_click_ET_min_x</th>\n",
       "      <th>navigate_click_ET_min_x</th>\n",
       "      <th>observation_click_ET_min_x</th>\n",
       "      <th>notification_click_ET_min_x</th>\n",
       "      <th>object_click_ET_min_x</th>\n",
       "      <th>object_hover_ET_min_x</th>\n",
       "      <th>map_hover_ET_min_x</th>\n",
       "      <th>map_click_ET_min_x</th>\n",
       "      <th>checkpoint_ET_min_x</th>\n",
       "      <th>notebook_click_ET_min_x</th>\n",
       "    </tr>\n",
       "  </thead>\n",
       "  <tbody>\n",
       "    <tr>\n",
       "      <th>23559</th>\n",
       "      <td>22100217104993650</td>\n",
       "      <td>197</td>\n",
       "      <td>10</td>\n",
       "      <td>4</td>\n",
       "      <td>27</td>\n",
       "      <td>7</td>\n",
       "      <td>16</td>\n",
       "      <td>b'\\xf0\\x05\\xbf\\xf1Tw\\x00\\x00'</td>\n",
       "      <td>0.0</td>\n",
       "      <td>-336.991394</td>\n",
       "      <td>...</td>\n",
       "      <td>0.0</td>\n",
       "      <td>0.0</td>\n",
       "      <td>5.0</td>\n",
       "      <td>0.0</td>\n",
       "      <td>17.0</td>\n",
       "      <td>NaN</td>\n",
       "      <td>NaN</td>\n",
       "      <td>417.0</td>\n",
       "      <td>NaN</td>\n",
       "      <td>60.0</td>\n",
       "    </tr>\n",
       "    <tr>\n",
       "      <th>23560</th>\n",
       "      <td>22100219442786200</td>\n",
       "      <td>167</td>\n",
       "      <td>11</td>\n",
       "      <td>4</td>\n",
       "      <td>22</td>\n",
       "      <td>6</td>\n",
       "      <td>13</td>\n",
       "      <td>b'\\xf0\\x05\\xbf\\xf1Tw\\x00\\x00'</td>\n",
       "      <td>0.0</td>\n",
       "      <td>-457.002594</td>\n",
       "      <td>...</td>\n",
       "      <td>0.0</td>\n",
       "      <td>0.0</td>\n",
       "      <td>221.0</td>\n",
       "      <td>2.0</td>\n",
       "      <td>0.0</td>\n",
       "      <td>NaN</td>\n",
       "      <td>NaN</td>\n",
       "      <td>60.0</td>\n",
       "      <td>NaN</td>\n",
       "      <td>69.0</td>\n",
       "    </tr>\n",
       "    <tr>\n",
       "      <th>23561</th>\n",
       "      <td>22100221145014656</td>\n",
       "      <td>211</td>\n",
       "      <td>11</td>\n",
       "      <td>4</td>\n",
       "      <td>27</td>\n",
       "      <td>7</td>\n",
       "      <td>17</td>\n",
       "      <td>b'\\xf0\\x05\\xbf\\xf1Tw\\x00\\x00'</td>\n",
       "      <td>0.0</td>\n",
       "      <td>-325.728668</td>\n",
       "      <td>...</td>\n",
       "      <td>0.0</td>\n",
       "      <td>0.0</td>\n",
       "      <td>8.0</td>\n",
       "      <td>4.0</td>\n",
       "      <td>0.0</td>\n",
       "      <td>NaN</td>\n",
       "      <td>NaN</td>\n",
       "      <td>NaN</td>\n",
       "      <td>NaN</td>\n",
       "      <td>4.0</td>\n",
       "    </tr>\n",
       "  </tbody>\n",
       "</table>\n",
       "<p>3 rows × 1898 columns</p>\n",
       "</div>"
      ],
      "text/plain": [
       "              session_id  session_number_  event_name_unique_  name_unique_  \\\n",
       "23559  22100217104993650              197                  10             4   \n",
       "23560  22100219442786200              167                  11             4   \n",
       "23561  22100221145014656              211                  11             4   \n",
       "\n",
       "       fqid_unique_  room_fqid_unique_  text_fqid_unique_  \\\n",
       "23559            27                  7                 16   \n",
       "23560            22                  6                 13   \n",
       "23561            27                  7                 17   \n",
       "\n",
       "                                      page_quantile2_  room_coor_x_quantile2_  \\\n",
       "23559  b'\\xf0\\x05\\xbf\\xf1Tw\\x00\\x00'              0.0             -336.991394   \n",
       "23560  b'\\xf0\\x05\\xbf\\xf1Tw\\x00\\x00'              0.0             -457.002594   \n",
       "23561  b'\\xf0\\x05\\xbf\\xf1Tw\\x00\\x00'              0.0             -325.728668   \n",
       "\n",
       "       ...  person_click_ET_min_x  navigate_click_ET_min_x  \\\n",
       "23559  ...                    0.0                      0.0   \n",
       "23560  ...                    0.0                      0.0   \n",
       "23561  ...                    0.0                      0.0   \n",
       "\n",
       "       observation_click_ET_min_x  notification_click_ET_min_x  \\\n",
       "23559                         5.0                          0.0   \n",
       "23560                       221.0                          2.0   \n",
       "23561                         8.0                          4.0   \n",
       "\n",
       "       object_click_ET_min_x  object_hover_ET_min_x  map_hover_ET_min_x  \\\n",
       "23559                   17.0                    NaN                 NaN   \n",
       "23560                    0.0                    NaN                 NaN   \n",
       "23561                    0.0                    NaN                 NaN   \n",
       "\n",
       "       map_click_ET_min_x  checkpoint_ET_min_x  notebook_click_ET_min_x  \n",
       "23559               417.0                  NaN                     60.0  \n",
       "23560                60.0                  NaN                     69.0  \n",
       "23561                 NaN                  NaN                      4.0  \n",
       "\n",
       "[3 rows x 1898 columns]"
      ]
     },
     "execution_count": 26,
     "metadata": {},
     "output_type": "execute_result"
    }
   ],
   "source": [
    "df1.tail(3)"
   ]
  },
  {
   "cell_type": "code",
   "execution_count": 27,
   "id": "2fb59a7e",
   "metadata": {
    "execution": {
     "iopub.execute_input": "2023-04-05T16:00:05.213344Z",
     "iopub.status.busy": "2023-04-05T16:00:05.212535Z",
     "iopub.status.idle": "2023-04-05T16:00:05.221789Z",
     "shell.execute_reply": "2023-04-05T16:00:05.220930Z"
    },
    "papermill": {
     "duration": 0.026966,
     "end_time": "2023-04-05T16:00:05.224104",
     "exception": false,
     "start_time": "2023-04-05T16:00:05.197138",
     "status": "completed"
    },
    "tags": []
   },
   "outputs": [
    {
     "data": {
      "text/plain": [
       "23554    22100215032067016\n",
       "23555    22100215190998610\n",
       "23556    22100215241104530\n",
       "23557    22100215342220508\n",
       "23558    22100215460321130\n",
       "23559    22100217104993650\n",
       "23560    22100219442786200\n",
       "23561    22100221145014656\n",
       "Name: session_id, dtype: int64"
      ]
     },
     "execution_count": 27,
     "metadata": {},
     "output_type": "execute_result"
    }
   ],
   "source": [
    "df1[\"session_id\"].tail(8)"
   ]
  },
  {
   "cell_type": "code",
   "execution_count": 28,
   "id": "2e3f9794",
   "metadata": {
    "execution": {
     "iopub.execute_input": "2023-04-05T16:00:05.254588Z",
     "iopub.status.busy": "2023-04-05T16:00:05.254166Z",
     "iopub.status.idle": "2023-04-05T16:00:33.529922Z",
     "shell.execute_reply": "2023-04-05T16:00:33.527558Z"
    },
    "papermill": {
     "duration": 28.294343,
     "end_time": "2023-04-05T16:00:33.532433",
     "exception": false,
     "start_time": "2023-04-05T16:00:05.238090",
     "status": "completed"
    },
    "tags": []
   },
   "outputs": [
    {
     "name": "stdout",
     "output_type": "stream",
     "text": [
      "df2 done, shape:  (23562, 1904)\n",
      "CPU times: user 52 s, sys: 923 ms, total: 53 s\n",
      "Wall time: 28.3 s\n"
     ]
    }
   ],
   "source": [
    "%%time\n",
    "df2 = feature_engineer_pl(df2, grp='5-12', use_extra=True, feature_suffix='')\n",
    "print('df2 done, shape: ',df2.shape)"
   ]
  },
  {
   "cell_type": "code",
   "execution_count": 29,
   "id": "a13cdaeb",
   "metadata": {
    "execution": {
     "iopub.execute_input": "2023-04-05T16:00:33.563600Z",
     "iopub.status.busy": "2023-04-05T16:00:33.562414Z",
     "iopub.status.idle": "2023-04-05T16:00:33.585814Z",
     "shell.execute_reply": "2023-04-05T16:00:33.584875Z"
    },
    "papermill": {
     "duration": 0.041908,
     "end_time": "2023-04-05T16:00:33.588835",
     "exception": false,
     "start_time": "2023-04-05T16:00:33.546927",
     "status": "completed"
    },
    "tags": []
   },
   "outputs": [
    {
     "data": {
      "text/html": [
       "<div>\n",
       "<style scoped>\n",
       "    .dataframe tbody tr th:only-of-type {\n",
       "        vertical-align: middle;\n",
       "    }\n",
       "\n",
       "    .dataframe tbody tr th {\n",
       "        vertical-align: top;\n",
       "    }\n",
       "\n",
       "    .dataframe thead th {\n",
       "        text-align: right;\n",
       "    }\n",
       "</style>\n",
       "<table border=\"1\" class=\"dataframe\">\n",
       "  <thead>\n",
       "    <tr style=\"text-align: right;\">\n",
       "      <th></th>\n",
       "      <th>session_id</th>\n",
       "      <th>session_number_</th>\n",
       "      <th>event_name_unique_</th>\n",
       "      <th>name_unique_</th>\n",
       "      <th>fqid_unique_</th>\n",
       "      <th>room_fqid_unique_</th>\n",
       "      <th>text_fqid_unique_</th>\n",
       "      <th></th>\n",
       "      <th>page_quantile2_</th>\n",
       "      <th>room_coor_x_quantile2_</th>\n",
       "      <th>...</th>\n",
       "      <th>map_hover_ET_min_x</th>\n",
       "      <th>map_click_ET_min_x</th>\n",
       "      <th>checkpoint_ET_min_x</th>\n",
       "      <th>notebook_click_ET_min_x</th>\n",
       "      <th>logbook_bingo_duration</th>\n",
       "      <th>logbook_bingo_indexCount</th>\n",
       "      <th>reader_bingo_duration</th>\n",
       "      <th>reader_bingo_indexCount</th>\n",
       "      <th>journals_bingo_duration</th>\n",
       "      <th>journals_bingo_indexCount</th>\n",
       "    </tr>\n",
       "  </thead>\n",
       "  <tbody>\n",
       "    <tr>\n",
       "      <th>23557</th>\n",
       "      <td>22100215342220508</td>\n",
       "      <td>299</td>\n",
       "      <td>11</td>\n",
       "      <td>6</td>\n",
       "      <td>45</td>\n",
       "      <td>12</td>\n",
       "      <td>24</td>\n",
       "      <td>b'\\xe0\\xf1\\xa8\\xf9Tw\\x00\\x00'</td>\n",
       "      <td>1.0</td>\n",
       "      <td>-276.546967</td>\n",
       "      <td>...</td>\n",
       "      <td>NaN</td>\n",
       "      <td>31.0</td>\n",
       "      <td>NaN</td>\n",
       "      <td>0.0</td>\n",
       "      <td>39621</td>\n",
       "      <td>8</td>\n",
       "      <td>44951</td>\n",
       "      <td>9</td>\n",
       "      <td>137980</td>\n",
       "      <td>41</td>\n",
       "    </tr>\n",
       "    <tr>\n",
       "      <th>23558</th>\n",
       "      <td>22100215460321130</td>\n",
       "      <td>382</td>\n",
       "      <td>11</td>\n",
       "      <td>4</td>\n",
       "      <td>48</td>\n",
       "      <td>12</td>\n",
       "      <td>25</td>\n",
       "      <td>b'\\xe0\\xf1\\xa8\\xf9Tw\\x00\\x00'</td>\n",
       "      <td>1.0</td>\n",
       "      <td>-265.079376</td>\n",
       "      <td>...</td>\n",
       "      <td>NaN</td>\n",
       "      <td>258.0</td>\n",
       "      <td>NaN</td>\n",
       "      <td>290.0</td>\n",
       "      <td>16807</td>\n",
       "      <td>8</td>\n",
       "      <td>65702</td>\n",
       "      <td>25</td>\n",
       "      <td>28603</td>\n",
       "      <td>16</td>\n",
       "    </tr>\n",
       "    <tr>\n",
       "      <th>23559</th>\n",
       "      <td>22100217104993650</td>\n",
       "      <td>392</td>\n",
       "      <td>11</td>\n",
       "      <td>4</td>\n",
       "      <td>45</td>\n",
       "      <td>12</td>\n",
       "      <td>21</td>\n",
       "      <td>b'\\xe0\\xf1\\xa8\\xf9Tw\\x00\\x00'</td>\n",
       "      <td>1.0</td>\n",
       "      <td>-254.760239</td>\n",
       "      <td>...</td>\n",
       "      <td>NaN</td>\n",
       "      <td>356.0</td>\n",
       "      <td>NaN</td>\n",
       "      <td>6.0</td>\n",
       "      <td>15060</td>\n",
       "      <td>8</td>\n",
       "      <td>43136</td>\n",
       "      <td>8</td>\n",
       "      <td>30689</td>\n",
       "      <td>29</td>\n",
       "    </tr>\n",
       "    <tr>\n",
       "      <th>23560</th>\n",
       "      <td>22100219442786200</td>\n",
       "      <td>278</td>\n",
       "      <td>11</td>\n",
       "      <td>6</td>\n",
       "      <td>41</td>\n",
       "      <td>11</td>\n",
       "      <td>20</td>\n",
       "      <td>b'\\xe0\\xf1\\xa8\\xf9Tw\\x00\\x00'</td>\n",
       "      <td>1.0</td>\n",
       "      <td>-301.342072</td>\n",
       "      <td>...</td>\n",
       "      <td>NaN</td>\n",
       "      <td>228.0</td>\n",
       "      <td>NaN</td>\n",
       "      <td>0.0</td>\n",
       "      <td>10573</td>\n",
       "      <td>9</td>\n",
       "      <td>23383</td>\n",
       "      <td>15</td>\n",
       "      <td>16977</td>\n",
       "      <td>14</td>\n",
       "    </tr>\n",
       "    <tr>\n",
       "      <th>23561</th>\n",
       "      <td>22100221145014656</td>\n",
       "      <td>576</td>\n",
       "      <td>11</td>\n",
       "      <td>6</td>\n",
       "      <td>47</td>\n",
       "      <td>12</td>\n",
       "      <td>26</td>\n",
       "      <td>b'\\xe0\\xf1\\xa8\\xf9Tw\\x00\\x00'</td>\n",
       "      <td>1.0</td>\n",
       "      <td>-227.348495</td>\n",
       "      <td>...</td>\n",
       "      <td>NaN</td>\n",
       "      <td>8.0</td>\n",
       "      <td>NaN</td>\n",
       "      <td>0.0</td>\n",
       "      <td>2085825</td>\n",
       "      <td>6</td>\n",
       "      <td>61483</td>\n",
       "      <td>20</td>\n",
       "      <td>170841</td>\n",
       "      <td>104</td>\n",
       "    </tr>\n",
       "  </tbody>\n",
       "</table>\n",
       "<p>5 rows × 1904 columns</p>\n",
       "</div>"
      ],
      "text/plain": [
       "              session_id  session_number_  event_name_unique_  name_unique_  \\\n",
       "23557  22100215342220508              299                  11             6   \n",
       "23558  22100215460321130              382                  11             4   \n",
       "23559  22100217104993650              392                  11             4   \n",
       "23560  22100219442786200              278                  11             6   \n",
       "23561  22100221145014656              576                  11             6   \n",
       "\n",
       "       fqid_unique_  room_fqid_unique_  text_fqid_unique_  \\\n",
       "23557            45                 12                 24   \n",
       "23558            48                 12                 25   \n",
       "23559            45                 12                 21   \n",
       "23560            41                 11                 20   \n",
       "23561            47                 12                 26   \n",
       "\n",
       "                                      page_quantile2_  room_coor_x_quantile2_  \\\n",
       "23557  b'\\xe0\\xf1\\xa8\\xf9Tw\\x00\\x00'              1.0             -276.546967   \n",
       "23558  b'\\xe0\\xf1\\xa8\\xf9Tw\\x00\\x00'              1.0             -265.079376   \n",
       "23559  b'\\xe0\\xf1\\xa8\\xf9Tw\\x00\\x00'              1.0             -254.760239   \n",
       "23560  b'\\xe0\\xf1\\xa8\\xf9Tw\\x00\\x00'              1.0             -301.342072   \n",
       "23561  b'\\xe0\\xf1\\xa8\\xf9Tw\\x00\\x00'              1.0             -227.348495   \n",
       "\n",
       "       ...  map_hover_ET_min_x  map_click_ET_min_x  checkpoint_ET_min_x  \\\n",
       "23557  ...                 NaN                31.0                  NaN   \n",
       "23558  ...                 NaN               258.0                  NaN   \n",
       "23559  ...                 NaN               356.0                  NaN   \n",
       "23560  ...                 NaN               228.0                  NaN   \n",
       "23561  ...                 NaN                 8.0                  NaN   \n",
       "\n",
       "       notebook_click_ET_min_x  logbook_bingo_duration  \\\n",
       "23557                      0.0                   39621   \n",
       "23558                    290.0                   16807   \n",
       "23559                      6.0                   15060   \n",
       "23560                      0.0                   10573   \n",
       "23561                      0.0                 2085825   \n",
       "\n",
       "       logbook_bingo_indexCount  reader_bingo_duration  \\\n",
       "23557                         8                  44951   \n",
       "23558                         8                  65702   \n",
       "23559                         8                  43136   \n",
       "23560                         9                  23383   \n",
       "23561                         6                  61483   \n",
       "\n",
       "       reader_bingo_indexCount  journals_bingo_duration  \\\n",
       "23557                        9                   137980   \n",
       "23558                       25                    28603   \n",
       "23559                        8                    30689   \n",
       "23560                       15                    16977   \n",
       "23561                       20                   170841   \n",
       "\n",
       "       journals_bingo_indexCount  \n",
       "23557                         41  \n",
       "23558                         16  \n",
       "23559                         29  \n",
       "23560                         14  \n",
       "23561                        104  \n",
       "\n",
       "[5 rows x 1904 columns]"
      ]
     },
     "execution_count": 29,
     "metadata": {},
     "output_type": "execute_result"
    }
   ],
   "source": [
    "df2.tail(5)"
   ]
  },
  {
   "cell_type": "code",
   "execution_count": 30,
   "id": "4f9897fd",
   "metadata": {
    "execution": {
     "iopub.execute_input": "2023-04-05T16:00:33.620265Z",
     "iopub.status.busy": "2023-04-05T16:00:33.619502Z",
     "iopub.status.idle": "2023-04-05T16:01:17.347817Z",
     "shell.execute_reply": "2023-04-05T16:01:17.346803Z"
    },
    "papermill": {
     "duration": 43.760506,
     "end_time": "2023-04-05T16:01:17.363981",
     "exception": false,
     "start_time": "2023-04-05T16:00:33.603475",
     "status": "completed"
    },
    "tags": []
   },
   "outputs": [
    {
     "name": "stdout",
     "output_type": "stream",
     "text": [
      "df3 done, shape:  (23562, 1902)\n",
      "CPU times: user 1min 22s, sys: 1.14 s, total: 1min 23s\n",
      "Wall time: 43.7 s\n"
     ]
    }
   ],
   "source": [
    "%%time\n",
    "df3 = feature_engineer_pl(df3, grp='13-22', use_extra=True, feature_suffix='')\n",
    "print('df3 done, shape: ',df3.shape)"
   ]
  },
  {
   "cell_type": "code",
   "execution_count": 31,
   "id": "9431e339",
   "metadata": {
    "execution": {
     "iopub.execute_input": "2023-04-05T16:01:17.394587Z",
     "iopub.status.busy": "2023-04-05T16:01:17.393900Z",
     "iopub.status.idle": "2023-04-05T16:01:17.416817Z",
     "shell.execute_reply": "2023-04-05T16:01:17.415956Z"
    },
    "papermill": {
     "duration": 0.040954,
     "end_time": "2023-04-05T16:01:17.419198",
     "exception": false,
     "start_time": "2023-04-05T16:01:17.378244",
     "status": "completed"
    },
    "tags": []
   },
   "outputs": [
    {
     "data": {
      "text/html": [
       "<div>\n",
       "<style scoped>\n",
       "    .dataframe tbody tr th:only-of-type {\n",
       "        vertical-align: middle;\n",
       "    }\n",
       "\n",
       "    .dataframe tbody tr th {\n",
       "        vertical-align: top;\n",
       "    }\n",
       "\n",
       "    .dataframe thead th {\n",
       "        text-align: right;\n",
       "    }\n",
       "</style>\n",
       "<table border=\"1\" class=\"dataframe\">\n",
       "  <thead>\n",
       "    <tr style=\"text-align: right;\">\n",
       "      <th></th>\n",
       "      <th>session_id</th>\n",
       "      <th>session_number_</th>\n",
       "      <th>event_name_unique_</th>\n",
       "      <th>name_unique_</th>\n",
       "      <th>fqid_unique_</th>\n",
       "      <th>room_fqid_unique_</th>\n",
       "      <th>text_fqid_unique_</th>\n",
       "      <th></th>\n",
       "      <th>page_quantile2_</th>\n",
       "      <th>room_coor_x_quantile2_</th>\n",
       "      <th>...</th>\n",
       "      <th>object_click_ET_min_x</th>\n",
       "      <th>object_hover_ET_min_x</th>\n",
       "      <th>map_hover_ET_min_x</th>\n",
       "      <th>map_click_ET_min_x</th>\n",
       "      <th>checkpoint_ET_min_x</th>\n",
       "      <th>notebook_click_ET_min_x</th>\n",
       "      <th>reader_flag_duration</th>\n",
       "      <th>reader_flag_indexCount</th>\n",
       "      <th>journalsFlag_bingo_duration</th>\n",
       "      <th>journalsFlag_bingo_indexCount</th>\n",
       "    </tr>\n",
       "  </thead>\n",
       "  <tbody>\n",
       "    <tr>\n",
       "      <th>23557</th>\n",
       "      <td>22100215342220508</td>\n",
       "      <td>424</td>\n",
       "      <td>11</td>\n",
       "      <td>4</td>\n",
       "      <td>52</td>\n",
       "      <td>12</td>\n",
       "      <td>33</td>\n",
       "      <td>b'P\\xaf\\xa8\\xf9Tw\\x00\\x00'</td>\n",
       "      <td>4.0</td>\n",
       "      <td>-700.539734</td>\n",
       "      <td>...</td>\n",
       "      <td>1.0</td>\n",
       "      <td>NaN</td>\n",
       "      <td>NaN</td>\n",
       "      <td>375.0</td>\n",
       "      <td>NaN</td>\n",
       "      <td>64.0</td>\n",
       "      <td>0</td>\n",
       "      <td>0</td>\n",
       "      <td>81522</td>\n",
       "      <td>12</td>\n",
       "    </tr>\n",
       "    <tr>\n",
       "      <th>23558</th>\n",
       "      <td>22100215460321130</td>\n",
       "      <td>454</td>\n",
       "      <td>11</td>\n",
       "      <td>4</td>\n",
       "      <td>56</td>\n",
       "      <td>14</td>\n",
       "      <td>35</td>\n",
       "      <td>b'P\\xaf\\xa8\\xf9Tw\\x00\\x00'</td>\n",
       "      <td>4.0</td>\n",
       "      <td>-636.766541</td>\n",
       "      <td>...</td>\n",
       "      <td>0.0</td>\n",
       "      <td>NaN</td>\n",
       "      <td>NaN</td>\n",
       "      <td>NaN</td>\n",
       "      <td>NaN</td>\n",
       "      <td>404.0</td>\n",
       "      <td>0</td>\n",
       "      <td>0</td>\n",
       "      <td>12442</td>\n",
       "      <td>11</td>\n",
       "    </tr>\n",
       "    <tr>\n",
       "      <th>23559</th>\n",
       "      <td>22100217104993650</td>\n",
       "      <td>610</td>\n",
       "      <td>11</td>\n",
       "      <td>6</td>\n",
       "      <td>55</td>\n",
       "      <td>13</td>\n",
       "      <td>33</td>\n",
       "      <td>b'P\\xaf\\xa8\\xf9Tw\\x00\\x00'</td>\n",
       "      <td>4.0</td>\n",
       "      <td>-699.527161</td>\n",
       "      <td>...</td>\n",
       "      <td>0.0</td>\n",
       "      <td>NaN</td>\n",
       "      <td>NaN</td>\n",
       "      <td>8.0</td>\n",
       "      <td>NaN</td>\n",
       "      <td>0.0</td>\n",
       "      <td>0</td>\n",
       "      <td>0</td>\n",
       "      <td>16894</td>\n",
       "      <td>11</td>\n",
       "    </tr>\n",
       "    <tr>\n",
       "      <th>23560</th>\n",
       "      <td>22100219442786200</td>\n",
       "      <td>423</td>\n",
       "      <td>11</td>\n",
       "      <td>4</td>\n",
       "      <td>49</td>\n",
       "      <td>12</td>\n",
       "      <td>33</td>\n",
       "      <td>b'P\\xaf\\xa8\\xf9Tw\\x00\\x00'</td>\n",
       "      <td>4.0</td>\n",
       "      <td>-614.243408</td>\n",
       "      <td>...</td>\n",
       "      <td>0.0</td>\n",
       "      <td>NaN</td>\n",
       "      <td>NaN</td>\n",
       "      <td>246.0</td>\n",
       "      <td>NaN</td>\n",
       "      <td>0.0</td>\n",
       "      <td>0</td>\n",
       "      <td>0</td>\n",
       "      <td>8371</td>\n",
       "      <td>9</td>\n",
       "    </tr>\n",
       "    <tr>\n",
       "      <th>23561</th>\n",
       "      <td>22100221145014656</td>\n",
       "      <td>760</td>\n",
       "      <td>11</td>\n",
       "      <td>4</td>\n",
       "      <td>54</td>\n",
       "      <td>13</td>\n",
       "      <td>36</td>\n",
       "      <td>b'P\\xaf\\xa8\\xf9Tw\\x00\\x00'</td>\n",
       "      <td>4.0</td>\n",
       "      <td>-572.394836</td>\n",
       "      <td>...</td>\n",
       "      <td>0.0</td>\n",
       "      <td>NaN</td>\n",
       "      <td>NaN</td>\n",
       "      <td>22.0</td>\n",
       "      <td>NaN</td>\n",
       "      <td>2.0</td>\n",
       "      <td>8173</td>\n",
       "      <td>3</td>\n",
       "      <td>20216</td>\n",
       "      <td>10</td>\n",
       "    </tr>\n",
       "  </tbody>\n",
       "</table>\n",
       "<p>5 rows × 1902 columns</p>\n",
       "</div>"
      ],
      "text/plain": [
       "              session_id  session_number_  event_name_unique_  name_unique_  \\\n",
       "23557  22100215342220508              424                  11             4   \n",
       "23558  22100215460321130              454                  11             4   \n",
       "23559  22100217104993650              610                  11             6   \n",
       "23560  22100219442786200              423                  11             4   \n",
       "23561  22100221145014656              760                  11             4   \n",
       "\n",
       "       fqid_unique_  room_fqid_unique_  text_fqid_unique_  \\\n",
       "23557            52                 12                 33   \n",
       "23558            56                 14                 35   \n",
       "23559            55                 13                 33   \n",
       "23560            49                 12                 33   \n",
       "23561            54                 13                 36   \n",
       "\n",
       "                                   page_quantile2_  room_coor_x_quantile2_  \\\n",
       "23557  b'P\\xaf\\xa8\\xf9Tw\\x00\\x00'              4.0             -700.539734   \n",
       "23558  b'P\\xaf\\xa8\\xf9Tw\\x00\\x00'              4.0             -636.766541   \n",
       "23559  b'P\\xaf\\xa8\\xf9Tw\\x00\\x00'              4.0             -699.527161   \n",
       "23560  b'P\\xaf\\xa8\\xf9Tw\\x00\\x00'              4.0             -614.243408   \n",
       "23561  b'P\\xaf\\xa8\\xf9Tw\\x00\\x00'              4.0             -572.394836   \n",
       "\n",
       "       ...  object_click_ET_min_x  object_hover_ET_min_x  map_hover_ET_min_x  \\\n",
       "23557  ...                    1.0                    NaN                 NaN   \n",
       "23558  ...                    0.0                    NaN                 NaN   \n",
       "23559  ...                    0.0                    NaN                 NaN   \n",
       "23560  ...                    0.0                    NaN                 NaN   \n",
       "23561  ...                    0.0                    NaN                 NaN   \n",
       "\n",
       "       map_click_ET_min_x  checkpoint_ET_min_x  notebook_click_ET_min_x  \\\n",
       "23557               375.0                  NaN                     64.0   \n",
       "23558                 NaN                  NaN                    404.0   \n",
       "23559                 8.0                  NaN                      0.0   \n",
       "23560               246.0                  NaN                      0.0   \n",
       "23561                22.0                  NaN                      2.0   \n",
       "\n",
       "       reader_flag_duration  reader_flag_indexCount  \\\n",
       "23557                     0                       0   \n",
       "23558                     0                       0   \n",
       "23559                     0                       0   \n",
       "23560                     0                       0   \n",
       "23561                  8173                       3   \n",
       "\n",
       "       journalsFlag_bingo_duration  journalsFlag_bingo_indexCount  \n",
       "23557                        81522                             12  \n",
       "23558                        12442                             11  \n",
       "23559                        16894                             11  \n",
       "23560                         8371                              9  \n",
       "23561                        20216                             10  \n",
       "\n",
       "[5 rows x 1902 columns]"
      ]
     },
     "execution_count": 31,
     "metadata": {},
     "output_type": "execute_result"
    }
   ],
   "source": [
    "df3.tail(5)"
   ]
  },
  {
   "cell_type": "code",
   "execution_count": 32,
   "id": "b9b5d83a",
   "metadata": {
    "execution": {
     "iopub.execute_input": "2023-04-05T16:01:17.451439Z",
     "iopub.status.busy": "2023-04-05T16:01:17.450261Z",
     "iopub.status.idle": "2023-04-05T16:01:20.077906Z",
     "shell.execute_reply": "2023-04-05T16:01:20.076854Z"
    },
    "papermill": {
     "duration": 2.64667,
     "end_time": "2023-04-05T16:01:20.080940",
     "exception": false,
     "start_time": "2023-04-05T16:01:17.434270",
     "status": "completed"
    },
    "tags": []
   },
   "outputs": [
    {
     "name": "stdout",
     "output_type": "stream",
     "text": [
      "1088 835 726\n",
      "*********df1 DONE*********\n",
      "*********df2 DONE*********\n",
      "*********df3 DONE*********\n"
     ]
    }
   ],
   "source": [
    "# some cleaning...\n",
    "null1 = df1.isnull().sum().sort_values(ascending=False) / len(df1)\n",
    "null2 = df2.isnull().sum().sort_values(ascending=False) / len(df1)\n",
    "null3 = df3.isnull().sum().sort_values(ascending=False) / len(df1)\n",
    "\n",
    "drop1 = list(null1[null1>0.9].index)\n",
    "drop2 = list(null2[null2>0.9].index)\n",
    "drop3 = list(null3[null3>0.9].index)\n",
    "print(len(drop1), len(drop2), len(drop3))\n",
    "\n",
    "for col in df1.columns:\n",
    "    if df1[col].nunique()==1:\n",
    "        #print(col)\n",
    "        drop1.append(col)\n",
    "print(\"*********df1 DONE*********\")\n",
    "for col in df2.columns:\n",
    "    if df2[col].nunique()==1:\n",
    "        #print(col)\n",
    "        drop2.append(col)\n",
    "print(\"*********df2 DONE*********\")\n",
    "for col in df3.columns:\n",
    "    if df3[col].nunique()==1:\n",
    "        #print(col)\n",
    "        drop3.append(col)\n",
    "print(\"*********df3 DONE*********\")"
   ]
  },
  {
   "cell_type": "code",
   "execution_count": 33,
   "id": "1e80e0dd",
   "metadata": {
    "execution": {
     "iopub.execute_input": "2023-04-05T16:01:20.113626Z",
     "iopub.status.busy": "2023-04-05T16:01:20.113230Z",
     "iopub.status.idle": "2023-04-05T16:01:20.673208Z",
     "shell.execute_reply": "2023-04-05T16:01:20.672081Z"
    },
    "papermill": {
     "duration": 0.579932,
     "end_time": "2023-04-05T16:01:20.676195",
     "exception": false,
     "start_time": "2023-04-05T16:01:20.096263",
     "status": "completed"
    },
    "tags": []
   },
   "outputs": [
    {
     "name": "stdout",
     "output_type": "stream",
     "text": [
      "We will train with 599 915 1063 features\n",
      "We will train with 23562 users info\n"
     ]
    }
   ],
   "source": [
    "df1 = df1.set_index('session_id')\n",
    "df2 = df2.set_index('session_id')\n",
    "df3 = df3.set_index('session_id')\n",
    "\n",
    "FEATURES1 = [c for c in df1.columns if c not in drop1+['level_group']]\n",
    "FEATURES2 = [c for c in df2.columns if c not in drop2+['level_group']]\n",
    "FEATURES3 = [c for c in df3.columns if c not in drop3+['level_group']]\n",
    "print('We will train with', len(FEATURES1), len(FEATURES2), len(FEATURES3) ,'features')\n",
    "ALL_USERS = df1.index.unique()\n",
    "print('We will train with', len(ALL_USERS) ,'users info')"
   ]
  },
  {
   "cell_type": "code",
   "execution_count": 34,
   "id": "105448ec",
   "metadata": {
    "execution": {
     "iopub.execute_input": "2023-04-05T16:01:20.708812Z",
     "iopub.status.busy": "2023-04-05T16:01:20.707806Z",
     "iopub.status.idle": "2023-04-05T16:01:20.713365Z",
     "shell.execute_reply": "2023-04-05T16:01:20.712288Z"
    },
    "papermill": {
     "duration": 0.024409,
     "end_time": "2023-04-05T16:01:20.715399",
     "exception": false,
     "start_time": "2023-04-05T16:01:20.690990",
     "status": "completed"
    },
    "tags": []
   },
   "outputs": [
    {
     "name": "stdout",
     "output_type": "stream",
     "text": [
      "<class 'pandas.core.frame.DataFrame'>\n"
     ]
    }
   ],
   "source": [
    "print(type(df1))"
   ]
  },
  {
   "cell_type": "code",
   "execution_count": 35,
   "id": "fec3afd8",
   "metadata": {
    "execution": {
     "iopub.execute_input": "2023-04-05T16:01:20.748126Z",
     "iopub.status.busy": "2023-04-05T16:01:20.747341Z",
     "iopub.status.idle": "2023-04-05T16:01:21.159143Z",
     "shell.execute_reply": "2023-04-05T16:01:21.157817Z"
    },
    "papermill": {
     "duration": 0.434994,
     "end_time": "2023-04-05T16:01:21.165791",
     "exception": false,
     "start_time": "2023-04-05T16:01:20.730797",
     "status": "completed"
    },
    "tags": []
   },
   "outputs": [
    {
     "data": {
      "text/html": [
       "<div>\n",
       "<style scoped>\n",
       "    .dataframe tbody tr th:only-of-type {\n",
       "        vertical-align: middle;\n",
       "    }\n",
       "\n",
       "    .dataframe tbody tr th {\n",
       "        vertical-align: top;\n",
       "    }\n",
       "\n",
       "    .dataframe thead th {\n",
       "        text-align: right;\n",
       "    }\n",
       "</style>\n",
       "<table border=\"1\" class=\"dataframe\">\n",
       "  <thead>\n",
       "    <tr style=\"text-align: right;\">\n",
       "      <th></th>\n",
       "      <th>session_number_</th>\n",
       "      <th>event_name_unique_</th>\n",
       "      <th>name_unique_</th>\n",
       "      <th>fqid_unique_</th>\n",
       "      <th>room_fqid_unique_</th>\n",
       "      <th>text_fqid_unique_</th>\n",
       "      <th>page_quantile2_</th>\n",
       "      <th>room_coor_x_quantile2_</th>\n",
       "      <th>room_coor_y_quantile2_</th>\n",
       "      <th>screen_coor_x_quantile2_</th>\n",
       "      <th>...</th>\n",
       "      <th>map_click_ET_max_x</th>\n",
       "      <th>notebook_click_ET_max_x</th>\n",
       "      <th>cutscene_click_ET_min_x</th>\n",
       "      <th>person_click_ET_min_x</th>\n",
       "      <th>navigate_click_ET_min_x</th>\n",
       "      <th>observation_click_ET_min_x</th>\n",
       "      <th>notification_click_ET_min_x</th>\n",
       "      <th>object_click_ET_min_x</th>\n",
       "      <th>map_click_ET_min_x</th>\n",
       "      <th>notebook_click_ET_min_x</th>\n",
       "    </tr>\n",
       "    <tr>\n",
       "      <th>session_id</th>\n",
       "      <th></th>\n",
       "      <th></th>\n",
       "      <th></th>\n",
       "      <th></th>\n",
       "      <th></th>\n",
       "      <th></th>\n",
       "      <th></th>\n",
       "      <th></th>\n",
       "      <th></th>\n",
       "      <th></th>\n",
       "      <th></th>\n",
       "      <th></th>\n",
       "      <th></th>\n",
       "      <th></th>\n",
       "      <th></th>\n",
       "      <th></th>\n",
       "      <th></th>\n",
       "      <th></th>\n",
       "      <th></th>\n",
       "      <th></th>\n",
       "      <th></th>\n",
       "    </tr>\n",
       "  </thead>\n",
       "  <tbody>\n",
       "    <tr>\n",
       "      <th>20090312431273200</th>\n",
       "      <td>165</td>\n",
       "      <td>10</td>\n",
       "      <td>3</td>\n",
       "      <td>30</td>\n",
       "      <td>7</td>\n",
       "      <td>17</td>\n",
       "      <td>NaN</td>\n",
       "      <td>-385.096222</td>\n",
       "      <td>-169.492767</td>\n",
       "      <td>263.0</td>\n",
       "      <td>...</td>\n",
       "      <td>NaN</td>\n",
       "      <td>NaN</td>\n",
       "      <td>0.0</td>\n",
       "      <td>0.0</td>\n",
       "      <td>0.0</td>\n",
       "      <td>0.0</td>\n",
       "      <td>0.0</td>\n",
       "      <td>0.0</td>\n",
       "      <td>NaN</td>\n",
       "      <td>NaN</td>\n",
       "    </tr>\n",
       "    <tr>\n",
       "      <th>20090312433251036</th>\n",
       "      <td>139</td>\n",
       "      <td>11</td>\n",
       "      <td>4</td>\n",
       "      <td>22</td>\n",
       "      <td>6</td>\n",
       "      <td>11</td>\n",
       "      <td>0.0</td>\n",
       "      <td>-394.991394</td>\n",
       "      <td>-173.583710</td>\n",
       "      <td>128.0</td>\n",
       "      <td>...</td>\n",
       "      <td>286.0</td>\n",
       "      <td>759.0</td>\n",
       "      <td>0.0</td>\n",
       "      <td>0.0</td>\n",
       "      <td>0.0</td>\n",
       "      <td>21.0</td>\n",
       "      <td>37.0</td>\n",
       "      <td>0.0</td>\n",
       "      <td>159.0</td>\n",
       "      <td>22.0</td>\n",
       "    </tr>\n",
       "    <tr>\n",
       "      <th>20090312455206810</th>\n",
       "      <td>149</td>\n",
       "      <td>9</td>\n",
       "      <td>3</td>\n",
       "      <td>22</td>\n",
       "      <td>6</td>\n",
       "      <td>12</td>\n",
       "      <td>NaN</td>\n",
       "      <td>-538.784363</td>\n",
       "      <td>-183.048019</td>\n",
       "      <td>28.0</td>\n",
       "      <td>...</td>\n",
       "      <td>NaN</td>\n",
       "      <td>NaN</td>\n",
       "      <td>0.0</td>\n",
       "      <td>0.0</td>\n",
       "      <td>0.0</td>\n",
       "      <td>NaN</td>\n",
       "      <td>0.0</td>\n",
       "      <td>0.0</td>\n",
       "      <td>NaN</td>\n",
       "      <td>NaN</td>\n",
       "    </tr>\n",
       "    <tr>\n",
       "      <th>20090313091715820</th>\n",
       "      <td>176</td>\n",
       "      <td>11</td>\n",
       "      <td>4</td>\n",
       "      <td>24</td>\n",
       "      <td>6</td>\n",
       "      <td>14</td>\n",
       "      <td>0.0</td>\n",
       "      <td>-521.218933</td>\n",
       "      <td>-213.283661</td>\n",
       "      <td>91.0</td>\n",
       "      <td>...</td>\n",
       "      <td>NaN</td>\n",
       "      <td>936.0</td>\n",
       "      <td>0.0</td>\n",
       "      <td>0.0</td>\n",
       "      <td>0.0</td>\n",
       "      <td>218.0</td>\n",
       "      <td>0.0</td>\n",
       "      <td>0.0</td>\n",
       "      <td>NaN</td>\n",
       "      <td>119.0</td>\n",
       "    </tr>\n",
       "    <tr>\n",
       "      <th>20090313571836404</th>\n",
       "      <td>112</td>\n",
       "      <td>10</td>\n",
       "      <td>4</td>\n",
       "      <td>22</td>\n",
       "      <td>6</td>\n",
       "      <td>12</td>\n",
       "      <td>0.0</td>\n",
       "      <td>-435.991394</td>\n",
       "      <td>-155.009033</td>\n",
       "      <td>213.0</td>\n",
       "      <td>...</td>\n",
       "      <td>466.0</td>\n",
       "      <td>809.0</td>\n",
       "      <td>0.0</td>\n",
       "      <td>0.0</td>\n",
       "      <td>0.0</td>\n",
       "      <td>NaN</td>\n",
       "      <td>77.0</td>\n",
       "      <td>39.0</td>\n",
       "      <td>0.0</td>\n",
       "      <td>41.0</td>\n",
       "    </tr>\n",
       "  </tbody>\n",
       "</table>\n",
       "<p>5 rows × 599 columns</p>\n",
       "</div>"
      ],
      "text/plain": [
       "                   session_number_  event_name_unique_  name_unique_  \\\n",
       "session_id                                                             \n",
       "20090312431273200              165                  10             3   \n",
       "20090312433251036              139                  11             4   \n",
       "20090312455206810              149                   9             3   \n",
       "20090313091715820              176                  11             4   \n",
       "20090313571836404              112                  10             4   \n",
       "\n",
       "                   fqid_unique_  room_fqid_unique_  text_fqid_unique_  \\\n",
       "session_id                                                              \n",
       "20090312431273200            30                  7                 17   \n",
       "20090312433251036            22                  6                 11   \n",
       "20090312455206810            22                  6                 12   \n",
       "20090313091715820            24                  6                 14   \n",
       "20090313571836404            22                  6                 12   \n",
       "\n",
       "                   page_quantile2_  room_coor_x_quantile2_  \\\n",
       "session_id                                                   \n",
       "20090312431273200              NaN             -385.096222   \n",
       "20090312433251036              0.0             -394.991394   \n",
       "20090312455206810              NaN             -538.784363   \n",
       "20090313091715820              0.0             -521.218933   \n",
       "20090313571836404              0.0             -435.991394   \n",
       "\n",
       "                   room_coor_y_quantile2_  screen_coor_x_quantile2_  ...  \\\n",
       "session_id                                                           ...   \n",
       "20090312431273200             -169.492767                     263.0  ...   \n",
       "20090312433251036             -173.583710                     128.0  ...   \n",
       "20090312455206810             -183.048019                      28.0  ...   \n",
       "20090313091715820             -213.283661                      91.0  ...   \n",
       "20090313571836404             -155.009033                     213.0  ...   \n",
       "\n",
       "                   map_click_ET_max_x  notebook_click_ET_max_x  \\\n",
       "session_id                                                       \n",
       "20090312431273200                 NaN                      NaN   \n",
       "20090312433251036               286.0                    759.0   \n",
       "20090312455206810                 NaN                      NaN   \n",
       "20090313091715820                 NaN                    936.0   \n",
       "20090313571836404               466.0                    809.0   \n",
       "\n",
       "                   cutscene_click_ET_min_x  person_click_ET_min_x  \\\n",
       "session_id                                                          \n",
       "20090312431273200                      0.0                    0.0   \n",
       "20090312433251036                      0.0                    0.0   \n",
       "20090312455206810                      0.0                    0.0   \n",
       "20090313091715820                      0.0                    0.0   \n",
       "20090313571836404                      0.0                    0.0   \n",
       "\n",
       "                   navigate_click_ET_min_x  observation_click_ET_min_x  \\\n",
       "session_id                                                               \n",
       "20090312431273200                      0.0                         0.0   \n",
       "20090312433251036                      0.0                        21.0   \n",
       "20090312455206810                      0.0                         NaN   \n",
       "20090313091715820                      0.0                       218.0   \n",
       "20090313571836404                      0.0                         NaN   \n",
       "\n",
       "                   notification_click_ET_min_x  object_click_ET_min_x  \\\n",
       "session_id                                                              \n",
       "20090312431273200                          0.0                    0.0   \n",
       "20090312433251036                         37.0                    0.0   \n",
       "20090312455206810                          0.0                    0.0   \n",
       "20090313091715820                          0.0                    0.0   \n",
       "20090313571836404                         77.0                   39.0   \n",
       "\n",
       "                   map_click_ET_min_x  notebook_click_ET_min_x  \n",
       "session_id                                                      \n",
       "20090312431273200                 NaN                      NaN  \n",
       "20090312433251036               159.0                     22.0  \n",
       "20090312455206810                 NaN                      NaN  \n",
       "20090313091715820                 NaN                    119.0  \n",
       "20090313571836404                 0.0                     41.0  \n",
       "\n",
       "[5 rows x 599 columns]"
      ]
     },
     "execution_count": 35,
     "metadata": {},
     "output_type": "execute_result"
    }
   ],
   "source": [
    "df1[FEATURES1].head(5)"
   ]
  },
  {
   "cell_type": "markdown",
   "id": "de6f54e1",
   "metadata": {
    "papermill": {
     "duration": 0.016211,
     "end_time": "2023-04-05T16:01:21.200270",
     "exception": false,
     "start_time": "2023-04-05T16:01:21.184059",
     "status": "completed"
    },
    "tags": []
   },
   "source": [
    "# Train XGBoost Model"
   ]
  },
  {
   "cell_type": "code",
   "execution_count": 36,
   "id": "0bfd4576",
   "metadata": {
    "execution": {
     "iopub.execute_input": "2023-04-05T16:01:21.235205Z",
     "iopub.status.busy": "2023-04-05T16:01:21.234093Z",
     "iopub.status.idle": "2023-04-05T16:01:21.240738Z",
     "shell.execute_reply": "2023-04-05T16:01:21.239449Z"
    },
    "papermill": {
     "duration": 0.026848,
     "end_time": "2023-04-05T16:01:21.243232",
     "exception": false,
     "start_time": "2023-04-05T16:01:21.216384",
     "status": "completed"
    },
    "tags": []
   },
   "outputs": [],
   "source": [
    "# With previous training notebook (Kfold with 20 folds as performed in others notebooks) :\n",
    "estimators_xgb = [498, 448, 378, 364, 405, 495, 456, 249, 384, 405, 356, 262, 484, 381, 392, 248 ,248, 345]"
   ]
  },
  {
   "cell_type": "code",
   "execution_count": 37,
   "id": "010a2d1f",
   "metadata": {
    "execution": {
     "iopub.execute_input": "2023-04-05T16:01:21.277832Z",
     "iopub.status.busy": "2023-04-05T16:01:21.277001Z",
     "iopub.status.idle": "2023-04-05T16:01:21.284014Z",
     "shell.execute_reply": "2023-04-05T16:01:21.282621Z"
    },
    "papermill": {
     "duration": 0.027657,
     "end_time": "2023-04-05T16:01:21.286679",
     "exception": false,
     "start_time": "2023-04-05T16:01:21.259022",
     "status": "completed"
    },
    "tags": []
   },
   "outputs": [],
   "source": [
    "xgb_params = {\n",
    "        'booster': 'gbtree',\n",
    "        'tree_method': 'hist',\n",
    "        'objective': 'binary:logistic',\n",
    "        'eval_metric':'logloss',\n",
    "        'learning_rate': 0.02,\n",
    "        'alpha': 8,\n",
    "        'max_depth': 4,\n",
    "        'subsample':0.8,\n",
    "        'colsample_bytree': 0.5,\n",
    "        'seed': 42\n",
    "        }"
   ]
  },
  {
   "cell_type": "code",
   "execution_count": 38,
   "id": "12aee7e4",
   "metadata": {
    "execution": {
     "iopub.execute_input": "2023-04-05T16:01:21.320694Z",
     "iopub.status.busy": "2023-04-05T16:01:21.320250Z",
     "iopub.status.idle": "2023-04-05T16:14:13.227052Z",
     "shell.execute_reply": "2023-04-05T16:14:13.225189Z"
    },
    "papermill": {
     "duration": 771.940026,
     "end_time": "2023-04-05T16:14:13.242646",
     "exception": false,
     "start_time": "2023-04-05T16:01:21.302620",
     "status": "completed"
    },
    "tags": []
   },
   "outputs": [
    {
     "name": "stdout",
     "output_type": "stream",
     "text": [
      "model XGB saved for question 1 with iterations = 498\n",
      "model XGB saved for question 2 with iterations = 448\n",
      "model XGB saved for question 3 with iterations = 378\n",
      "model XGB saved for question 4 with iterations = 364\n",
      "model XGB saved for question 5 with iterations = 405\n",
      "model XGB saved for question 6 with iterations = 495\n",
      "model XGB saved for question 7 with iterations = 456\n",
      "model XGB saved for question 8 with iterations = 249\n",
      "model XGB saved for question 9 with iterations = 384\n",
      "model XGB saved for question 10 with iterations = 405\n",
      "model XGB saved for question 11 with iterations = 356\n",
      "model XGB saved for question 12 with iterations = 262\n",
      "model XGB saved for question 13 with iterations = 484\n",
      "model XGB saved for question 14 with iterations = 381\n",
      "model XGB saved for question 15 with iterations = 392\n",
      "model XGB saved for question 16 with iterations = 248\n",
      "model XGB saved for question 17 with iterations = 248\n",
      "model XGB saved for question 18 with iterations = 345\n",
      "CPU times: user 25min 9s, sys: 9.76 s, total: 25min 19s\n",
      "Wall time: 12min 51s\n"
     ]
    }
   ],
   "source": [
    "%%time\n",
    "warnings.filterwarnings(\"ignore\")\n",
    "\n",
    "targets['session'] = targets.session_id.apply(lambda x: int(x.split('_')[0]))\n",
    "targets['q'] = targets.session_id.apply(lambda x: int(x.split('_')[-1][1:]))\n",
    "pred_xgb = np.zeros((df1.shape[0],18))     \n",
    "\n",
    "for t in range(1,19):\n",
    "#for t in range(1,2):\n",
    "    # USE THIS TRAIN DATA WITH THESE QUESTIONS\n",
    "    if t<=3: \n",
    "        grp = '0-4'\n",
    "        df = df1\n",
    "        FEATURES = FEATURES1\n",
    "\n",
    "    elif t<=13: \n",
    "        grp = '5-12'\n",
    "        df = df2\n",
    "        FEATURES = FEATURES2\n",
    "\n",
    "    elif t<=22: \n",
    "        grp = '13-22'\n",
    "        df = df3\n",
    "        FEATURES = FEATURES3\n",
    "        \n",
    "    xgb_params['n_estimators'] = estimators_xgb[t-1]\n",
    "     \n",
    "    # TRAIN DATA\n",
    "    train_users = df.index.values\n",
    "    train_y = targets.loc[targets.q==t].set_index('session').loc[train_users] \n",
    "\n",
    "    clf =  XGBClassifier(**xgb_params)\n",
    "    clf.fit(df[FEATURES].astype('float32'), train_y['correct'], verbose = 0)\n",
    "    clf.save_model(f'XGB_question{t}.xgb')\n",
    "    \n",
    "    print(f'model XGB saved for question {t} with iterations = {estimators_xgb[t-1]}')"
   ]
  },
  {
   "cell_type": "markdown",
   "id": "5a1cf405",
   "metadata": {
    "papermill": {
     "duration": 0.01667,
     "end_time": "2023-04-05T16:14:13.276091",
     "exception": false,
     "start_time": "2023-04-05T16:14:13.259421",
     "status": "completed"
    },
    "tags": []
   },
   "source": [
    "# Submission Jo Wilder"
   ]
  },
  {
   "cell_type": "code",
   "execution_count": 39,
   "id": "9654831e",
   "metadata": {
    "execution": {
     "iopub.execute_input": "2023-04-05T16:14:13.313701Z",
     "iopub.status.busy": "2023-04-05T16:14:13.312916Z",
     "iopub.status.idle": "2023-04-05T16:14:13.340189Z",
     "shell.execute_reply": "2023-04-05T16:14:13.339013Z"
    },
    "papermill": {
     "duration": 0.04908,
     "end_time": "2023-04-05T16:14:13.342792",
     "exception": false,
     "start_time": "2023-04-05T16:14:13.293712",
     "status": "completed"
    },
    "tags": []
   },
   "outputs": [],
   "source": [
    "import jo_wilder\n",
    "env = jo_wilder.make_env()\n",
    "iter_test = env.iter_test()"
   ]
  },
  {
   "cell_type": "code",
   "execution_count": 40,
   "id": "b56ef211",
   "metadata": {
    "execution": {
     "iopub.execute_input": "2023-04-05T16:14:13.380052Z",
     "iopub.status.busy": "2023-04-05T16:14:13.379021Z",
     "iopub.status.idle": "2023-04-05T16:14:14.363600Z",
     "shell.execute_reply": "2023-04-05T16:14:14.362546Z"
    },
    "papermill": {
     "duration": 1.006829,
     "end_time": "2023-04-05T16:14:14.367208",
     "exception": false,
     "start_time": "2023-04-05T16:14:13.360379",
     "status": "completed"
    },
    "tags": []
   },
   "outputs": [
    {
     "name": "stdout",
     "output_type": "stream",
     "text": [
      "This version of the API is not optimized and should not be used to estimate the runtime of your code on the hidden test set.\n"
     ]
    }
   ],
   "source": [
    "limits = {'0-4':(1,4), '5-12':(4,14), '13-22':(14,19)}\n",
    "\n",
    "for test, sample_submission in iter_test:\n",
    "    sample_submission['question'] = [int(label.split('_')[1][1:]) for label in sample_submission['session_id']]\n",
    "    grp = test.level_group.values[0]\n",
    "    a,b = limits[grp]\n",
    "    \n",
    "    # ------------------- level 0-4 ---------------------------------\n",
    "    if a == 1:\n",
    "        FEATURES = FEATURES1\n",
    "        test = (pl.from_pandas(test)\n",
    "                  .drop([\"fullscreen\", \"hq\", \"music\"])\n",
    "                  .with_columns(columns))\n",
    "        test = feature_engineer_pl(test, grp, use_extra=True, feature_suffix='')\n",
    "        test = test[FEATURES]\n",
    "            \n",
    "\n",
    "    # ------------------- level 5-12 ---------------------------------\n",
    "    elif a == 4:\n",
    "        FEATURES = FEATURES2\n",
    "        test = (pl.from_pandas(test)\n",
    "                  .drop([\"fullscreen\", \"hq\", \"music\"])\n",
    "                  .with_columns(columns))\n",
    "        test = feature_engineer_pl(test, grp, use_extra=True, feature_suffix='')\n",
    "        test = test[FEATURES]\n",
    "\n",
    "    # ------------------- level 13-22 ---------------------------------    \n",
    "    elif a == 14:\n",
    "        FEATURES = FEATURES3\n",
    "        test = (pl.from_pandas(test)\n",
    "                  .drop([\"fullscreen\", \"hq\", \"music\"])\n",
    "                  .with_columns(columns))\n",
    "        test = feature_engineer_pl(test, grp, use_extra=True, feature_suffix='')\n",
    "        test = test[FEATURES]\n",
    "    \n",
    "\n",
    "    # INFER TEST DATA\n",
    "    \n",
    "    for t in range(a,b):\n",
    "        clf = XGBClassifier()\n",
    "        clf.load_model(f'/kaggle/working/XGB_question{t}.xgb')\n",
    "        p = clf.predict_proba(test.astype('float32'))[:,1]\n",
    "        mask = sample_submission.question == t    \n",
    "        sample_submission.loc[mask, 'correct'] = (p > 0.625).astype('int') \n",
    "    env.predict(sample_submission[['session_id', 'correct']])"
   ]
  },
  {
   "cell_type": "code",
   "execution_count": 41,
   "id": "198298a3",
   "metadata": {
    "execution": {
     "iopub.execute_input": "2023-04-05T16:14:14.405300Z",
     "iopub.status.busy": "2023-04-05T16:14:14.403060Z",
     "iopub.status.idle": "2023-04-05T16:14:14.420963Z",
     "shell.execute_reply": "2023-04-05T16:14:14.419750Z"
    },
    "papermill": {
     "duration": 0.038787,
     "end_time": "2023-04-05T16:14:14.423601",
     "exception": false,
     "start_time": "2023-04-05T16:14:14.384814",
     "status": "completed"
    },
    "tags": []
   },
   "outputs": [
    {
     "data": {
      "text/html": [
       "<div>\n",
       "<style scoped>\n",
       "    .dataframe tbody tr th:only-of-type {\n",
       "        vertical-align: middle;\n",
       "    }\n",
       "\n",
       "    .dataframe tbody tr th {\n",
       "        vertical-align: top;\n",
       "    }\n",
       "\n",
       "    .dataframe thead th {\n",
       "        text-align: right;\n",
       "    }\n",
       "</style>\n",
       "<table border=\"1\" class=\"dataframe\">\n",
       "  <thead>\n",
       "    <tr style=\"text-align: right;\">\n",
       "      <th></th>\n",
       "      <th>session_id</th>\n",
       "      <th>correct</th>\n",
       "    </tr>\n",
       "  </thead>\n",
       "  <tbody>\n",
       "    <tr>\n",
       "      <th>0</th>\n",
       "      <td>20090109393214576_q1</td>\n",
       "      <td>1</td>\n",
       "    </tr>\n",
       "    <tr>\n",
       "      <th>1</th>\n",
       "      <td>20090312143683264_q1</td>\n",
       "      <td>0</td>\n",
       "    </tr>\n",
       "    <tr>\n",
       "      <th>2</th>\n",
       "      <td>20090312331414616_q1</td>\n",
       "      <td>1</td>\n",
       "    </tr>\n",
       "    <tr>\n",
       "      <th>3</th>\n",
       "      <td>20090109393214576_q2</td>\n",
       "      <td>1</td>\n",
       "    </tr>\n",
       "    <tr>\n",
       "      <th>4</th>\n",
       "      <td>20090312143683264_q2</td>\n",
       "      <td>1</td>\n",
       "    </tr>\n",
       "    <tr>\n",
       "      <th>5</th>\n",
       "      <td>20090312331414616_q2</td>\n",
       "      <td>1</td>\n",
       "    </tr>\n",
       "    <tr>\n",
       "      <th>6</th>\n",
       "      <td>20090109393214576_q3</td>\n",
       "      <td>1</td>\n",
       "    </tr>\n",
       "    <tr>\n",
       "      <th>7</th>\n",
       "      <td>20090312143683264_q3</td>\n",
       "      <td>1</td>\n",
       "    </tr>\n",
       "    <tr>\n",
       "      <th>8</th>\n",
       "      <td>20090312331414616_q3</td>\n",
       "      <td>1</td>\n",
       "    </tr>\n",
       "    <tr>\n",
       "      <th>9</th>\n",
       "      <td>20090109393214576_q4</td>\n",
       "      <td>1</td>\n",
       "    </tr>\n",
       "  </tbody>\n",
       "</table>\n",
       "</div>"
      ],
      "text/plain": [
       "             session_id  correct\n",
       "0  20090109393214576_q1        1\n",
       "1  20090312143683264_q1        0\n",
       "2  20090312331414616_q1        1\n",
       "3  20090109393214576_q2        1\n",
       "4  20090312143683264_q2        1\n",
       "5  20090312331414616_q2        1\n",
       "6  20090109393214576_q3        1\n",
       "7  20090312143683264_q3        1\n",
       "8  20090312331414616_q3        1\n",
       "9  20090109393214576_q4        1"
      ]
     },
     "execution_count": 41,
     "metadata": {},
     "output_type": "execute_result"
    }
   ],
   "source": [
    "pd.read_csv('submission.csv').head(10)\n",
    "#print(\"count1: \",count1)"
   ]
  },
  {
   "cell_type": "code",
   "execution_count": null,
   "id": "3e1359b8",
   "metadata": {
    "papermill": {
     "duration": 0.01683,
     "end_time": "2023-04-05T16:14:14.458872",
     "exception": false,
     "start_time": "2023-04-05T16:14:14.442042",
     "status": "completed"
    },
    "tags": []
   },
   "outputs": [],
   "source": []
  },
  {
   "cell_type": "code",
   "execution_count": null,
   "id": "289b2869",
   "metadata": {
    "papermill": {
     "duration": 0.016642,
     "end_time": "2023-04-05T16:14:14.492462",
     "exception": false,
     "start_time": "2023-04-05T16:14:14.475820",
     "status": "completed"
    },
    "tags": []
   },
   "outputs": [],
   "source": []
  }
 ],
 "metadata": {
  "kernelspec": {
   "display_name": "Python 3",
   "language": "python",
   "name": "python3"
  },
  "language_info": {
   "codemirror_mode": {
    "name": "ipython",
    "version": 3
   },
   "file_extension": ".py",
   "mimetype": "text/x-python",
   "name": "python",
   "nbconvert_exporter": "python",
   "pygments_lexer": "ipython3",
   "version": "3.7.12"
  },
  "papermill": {
   "default_parameters": {},
   "duration": 926.253544,
   "end_time": "2023-04-05T16:14:16.039898",
   "environment_variables": {},
   "exception": null,
   "input_path": "__notebook__.ipynb",
   "output_path": "__notebook__.ipynb",
   "parameters": {},
   "start_time": "2023-04-05T15:58:49.786354",
   "version": "2.4.0"
  }
 },
 "nbformat": 4,
 "nbformat_minor": 5
}
